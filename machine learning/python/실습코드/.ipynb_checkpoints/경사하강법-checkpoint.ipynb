{
 "cells": [
  {
   "cell_type": "code",
   "execution_count": 7,
   "id": "b6a23caf-4b20-42ec-be99-9108e5bb1504",
   "metadata": {},
   "outputs": [],
   "source": [
    "from IPython.display import YouTubeVideo, Image\n",
    "import numpy as np\n",
    "import matplotlib.pyplot as plt"
   ]
  },
  {
   "cell_type": "code",
   "execution_count": 2,
   "id": "4cf1d24f-f5d6-45d6-ab5c-c95971f03930",
   "metadata": {},
   "outputs": [
    {
     "name": "stdout",
     "output_type": "stream",
     "text": [
      "Collecting package metadata (current_repodata.json): ...working... done\n",
      "Solving environment: ...working... done\n",
      "\n",
      "## Package Plan ##\n",
      "\n",
      "  environment location: C:\\Users\\LSH\\anaconda3\\envs\\test\n",
      "\n",
      "  added / updated specs:\n",
      "    - ipython\n",
      "\n",
      "\n",
      "The following packages will be SUPERSEDED by a higher-priority channel:\n",
      "\n",
      "  ca-certificates    conda-forge::ca-certificates-2022.6.1~ --> anaconda::ca-certificates-2022.4.26-haa95532_0\n",
      "  certifi            conda-forge::certifi-2022.6.15-py38ha~ --> anaconda::certifi-2022.6.15-py38haa95532_0\n",
      "  openssl            conda-forge::openssl-1.1.1q-h8ffe710_0 --> pkgs/main::openssl-1.1.1q-h2bbff1b_0\n",
      "\n",
      "\n",
      "Preparing transaction: ...working... done\n",
      "Verifying transaction: ...working... done\n",
      "Executing transaction: ...working... done\n"
     ]
    }
   ],
   "source": [
    "!conda install -y -c anaconda ipython"
   ]
  },
  {
   "cell_type": "code",
   "execution_count": 87,
   "id": "bb156318-133d-4168-a770-4eaa061c39cb",
   "metadata": {},
   "outputs": [
    {
     "data": {
      "image/png": "[encoded data removed]",
      "text/plain": [
       "<Figure size 720x504 with 1 Axes>"
      ]
     },
     "metadata": {
      "needs_background": "light"
     },
     "output_type": "display_data"
    },
    {
     "name": "stdout",
     "output_type": "stream",
     "text": [
      "w: 0.3, b: 0.5\n"
     ]
    }
   ],
   "source": [
    "# 데이터 셋 만들기(기울기)(상수)(b = 바이오스)\n",
    "def make_linear(w=0.5, b=0.8, size=50, noise=1.0):\n",
    "    x = np.random.rand(size)\n",
    "    y = w * x * b\n",
    "    noise = np.random.uniform(-abs(noise), abs(noise), size=y.shape)\n",
    "    yy = y + noise\n",
    "    plt.figure(figsize=(10,7))\n",
    "    plt.plot(x,y,color='r', label=f'y = {w}*x + {b}')\n",
    "    plt.scatter(x, yy, label='data')\n",
    "    plt.legend(fontsize=20)\n",
    "    plt.show()\n",
    "    print(f'w: {w}, b: {b}')\n",
    "    return x, yy\n",
    "x, y = make_linear(w=0.3, b=0.5, size=100,noise =0.01)"
   ]
  },
  {
   "cell_type": "code",
   "execution_count": 63,
   "id": "a6711755-1f45-4b1e-a7d3-64c385415234",
   "metadata": {},
   "outputs": [],
   "source": [
    "# 퍼셉트론(스칼라)\n",
    "epsilon = 0.0000001\n",
    "def perceptron(x):\n",
    "    # 변수 초기화\n",
    "    w1, b = 0.3, 0.5\n",
    "    # Affine function(f(x)=mx+b)\n",
    "    sum = x*w1+b\n",
    "    # Activation function\n",
    "    if sum > epsilon:\n",
    "        return 1\n",
    "    else:\n",
    "        return 0"
   ]
  },
  {
   "cell_type": "code",
   "execution_count": 21,
   "id": "0b0df6e1-1cc9-41bb-bc80-00cf0b089baf",
   "metadata": {},
   "outputs": [
    {
     "data": {
      "text/plain": [
       "1"
      ]
     },
     "execution_count": 21,
     "metadata": {},
     "output_type": "execute_result"
    }
   ],
   "source": [
    "perceptron(0.000000000000000000000000000000000000000000000000000001)"
   ]
  },
  {
   "cell_type": "code",
   "execution_count": 88,
   "id": "e73695b4-6324-46dd-9e1a-3fcbf0ccf36a",
   "metadata": {},
   "outputs": [],
   "source": [
    "# 최적화 (optimizer)\n",
    "# 최대 반복 횟수\n",
    "num_epoch = 1000\n",
    "# 학습율(learning rate)\n",
    "learning_rate = 0.00005\n",
    "# 에러 기록\n",
    "errors = []\n",
    "w = np.random.uniform(low=0.0, high=1.0)\n",
    "b = np.random.uniform(low=0.0, high=1.0)"
   ]
  },
  {
   "cell_type": "code",
   "execution_count": 89,
   "id": "cb87db92-9235-47df-a2cc-0fb55be7f772",
   "metadata": {},
   "outputs": [
    {
     "data": {
      "text/plain": [
       "(0.8092405849161654, 0.6348006333910917)"
      ]
     },
     "execution_count": 89,
     "metadata": {},
     "output_type": "execute_result"
    }
   ],
   "source": [
    "w,b"
   ]
  },
  {
   "cell_type": "code",
   "execution_count": 90,
   "id": "f6fa2c9f-c9e2-4cc4-95e0-3ccea0dfeef4",
   "metadata": {},
   "outputs": [
    {
     "name": "stdout",
     "output_type": "stream",
     "text": [
      " 0 w = 0.80651, b = 0.62997 error = 48.67160\n",
      " 5 w = 0.79308, b = 0.60629 error = 45.67768\n",
      "10 w = 0.78006, b = 0.58335 error = 42.86888\n",
      "15 w = 0.76744, b = 0.56115 error = 40.23375\n",
      "20 w = 0.75520, b = 0.53964 error = 37.76156\n",
      "25 w = 0.74333, b = 0.51882 error = 35.44221\n",
      "30 w = 0.73182, b = 0.49867 error = 33.26626\n",
      "35 w = 0.72066, b = 0.47915 error = 31.22484\n",
      "40 w = 0.70984, b = 0.46025 error = 29.30963\n",
      "45 w = 0.69935, b = 0.44196 error = 27.51282\n",
      "50 w = 0.68917, b = 0.42424 error = 25.82709\n",
      "55 w = 0.67930, b = 0.40709 error = 24.24556\n",
      "60 w = 0.66973, b = 0.39049 error = 22.76180\n",
      "65 w = 0.66044, b = 0.37441 error = 21.36976\n",
      "70 w = 0.65143, b = 0.35885 error = 20.06376\n",
      "75 w = 0.64270, b = 0.34378 error = 18.83848\n",
      "80 w = 0.63422, b = 0.32919 error = 17.68893\n",
      "85 w = 0.62600, b = 0.31507 error = 16.61043\n",
      "90 w = 0.61802, b = 0.30140 error = 15.59857\n",
      "95 w = 0.61028, b = 0.28816 error = 14.64925\n",
      "100 w = 0.60278, b = 0.27535 error = 13.75859\n",
      "105 w = 0.59549, b = 0.26295 error = 12.92296\n",
      "110 w = 0.58842, b = 0.25094 error = 12.13896\n",
      "115 w = 0.58156, b = 0.23932 error = 11.40340\n",
      "120 w = 0.57491, b = 0.22807 error = 10.71328\n",
      "125 w = 0.56845, b = 0.21718 error = 10.06579\n",
      "130 w = 0.56218, b = 0.20664 error = 9.45829\n",
      "135 w = 0.55609, b = 0.19644 error = 8.88832\n",
      "140 w = 0.55018, b = 0.18656 error = 8.35354\n",
      "145 w = 0.54445, b = 0.17700 error = 7.85179\n",
      "150 w = 0.53888, b = 0.16775 error = 7.38101\n",
      "155 w = 0.53348, b = 0.15880 error = 6.93931\n",
      "160 w = 0.52823, b = 0.15013 error = 6.52486\n",
      "165 w = 0.52314, b = 0.14175 error = 6.13600\n",
      "170 w = 0.51819, b = 0.13363 error = 5.77114\n",
      "175 w = 0.51339, b = 0.12578 error = 5.42879\n",
      "180 w = 0.50873, b = 0.11817 error = 5.10757\n",
      "185 w = 0.50420, b = 0.11082 error = 4.80616\n",
      "190 w = 0.49979, b = 0.10370 error = 4.52334\n",
      "195 w = 0.49552, b = 0.09681 error = 4.25796\n",
      "200 w = 0.49137, b = 0.09015 error = 4.00895\n",
      "205 w = 0.48733, b = 0.08370 error = 3.77528\n",
      "210 w = 0.48341, b = 0.07746 error = 3.55601\n",
      "215 w = 0.47960, b = 0.07143 error = 3.35026\n",
      "220 w = 0.47590, b = 0.06559 error = 3.15718\n",
      "225 w = 0.47231, b = 0.05994 error = 2.97599\n",
      "230 w = 0.46881, b = 0.05447 error = 2.80596\n",
      "235 w = 0.46541, b = 0.04918 error = 2.64639\n",
      "240 w = 0.46211, b = 0.04407 error = 2.49665\n",
      "245 w = 0.45889, b = 0.03912 error = 2.35611\n",
      "250 w = 0.45577, b = 0.03433 error = 2.22422\n",
      "255 w = 0.45273, b = 0.02971 error = 2.10043\n",
      "260 w = 0.44978, b = 0.02523 error = 1.98425\n",
      "265 w = 0.44690, b = 0.02090 error = 1.87521\n",
      "270 w = 0.44411, b = 0.01671 error = 1.77286\n",
      "275 w = 0.44139, b = 0.01266 error = 1.67680\n",
      "280 w = 0.43874, b = 0.00875 error = 1.58662\n",
      "285 w = 0.43617, b = 0.00496 error = 1.50198\n",
      "290 w = 0.43366, b = 0.00130 error = 1.42252\n",
      "295 w = 0.43123, b = -0.00224 error = 1.34793\n",
      "300 w = 0.42885, b = -0.00566 error = 1.27790\n",
      "305 w = 0.42654, b = -0.00896 error = 1.21216\n",
      "310 w = 0.42429, b = -0.01216 error = 1.15043\n",
      "315 w = 0.42210, b = -0.01525 error = 1.09247\n",
      "320 w = 0.41997, b = -0.01824 error = 1.03805\n",
      "325 w = 0.41789, b = -0.02112 error = 0.98695\n",
      "330 w = 0.41586, b = -0.02391 error = 0.93897\n",
      "335 w = 0.41389, b = -0.02661 error = 0.89390\n",
      "340 w = 0.41196, b = -0.02921 error = 0.85158\n",
      "345 w = 0.41009, b = -0.03173 error = 0.81182\n",
      "350 w = 0.40826, b = -0.03416 error = 0.77448\n",
      "355 w = 0.40648, b = -0.03651 error = 0.73940\n",
      "360 w = 0.40474, b = -0.03878 error = 0.70644\n",
      "365 w = 0.40305, b = -0.04097 error = 0.67548\n",
      "370 w = 0.40140, b = -0.04308 error = 0.64638\n",
      "375 w = 0.39979, b = -0.04513 error = 0.61904\n",
      "380 w = 0.39821, b = -0.04710 error = 0.59335\n",
      "385 w = 0.39668, b = -0.04900 error = 0.56920\n",
      "390 w = 0.39518, b = -0.05084 error = 0.54649\n",
      "395 w = 0.39372, b = -0.05261 error = 0.52515\n",
      "400 w = 0.39229, b = -0.05433 error = 0.50508\n",
      "405 w = 0.39089, b = -0.05598 error = 0.48621\n",
      "410 w = 0.38953, b = -0.05757 error = 0.46846\n",
      "415 w = 0.38820, b = -0.05911 error = 0.45176\n",
      "420 w = 0.38690, b = -0.06059 error = 0.43605\n",
      "425 w = 0.38563, b = -0.06202 error = 0.42127\n",
      "430 w = 0.38439, b = -0.06340 error = 0.40736\n",
      "435 w = 0.38317, b = -0.06473 error = 0.39427\n",
      "440 w = 0.38199, b = -0.06602 error = 0.38194\n",
      "445 w = 0.38082, b = -0.06725 error = 0.37033\n",
      "450 w = 0.37969, b = -0.06844 error = 0.35940\n",
      "455 w = 0.37858, b = -0.06959 error = 0.34910\n",
      "460 w = 0.37749, b = -0.07069 error = 0.33939\n",
      "465 w = 0.37642, b = -0.07176 error = 0.33024\n",
      "470 w = 0.37538, b = -0.07278 error = 0.32161\n",
      "475 w = 0.37436, b = -0.07377 error = 0.31348\n",
      "480 w = 0.37336, b = -0.07472 error = 0.30580\n",
      "485 w = 0.37238, b = -0.07563 error = 0.29856\n",
      "490 w = 0.37142, b = -0.07651 error = 0.29172\n",
      "495 w = 0.37048, b = -0.07736 error = 0.28527\n",
      "500 w = 0.36956, b = -0.07817 error = 0.27917\n",
      "505 w = 0.36865, b = -0.07895 error = 0.27341\n",
      "510 w = 0.36777, b = -0.07970 error = 0.26796\n",
      "515 w = 0.36690, b = -0.08043 error = 0.26281\n",
      "520 w = 0.36604, b = -0.08112 error = 0.25793\n",
      "525 w = 0.36520, b = -0.08178 error = 0.25332\n",
      "530 w = 0.36438, b = -0.08242 error = 0.24895\n",
      "535 w = 0.36357, b = -0.08303 error = 0.24481\n",
      "540 w = 0.36278, b = -0.08362 error = 0.24088\n",
      "545 w = 0.36200, b = -0.08418 error = 0.23716\n",
      "550 w = 0.36124, b = -0.08472 error = 0.23363\n",
      "555 w = 0.36049, b = -0.08524 error = 0.23027\n",
      "560 w = 0.35975, b = -0.08573 error = 0.22708\n",
      "565 w = 0.35902, b = -0.08621 error = 0.22405\n",
      "570 w = 0.35830, b = -0.08666 error = 0.22117\n",
      "575 w = 0.35760, b = -0.08709 error = 0.21843\n",
      "580 w = 0.35691, b = -0.08750 error = 0.21581\n",
      "585 w = 0.35623, b = -0.08790 error = 0.21332\n",
      "590 w = 0.35556, b = -0.08827 error = 0.21095\n",
      "595 w = 0.35490, b = -0.08863 error = 0.20868\n",
      "600 w = 0.35425, b = -0.08897 error = 0.20651\n",
      "605 w = 0.35361, b = -0.08930 error = 0.20444\n",
      "610 w = 0.35298, b = -0.08961 error = 0.20246\n",
      "615 w = 0.35236, b = -0.08990 error = 0.20056\n",
      "620 w = 0.35175, b = -0.09018 error = 0.19874\n",
      "625 w = 0.35115, b = -0.09044 error = 0.19700\n",
      "630 w = 0.35055, b = -0.09069 error = 0.19532\n",
      "635 w = 0.34997, b = -0.09093 error = 0.19371\n",
      "640 w = 0.34939, b = -0.09115 error = 0.19217\n",
      "645 w = 0.34882, b = -0.09136 error = 0.19068\n",
      "650 w = 0.34825, b = -0.09156 error = 0.18924\n",
      "655 w = 0.34770, b = -0.09175 error = 0.18786\n",
      "660 w = 0.34715, b = -0.09192 error = 0.18652\n",
      "665 w = 0.34661, b = -0.09209 error = 0.18523\n",
      "670 w = 0.34607, b = -0.09224 error = 0.18399\n",
      "675 w = 0.34554, b = -0.09238 error = 0.18278\n",
      "680 w = 0.34502, b = -0.09252 error = 0.18161\n",
      "685 w = 0.34450, b = -0.09264 error = 0.18048\n",
      "690 w = 0.34399, b = -0.09275 error = 0.17938\n",
      "695 w = 0.34349, b = -0.09286 error = 0.17831\n",
      "700 w = 0.34299, b = -0.09295 error = 0.17727\n",
      "705 w = 0.34249, b = -0.09304 error = 0.17627\n",
      "710 w = 0.34201, b = -0.09312 error = 0.17528\n",
      "715 w = 0.34152, b = -0.09319 error = 0.17432\n",
      "720 w = 0.34104, b = -0.09325 error = 0.17339\n",
      "725 w = 0.34057, b = -0.09331 error = 0.17248\n",
      "730 w = 0.34010, b = -0.09335 error = 0.17159\n",
      "735 w = 0.33964, b = -0.09340 error = 0.17072\n",
      "740 w = 0.33918, b = -0.09343 error = 0.16986\n",
      "745 w = 0.33872, b = -0.09346 error = 0.16903\n",
      "750 w = 0.33827, b = -0.09348 error = 0.16821\n",
      "755 w = 0.33782, b = -0.09349 error = 0.16741\n",
      "760 w = 0.33738, b = -0.09350 error = 0.16662\n",
      "765 w = 0.33694, b = -0.09351 error = 0.16585\n",
      "770 w = 0.33651, b = -0.09351 error = 0.16509\n",
      "775 w = 0.33608, b = -0.09350 error = 0.16434\n",
      "780 w = 0.33565, b = -0.09349 error = 0.16361\n",
      "785 w = 0.33522, b = -0.09347 error = 0.16288\n",
      "790 w = 0.33480, b = -0.09345 error = 0.16217\n",
      "795 w = 0.33439, b = -0.09342 error = 0.16147\n",
      "800 w = 0.33397, b = -0.09339 error = 0.16078\n",
      "805 w = 0.33356, b = -0.09335 error = 0.16009\n",
      "810 w = 0.33315, b = -0.09331 error = 0.15942\n",
      "815 w = 0.33275, b = -0.09327 error = 0.15875\n",
      "820 w = 0.33234, b = -0.09322 error = 0.15810\n",
      "825 w = 0.33194, b = -0.09317 error = 0.15745\n",
      "830 w = 0.33155, b = -0.09311 error = 0.15680\n",
      "835 w = 0.33115, b = -0.09305 error = 0.15617\n",
      "840 w = 0.33076, b = -0.09299 error = 0.15554\n",
      "845 w = 0.33037, b = -0.09293 error = 0.15492\n",
      "850 w = 0.32999, b = -0.09286 error = 0.15430\n",
      "855 w = 0.32960, b = -0.09278 error = 0.15369\n",
      "860 w = 0.32922, b = -0.09271 error = 0.15308\n",
      "865 w = 0.32884, b = -0.09263 error = 0.15249\n",
      "870 w = 0.32847, b = -0.09255 error = 0.15189\n",
      "875 w = 0.32809, b = -0.09247 error = 0.15130\n",
      "880 w = 0.32772, b = -0.09238 error = 0.15072\n",
      "885 w = 0.32735, b = -0.09229 error = 0.15014\n",
      "890 w = 0.32698, b = -0.09220 error = 0.14956\n",
      "895 w = 0.32662, b = -0.09211 error = 0.14899\n",
      "900 w = 0.32625, b = -0.09201 error = 0.14842\n",
      "905 w = 0.32589, b = -0.09192 error = 0.14786\n",
      "910 w = 0.32553, b = -0.09182 error = 0.14730\n",
      "915 w = 0.32517, b = -0.09171 error = 0.14674\n",
      "920 w = 0.32481, b = -0.09161 error = 0.14619\n",
      "925 w = 0.32446, b = -0.09151 error = 0.14564\n",
      "930 w = 0.32411, b = -0.09140 error = 0.14509\n",
      "935 w = 0.32375, b = -0.09129 error = 0.14455\n",
      "940 w = 0.32340, b = -0.09118 error = 0.14401\n",
      "945 w = 0.32306, b = -0.09107 error = 0.14348\n",
      "950 w = 0.32271, b = -0.09095 error = 0.14294\n",
      "955 w = 0.32236, b = -0.09084 error = 0.14241\n",
      "960 w = 0.32202, b = -0.09072 error = 0.14189\n",
      "965 w = 0.32168, b = -0.09060 error = 0.14136\n",
      "970 w = 0.32134, b = -0.09048 error = 0.14084\n",
      "975 w = 0.32100, b = -0.09036 error = 0.14032\n",
      "980 w = 0.32066, b = -0.09024 error = 0.13980\n",
      "985 w = 0.32032, b = -0.09012 error = 0.13929\n",
      "990 w = 0.31999, b = -0.08999 error = 0.13878\n",
      "995 w = 0.31965, b = -0.08987 error = 0.13827\n",
      "============================================================\n",
      "999 w = 0.31939, b = -0.08977 error = 0.13786\n"
     ]
    }
   ],
   "source": [
    "for epoch in range(num_epoch):\n",
    "    # Hypothesis 정의\n",
    "    y_hat = w * x + b\n",
    "    # loss funsion 정의(y\n",
    "    error = 0.5 * ((y_hat -y)** 2).sum()#mse\n",
    "    if error < 0.005:\n",
    "        break\n",
    "    # Gradient 미분 계산(가중치 업데이트)\n",
    "    w = w - learning_rate * ((y_hat -y) * x).sum() # 방향이 0으로 가게끔 설정\n",
    "    b = b - learning_rate * (y_hat - y).sum()\n",
    "    \n",
    "    errors.append(error)\n",
    "    if epoch % 5 ==0:\n",
    "        print('{0:2} w = {1:.5f}, b = {2:.5f} error = {3:.5f}'.format(epoch, w, b, error))\n",
    "print('==='*20)\n",
    "print('{0:2} w = {1:.5f}, b = {2:.5f} error = {3:.5f}'.format(epoch, w, b, error))"
   ]
  },
  {
   "cell_type": "code",
   "execution_count": 91,
   "id": "d2781de5-ac49-4c86-b883-3d995c5bedb5",
   "metadata": {},
   "outputs": [
    {
     "data": {
      "image/png": "[encoded data removed]",
      "text/plain": [
       "<Figure size 720x504 with 1 Axes>"
      ]
     },
     "metadata": {
      "needs_background": "light"
     },
     "output_type": "display_data"
    }
   ],
   "source": [
    "plt.figure(figsize=(10,7))\n",
    "plt.plot(errors)\n",
    "plt.xlabel('Epochs')\n",
    "plt.ylabel('Error')\n",
    "plt.show()"
   ]
  },
  {
   "cell_type": "code",
   "execution_count": null,
   "id": "6db9ec22-ab6c-49b0-b688-50dfb24e3909",
   "metadata": {},
   "outputs": [],
   "source": []
  }
 ],
 "metadata": {
  "kernelspec": {
   "display_name": "test",
   "language": "python",
   "name": "test"
  },
  "language_info": {
   "codemirror_mode": {
    "name": "ipython",
    "version": 3
   },
   "file_extension": ".py",
   "mimetype": "text/x-python",
   "name": "python",
   "nbconvert_exporter": "python",
   "pygments_lexer": "ipython3",
   "version": "3.8.13"
  }
 },
 "nbformat": 4,
 "nbformat_minor": 5
}
