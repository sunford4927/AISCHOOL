{
 "cells": [
  {
   "cell_type": "code",
   "execution_count": 1,
   "id": "1c263ceb-01ae-48af-86bd-7b4d2d84163d",
   "metadata": {},
   "outputs": [
    {
     "name": "stderr",
     "output_type": "stream",
     "text": [
      "C:\\Users\\LSH\\anaconda3\\envs\\test\\lib\\site-packages\\scipy\\__init__.py:146: UserWarning: A NumPy version >=1.16.5 and <1.23.0 is required for this version of SciPy (detected version 1.23.1\n",
      "  warnings.warn(f\"A NumPy version >={np_minversion} and <{np_maxversion}\"\n"
     ]
    }
   ],
   "source": [
    "import numpy as np\n",
    "import matplotlib.pyplot as plt\n",
    "import tensorflow as tf"
   ]
  },
  {
   "cell_type": "code",
   "execution_count": 2,
   "id": "4b36b8ec-4c76-4a9c-85d2-035f1ec0eed1",
   "metadata": {},
   "outputs": [],
   "source": [
    "%matplotlib inline"
   ]
  },
  {
   "cell_type": "code",
   "execution_count": 3,
   "id": "122f9878-676a-4547-a555-c3ec272e7cf2",
   "metadata": {},
   "outputs": [],
   "source": [
    "#데이터불러오기\n",
    "from tensorflow.keras import datasets"
   ]
  },
  {
   "cell_type": "code",
   "execution_count": 4,
   "id": "55bd2ec0-c346-4614-9762-c7599277a61d",
   "metadata": {},
   "outputs": [],
   "source": [
    "mnist =datasets.mnist"
   ]
  },
  {
   "cell_type": "code",
   "execution_count": 5,
   "id": "429c1086-a573-46df-aceb-d6d81ba4ff31",
   "metadata": {},
   "outputs": [],
   "source": [
    "(train_x,train_y), (test_x,test_y) = mnist.load_data()"
   ]
  },
  {
   "cell_type": "code",
   "execution_count": 6,
   "id": "2f724b6e-dc93-495a-b2c2-8b139e7a6208",
   "metadata": {},
   "outputs": [
    {
     "data": {
      "text/plain": [
       "((60000, 28, 28), (60000,))"
      ]
     },
     "execution_count": 6,
     "metadata": {},
     "output_type": "execute_result"
    }
   ],
   "source": [
    "train_x.shape, train_y.shape"
   ]
  },
  {
   "cell_type": "code",
   "execution_count": 7,
   "id": "ec38240c-a563-4fd3-b22e-46de42c71775",
   "metadata": {},
   "outputs": [],
   "source": [
    "# Image Dataset 들여다 보기"
   ]
  },
  {
   "cell_type": "code",
   "execution_count": 10,
   "id": "e03dd3f1-e050-42d9-a9b9-0e681aecf27f",
   "metadata": {},
   "outputs": [
    {
     "data": {
      "text/plain": [
       "(28, 28)"
      ]
     },
     "execution_count": 10,
     "metadata": {},
     "output_type": "execute_result"
    }
   ],
   "source": [
    "image = train_x[1]\n",
    "image.shape"
   ]
  },
  {
   "cell_type": "code",
   "execution_count": 11,
   "id": "2494d025-ae5c-4282-bbe7-4d71ff4dca4b",
   "metadata": {},
   "outputs": [
    {
     "data": {
      "image/png": "[encoded data removed]",
      "text/plain": [
       "<Figure size 432x288 with 1 Axes>"
      ]
     },
     "metadata": {
      "needs_background": "light"
     },
     "output_type": "display_data"
    }
   ],
   "source": [
    "plt.imshow(image, 'gray')\n",
    "plt.show()"
   ]
  },
  {
   "cell_type": "markdown",
   "id": "8a2c5514-f9c8-4155-b851-d38070fbc712",
   "metadata": {},
   "source": [
    "# Channel 관련\n",
    "### .[Batch size, Height, Width, Channel]\n",
    "Channel\n",
    "- Grayscale = 1\n",
    "- RGB = 3"
   ]
  },
  {
   "cell_type": "markdown",
   "id": "5f85defe-2fc7-46fe-9182-9b9224e19dc3",
   "metadata": {},
   "source": [
    "## 데이터 차원 늘리기(Numpy)\n"
   ]
  },
  {
   "cell_type": "code",
   "execution_count": 15,
   "id": "e9b4a1b2-e8eb-4433-b329-d38ec9a6fa64",
   "metadata": {},
   "outputs": [
    {
     "data": {
      "text/plain": [
       "(60000, 28, 28, 1)"
      ]
     },
     "execution_count": 15,
     "metadata": {},
     "output_type": "execute_result"
    }
   ],
   "source": [
    "new_train_x = np.expand_dims(train_x, -1)\n",
    "new_train_x.shape"
   ]
  },
  {
   "cell_type": "code",
   "execution_count": 14,
   "id": "2658df03-d616-47cb-954d-68409b264526",
   "metadata": {},
   "outputs": [
    {
     "ename": "AttributeError",
     "evalue": "module 'tensorflow' has no attribute 'expend_dims'",
     "output_type": "error",
     "traceback": [
      "\u001b[1;31m---------------------------------------------------------------------------\u001b[0m",
      "\u001b[1;31mAttributeError\u001b[0m                            Traceback (most recent call last)",
      "Input \u001b[1;32mIn [14]\u001b[0m, in \u001b[0;36m<cell line: 1>\u001b[1;34m()\u001b[0m\n\u001b[1;32m----> 1\u001b[0m new_train_x \u001b[38;5;241m=\u001b[39m \u001b[43mtf\u001b[49m\u001b[38;5;241;43m.\u001b[39;49m\u001b[43mexpend_dims\u001b[49m(train_x, \u001b[38;5;241m-\u001b[39m\u001b[38;5;241m1\u001b[39m)\n\u001b[0;32m      2\u001b[0m new_train_x\u001b[38;5;241m.\u001b[39mshape\n",
      "\u001b[1;31mAttributeError\u001b[0m: module 'tensorflow' has no attribute 'expend_dims'"
     ]
    }
   ],
   "source": [
    "new_train_x = tf.expend_dims(train_x, -1)\n",
    "new_train_x.shape"
   ]
  },
  {
   "cell_type": "code",
   "execution_count": 1,
   "id": "b17e9dae-fae8-40a4-bf3a-7fd43ee14458",
   "metadata": {},
   "outputs": [
    {
     "name": "stderr",
     "output_type": "stream",
     "text": [
      "C:\\Users\\LSH\\anaconda3\\envs\\test\\lib\\site-packages\\scipy\\__init__.py:146: UserWarning: A NumPy version >=1.16.5 and <1.23.0 is required for this version of SciPy (detected version 1.23.1\n",
      "  warnings.warn(f\"A NumPy version >={np_minversion} and <{np_maxversion}\"\n"
     ]
    }
   ],
   "source": [
    "import numpy as np\n",
    "import matplotlib.pyplot as plt\n",
    "import tensorflow as tf"
   ]
  },
  {
   "cell_type": "code",
   "execution_count": 2,
   "id": "0a5f626e-830e-4cc5-a120-059b1f67442f",
   "metadata": {},
   "outputs": [],
   "source": [
    "%matplotlib inline"
   ]
  },
  {
   "cell_type": "code",
   "execution_count": 3,
   "id": "2eceb79e-8fdf-498c-b208-46012b93e200",
   "metadata": {},
   "outputs": [],
   "source": [
    "#데이터불러오기\n",
    "from tensorflow.keras import datasets"
   ]
  },
  {
   "cell_type": "code",
   "execution_count": 4,
   "id": "10808b34-7ea1-45bf-9102-ca78391d296e",
   "metadata": {},
   "outputs": [],
   "source": [
    "mnist =datasets.mnist"
   ]
  },
  {
   "cell_type": "code",
   "execution_count": 5,
   "id": "8c346f82-ef3c-47c3-abf6-b73213efba82",
   "metadata": {},
   "outputs": [],
   "source": [
    "(train_x,train_y), (test_x,test_y) = mnist.load_data()"
   ]
  },
  {
   "cell_type": "code",
   "execution_count": 6,
   "id": "d1283a7b-8f1a-4362-a593-4942c249ccc6",
   "metadata": {},
   "outputs": [
    {
     "data": {
      "text/plain": [
       "((60000, 28, 28), (60000,))"
      ]
     },
     "execution_count": 6,
     "metadata": {},
     "output_type": "execute_result"
    }
   ],
   "source": [
    "train_x.shape, train_y.shape"
   ]
  },
  {
   "cell_type": "code",
   "execution_count": 7,
   "id": "d756e703-eb8d-4f57-a5e0-47573d2cff8e",
   "metadata": {},
   "outputs": [],
   "source": [
    "# Image Dataset 들여다 보기"
   ]
  },
  {
   "cell_type": "code",
   "execution_count": 10,
   "id": "3165d478-311d-4305-ab3d-ea3103a7e74f",
   "metadata": {},
   "outputs": [
    {
     "data": {
      "text/plain": [
       "(28, 28)"
      ]
     },
     "execution_count": 10,
     "metadata": {},
     "output_type": "execute_result"
    }
   ],
   "source": [
    "image = train_x[1]\n",
    "image.shape"
   ]
  },
  {
   "cell_type": "code",
   "execution_count": 11,
   "id": "56d36bb6-8f58-4d22-a4ee-4138a00403cc",
   "metadata": {},
   "outputs": [
    {
     "data": {
      "image/png": "[encoded data removed]",
      "text/plain": [
       "<Figure size 432x288 with 1 Axes>"
      ]
     },
     "metadata": {
      "needs_background": "light"
     },
     "output_type": "display_data"
    }
   ],
   "source": [
    "plt.imshow(image, 'gray')\n",
    "plt.show()"
   ]
  },
  {
   "cell_type": "markdown",
   "id": "5accea11-3661-4e7d-b49c-eda779dc6f3a",
   "metadata": {},
   "source": [
    "# Channel 관련\n",
    "### .[Batch size, Height, Width, Channel]\n",
    "Channel\n",
    "- Grayscale = 1\n",
    "- RGB = 3"
   ]
  },
  {
   "cell_type": "markdown",
   "id": "7c97768e-5de3-40db-9e1f-ff04b97243db",
   "metadata": {},
   "source": [
    "## 데이터 차원 늘리기(Numpy)\n"
   ]
  },
  {
   "cell_type": "code",
   "execution_count": 15,
   "id": "d92866ba-a8fd-4392-bdd2-fa9cd9bdc502",
   "metadata": {},
   "outputs": [
    {
     "data": {
      "text/plain": [
       "(60000, 28, 28, 1)"
      ]
     },
     "execution_count": 15,
     "metadata": {},
     "output_type": "execute_result"
    }
   ],
   "source": [
    "new_train_x = np.expand_dims(train_x, -1)\n",
    "new_train_x.shape"
   ]
  },
  {
   "cell_type": "code",
   "execution_count": 14,
   "id": "4126608f-4c75-40d7-a394-0740faae799d",
   "metadata": {},
   "outputs": [
    {
     "ename": "AttributeError",
     "evalue": "module 'tensorflow' has no attribute 'expend_dims'",
     "output_type": "error",
     "traceback": [
      "\u001b[1;31m---------------------------------------------------------------------------\u001b[0m",
      "\u001b[1;31mAttributeError\u001b[0m                            Traceback (most recent call last)",
      "Input \u001b[1;32mIn [14]\u001b[0m, in \u001b[0;36m<cell line: 1>\u001b[1;34m()\u001b[0m\n\u001b[1;32m----> 1\u001b[0m new_train_x \u001b[38;5;241m=\u001b[39m \u001b[43mtf\u001b[49m\u001b[38;5;241;43m.\u001b[39;49m\u001b[43mexpend_dims\u001b[49m(train_x, \u001b[38;5;241m-\u001b[39m\u001b[38;5;241m1\u001b[39m)\n\u001b[0;32m      2\u001b[0m new_train_x\u001b[38;5;241m.\u001b[39mshape\n",
      "\u001b[1;31mAttributeError\u001b[0m: module 'tensorflow' has no attribute 'expend_dims'"
     ]
    }
   ],
   "source": [
    "new_train_x = tf.expend_dims(train_x, -1)\n",
    "new_train_x.shape"
   ]
  },
  {
   "cell_type": "code",
   "execution_count": 16,
   "id": "fb52eabb-c9f6-43f6-843a-81990c53446c",
   "metadata": {},
   "outputs": [],
   "source": []
  },
  {
   "cell_type": "code",
   "execution_count": null,
   "id": "f6603fbb-f453-40c6-b141-64143fced0eb",
   "metadata": {},
   "outputs": [],
   "source": []
  }
 ],
 "metadata": {
  "kernelspec": {
   "display_name": "test",
   "language": "python",
   "name": "test"
  },
  "language_info": {
   "codemirror_mode": {
    "name": "ipython",
    "version": 3
   },
   "file_extension": ".py",
   "mimetype": "text/x-python",
   "name": "python",
   "nbconvert_exporter": "python",
   "pygments_lexer": "ipython3",
   "version": "3.8.13"
  }
 },
 "nbformat": 4,
 "nbformat_minor": 5
}
