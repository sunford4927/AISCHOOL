{
 "cells": [
  {
   "cell_type": "code",
   "execution_count": 33,
   "id": "f84132c6",
   "metadata": {},
   "outputs": [],
   "source": [
    "import tensorflow as tf"
   ]
  },
  {
   "cell_type": "code",
   "execution_count": 3,
   "id": "1d6c887c",
   "metadata": {},
   "outputs": [
    {
     "name": "stdout",
     "output_type": "stream",
     "text": [
      "^C\n",
      "\n",
      "Note: you may need to restart the kernel to use updated packages.\n"
     ]
    }
   ],
   "source": [
    "conda install -y-c anaconda pandas"
   ]
  },
  {
   "cell_type": "code",
   "execution_count": 34,
   "id": "65247760",
   "metadata": {},
   "outputs": [
    {
     "data": {
      "text/plain": [
       "'1.23.2'"
      ]
     },
     "execution_count": 34,
     "metadata": {},
     "output_type": "execute_result"
    }
   ],
   "source": [
    "np.__version__"
   ]
  },
  {
   "cell_type": "code",
   "execution_count": 35,
   "id": "183ee9fc",
   "metadata": {},
   "outputs": [],
   "source": [
    "import numpy as np"
   ]
  },
  {
   "cell_type": "code",
   "execution_count": 5,
   "id": "632c8edf",
   "metadata": {},
   "outputs": [
    {
     "ename": "ModuleNotFoundError",
     "evalue": "No module named 'pandas'",
     "output_type": "error",
     "traceback": [
      "\u001b[1;31m---------------------------------------------------------------------------\u001b[0m",
      "\u001b[1;31mModuleNotFoundError\u001b[0m                       Traceback (most recent call last)",
      "Input \u001b[1;32mIn [5]\u001b[0m, in \u001b[0;36m<cell line: 1>\u001b[1;34m()\u001b[0m\n\u001b[1;32m----> 1\u001b[0m \u001b[38;5;28;01mimport\u001b[39;00m \u001b[38;5;21;01mpandas\u001b[39;00m \u001b[38;5;28;01mas\u001b[39;00m \u001b[38;5;21;01mpd\u001b[39;00m\n",
      "\u001b[1;31mModuleNotFoundError\u001b[0m: No module named 'pandas'"
     ]
    }
   ],
   "source": [
    "import pandas as pd"
   ]
  },
  {
   "cell_type": "code",
   "execution_count": 6,
   "id": "4633e0e8",
   "metadata": {},
   "outputs": [
    {
     "name": "stdout",
     "output_type": "stream",
     "text": [
      "tf.Tensor(1.0, shape=(), dtype=float32)\n",
      "tf.Tensor(2.0, shape=(), dtype=float32)\n"
     ]
    }
   ],
   "source": [
    "#스칼라 정의(상수)\n",
    "a = tf.constant(1.)\n",
    "b = tf.constant(2.)\n",
    "print(a)\n",
    "print(b)"
   ]
  },
  {
   "cell_type": "code",
   "execution_count": 7,
   "id": "9a5903f1",
   "metadata": {},
   "outputs": [
    {
     "name": "stdout",
     "output_type": "stream",
     "text": [
      "tf.Tensor(0, shape=(), dtype=int32)\n"
     ]
    }
   ],
   "source": [
    "print(tf.rank(a))"
   ]
  },
  {
   "cell_type": "code",
   "execution_count": 8,
   "id": "28ba5423",
   "metadata": {},
   "outputs": [],
   "source": [
    "c = 1.0"
   ]
  },
  {
   "cell_type": "code",
   "execution_count": 9,
   "id": "fd3310b8",
   "metadata": {},
   "outputs": [
    {
     "name": "stdout",
     "output_type": "stream",
     "text": [
      "<class 'tensorflow.python.framework.ops.EagerTensor'> <class 'float'>\n"
     ]
    }
   ],
   "source": [
    "print(type(a),type(c))"
   ]
  },
  {
   "cell_type": "code",
   "execution_count": 10,
   "id": "6281b510",
   "metadata": {},
   "outputs": [
    {
     "name": "stdout",
     "output_type": "stream",
     "text": [
      "<dtype: 'int32'>\n",
      "<dtype: 'int32'>\n"
     ]
    }
   ],
   "source": [
    "#자료형 변환\n",
    "a = tf.cast(a, tf.int32)\n",
    "b = tf.cast(b, tf.int32)\n",
    "print(a.dtype)\n",
    "print(b.dtype)"
   ]
  },
  {
   "cell_type": "code",
   "execution_count": 11,
   "id": "aa03b7a4",
   "metadata": {},
   "outputs": [
    {
     "name": "stdout",
     "output_type": "stream",
     "text": [
      "tf.Tensor(-1, shape=(), dtype=int32)\n"
     ]
    }
   ],
   "source": [
    "print(tf.math.subtract(a,b))"
   ]
  },
  {
   "cell_type": "code",
   "execution_count": 14,
   "id": "7f89365b",
   "metadata": {},
   "outputs": [
    {
     "name": "stdout",
     "output_type": "stream",
     "text": [
      "tf.Tensor(0.5, shape=(), dtype=float64)\n"
     ]
    }
   ],
   "source": [
    "print(tf.math.divide(a,b))"
   ]
  },
  {
   "cell_type": "code",
   "execution_count": 15,
   "id": "d834eb13-9b43-4b96-a90a-cfe415c39c68",
   "metadata": {},
   "outputs": [
    {
     "name": "stdout",
     "output_type": "stream",
     "text": [
      "tf.Tensor(1, shape=(), dtype=int32)\n"
     ]
    }
   ],
   "source": [
    "print(tf.math.mod(a,b))"
   ]
  },
  {
   "cell_type": "code",
   "execution_count": 16,
   "id": "1b318ecd-03a9-4638-88f5-d4c5d0f1c760",
   "metadata": {},
   "outputs": [
    {
     "name": "stdout",
     "output_type": "stream",
     "text": [
      "tf.Tensor(0, shape=(), dtype=int32)\n"
     ]
    }
   ],
   "source": [
    "print(tf.math.floordiv(a,b))"
   ]
  },
  {
   "cell_type": "code",
   "execution_count": 31,
   "id": "3554d9a5-4456-4f8e-9b35-70b76412c6ef",
   "metadata": {},
   "outputs": [
    {
     "name": "stdout",
     "output_type": "stream",
     "text": [
      "tf.Tensor([10. 20. 30.], shape=(3,), dtype=float32)\n",
      "tf.Tensor([10. 10. 10.], shape=(3,), dtype=float32)\n"
     ]
    }
   ],
   "source": [
    "#벡터 정의\n",
    "py_list = [10.,20.,30.]#파이썬 리스트\n",
    "num_arr = np.array([10.,10.,10.])# 넘파이 배열\n",
    "vec1 = tf.constant(py_list, dtype=tf.float32)#float뒤 숫자는 바이트를 나타냄\n",
    "vec2 = tf.constant(num_arr, dtype=tf.float32)\n",
    "print(vec1)\n",
    "print(vec2)"
   ]
  },
  {
   "cell_type": "code",
   "execution_count": 32,
   "id": "38a5e78f-0f6c-4cbe-9c61-14ef5f4bea05",
   "metadata": {},
   "outputs": [
    {
     "name": "stdout",
     "output_type": "stream",
     "text": [
      "tf.Tensor(1, shape=(), dtype=int32)\n",
      "tf.Tensor(1, shape=(), dtype=int32)\n"
     ]
    }
   ],
   "source": [
    "print(tf.rank(vec1))\n",
    "print(tf.rank(vec2))"
   ]
  },
  {
   "cell_type": "code",
   "execution_count": 33,
   "id": "abed681d-588d-4f4c-92f7-100a72c5faf7",
   "metadata": {},
   "outputs": [
    {
     "name": "stdout",
     "output_type": "stream",
     "text": [
      "tf.Tensor([20. 30. 40.], shape=(3,), dtype=float32)\n",
      "tf.Tensor(1, shape=(), dtype=int32)\n"
     ]
    }
   ],
   "source": [
    "add1 = tf.math.add(vec1,vec2)\n",
    "print(add1)\n",
    "print(tf.rank(add1))"
   ]
  },
  {
   "cell_type": "code",
   "execution_count": 34,
   "id": "adee7479-ddcb-4f58-821b-77e895a8819c",
   "metadata": {},
   "outputs": [
    {
     "name": "stdout",
     "output_type": "stream",
     "text": [
      "tf.Tensor([ 0. 10. 20.], shape=(3,), dtype=float32)\n"
     ]
    }
   ],
   "source": [
    "print(vec1 - vec2)"
   ]
  },
  {
   "cell_type": "code",
   "execution_count": 35,
   "id": "cdfe75ef-456a-4c76-997b-0a6b6ed6da5a",
   "metadata": {},
   "outputs": [
    {
     "name": "stdout",
     "output_type": "stream",
     "text": [
      "tf.Tensor(60.0, shape=(), dtype=float32)\n"
     ]
    }
   ],
   "source": [
    "print(tf.reduce_sum(vec1))"
   ]
  },
  {
   "cell_type": "code",
   "execution_count": 36,
   "id": "6fb976ba-7d8a-4648-bd9b-8fc8ee4c2cf8",
   "metadata": {},
   "outputs": [
    {
     "name": "stdout",
     "output_type": "stream",
     "text": [
      "tf.Tensor([100. 400. 900.], shape=(3,), dtype=float32)\n"
     ]
    }
   ],
   "source": [
    "print(tf.math.square(vec1))"
   ]
  },
  {
   "cell_type": "code",
   "execution_count": 37,
   "id": "11ac38e0-069a-45c2-a5cc-4e0c53c32667",
   "metadata": {},
   "outputs": [
    {
     "name": "stdout",
     "output_type": "stream",
     "text": [
      "tf.Tensor([3.1622777 3.1622777 3.1622777], shape=(3,), dtype=float32)\n"
     ]
    }
   ],
   "source": [
    "#제곱근\n",
    "print(tf.math.sqrt(vec2))"
   ]
  },
  {
   "cell_type": "code",
   "execution_count": 38,
   "id": "3e88ab32-820b-45d8-bd3b-7ecfdc38bb2e",
   "metadata": {},
   "outputs": [
    {
     "name": "stdout",
     "output_type": "stream",
     "text": [
      "rank tf.Tensor(2, shape=(), dtype=int32)\n"
     ]
    },
    {
     "data": {
      "text/plain": [
       "<tf.Tensor: shape=(2, 2), dtype=int32, numpy=\n",
       "array([[10, 20],\n",
       "       [30, 40]])>"
      ]
     },
     "execution_count": 38,
     "metadata": {},
     "output_type": "execute_result"
    }
   ],
   "source": [
    "#브로드 캐스팅(스칼라+벡터)\n",
    "#매트릭스\n",
    "list_of_list = [[10,20],[30,40]]\n",
    "mat1 = tf.constant(list_of_list)\n",
    "print('rank',tf.rank(mat1))\n",
    "mat1"
   ]
  },
  {
   "cell_type": "code",
   "execution_count": 39,
   "id": "1570b6eb-bc64-4295-ba8b-4147da76171c",
   "metadata": {},
   "outputs": [
    {
     "name": "stdout",
     "output_type": "stream",
     "text": [
      "tf.Tensor(2, shape=(), dtype=int32)\n"
     ]
    },
    {
     "data": {
      "text/plain": [
       "<tf.Tensor: shape=(2, 3), dtype=float32, numpy=\n",
       "array([[10., 20., 30.],\n",
       "       [10., 10., 10.]], dtype=float32)>"
      ]
     },
     "execution_count": 39,
     "metadata": {},
     "output_type": "execute_result"
    }
   ],
   "source": [
    "mat2 = tf.stack([vec1,vec2])\n",
    "print(tf.rank(mat2))\n",
    "mat2"
   ]
  },
  {
   "cell_type": "code",
   "execution_count": 40,
   "id": "f40050d6-9a92-4fba-a6eb-d8a0efbc76da",
   "metadata": {},
   "outputs": [],
   "source": [
    "mat2 = tf.constant(list_of_list)"
   ]
  },
  {
   "cell_type": "code",
   "execution_count": 43,
   "id": "efab345b-5ddd-4611-a40d-6f7d72a6f7b5",
   "metadata": {},
   "outputs": [
    {
     "name": "stdout",
     "output_type": "stream",
     "text": [
      "result tf.Tensor(\n",
      "[[ 100  400]\n",
      " [ 900 1600]], shape=(2, 2), dtype=int32)\n",
      "rank tf.Tensor(2, shape=(), dtype=int32)\n"
     ]
    }
   ],
   "source": [
    "# element by element 연산\n",
    "element_mul = tf.math.multiply(mat1,mat2)\n",
    "print('result',element_mul)\n",
    "print('rank',tf.rank(element_mul))"
   ]
  },
  {
   "cell_type": "code",
   "execution_count": 44,
   "id": "3a96a417-f5ea-423c-b693-16d91562bf66",
   "metadata": {},
   "outputs": [
    {
     "name": "stdout",
     "output_type": "stream",
     "text": [
      "result tf.Tensor(\n",
      "[[ 30  60]\n",
      " [ 90 120]], shape=(2, 2), dtype=int32)\n",
      "rank tf.Tensor(2, shape=(), dtype=int32)\n"
     ]
    }
   ],
   "source": [
    "element_bc = tf.math.multiply(mat1, 3)\n",
    "print('result',element_bc)\n",
    "print('rank',tf.rank(element_bc))"
   ]
  },
  {
   "cell_type": "code",
   "execution_count": 45,
   "id": "04d18d1d-cddd-47a7-9460-aeb3aac0ff58",
   "metadata": {},
   "outputs": [
    {
     "name": "stdout",
     "output_type": "stream",
     "text": [
      "result tf.Tensor(\n",
      "[[ 700 1000]\n",
      " [1500 2200]], shape=(2, 2), dtype=int32)\n",
      "rank tf.Tensor(2, shape=(), dtype=int32)\n"
     ]
    }
   ],
   "source": [
    "# 행렬곱(내적)\n",
    "mat_mul = tf.matmul(mat1,mat2)\n",
    "print('result',mat_mul)\n",
    "print('rank',tf.rank(mat_mul))"
   ]
  },
  {
   "cell_type": "code",
   "execution_count": 46,
   "id": "f884b7ba-f4b1-4438-8563-5aad0e81c867",
   "metadata": {},
   "outputs": [
    {
     "name": "stdout",
     "output_type": "stream",
     "text": [
      "<class 'numpy.ndarray'>\n"
     ]
    },
    {
     "data": {
      "text/plain": [
       "array([[ 700, 1000],\n",
       "       [1500, 2200]])"
      ]
     },
     "execution_count": 46,
     "metadata": {},
     "output_type": "execute_result"
    }
   ],
   "source": [
    "# 텐서플로우 넘파이로 바꾸기\n",
    "np_arr = mat_mul.numpy()\n",
    "print(type(np_arr))\n",
    "np_arr"
   ]
  },
  {
   "cell_type": "code",
   "execution_count": 48,
   "id": "7a50b525-dc59-4e2a-86ed-aaf9941b163d",
   "metadata": {},
   "outputs": [
    {
     "name": "stdout",
     "output_type": "stream",
     "text": [
      "rank tf.Tensor(3, shape=(), dtype=int32)\n",
      "tf.Tensor(\n",
      "[[[ 1  2  3  4]\n",
      "  [ 5  6  7  8]]\n",
      "\n",
      " [[ 9 10 11 12]\n",
      "  [13 14 15 16]]\n",
      "\n",
      " [[17 18 19 20]\n",
      "  [21 22 23 24]]], shape=(3, 2, 4), dtype=int32)\n"
     ]
    }
   ],
   "source": [
    "# 텐서 정의\n",
    "mat1 = [[1,2,3,4],\n",
    "        [5,6,7,8]]\n",
    "mat2 = [[9,10,11,12],\n",
    "        [13,14,15,16]]\n",
    "mat3 = [[17,18,19,20],\n",
    "        [21,22,23,24]]\n",
    "tensor1 = tf.constant([mat1,mat2,mat3])\n",
    "print('rank', tf.rank(tensor1))\n",
    "print(tensor1)"
   ]
  },
  {
   "cell_type": "code",
   "execution_count": 51,
   "id": "036aef44-06ec-4414-a686-1e785ce628e5",
   "metadata": {},
   "outputs": [
    {
     "name": "stdout",
     "output_type": "stream",
     "text": [
      "tf.Tensor([10 20 30 40 50], shape=(5,), dtype=int32)\n"
     ]
    }
   ],
   "source": [
    "vec = tf.constant([10,20,30,40,50])\n",
    "print(vec)"
   ]
  },
  {
   "cell_type": "code",
   "execution_count": 52,
   "id": "9dc4dfa4-26f8-4cec-8c63-47b0f9c84214",
   "metadata": {},
   "outputs": [
    {
     "name": "stdout",
     "output_type": "stream",
     "text": [
      "tf.Tensor(10, shape=(), dtype=int32)\n"
     ]
    }
   ],
   "source": [
    "print(vec[0])"
   ]
  },
  {
   "cell_type": "code",
   "execution_count": 53,
   "id": "f5e91f66-15c1-443b-9ea9-8875a7d77c21",
   "metadata": {},
   "outputs": [
    {
     "name": "stdout",
     "output_type": "stream",
     "text": [
      "tf.Tensor(50, shape=(), dtype=int32)\n"
     ]
    }
   ],
   "source": [
    "print(vec[-1])"
   ]
  },
  {
   "cell_type": "code",
   "execution_count": 54,
   "id": "3f72ed2e-2e08-48f5-af33-2967a78cab15",
   "metadata": {},
   "outputs": [
    {
     "name": "stdout",
     "output_type": "stream",
     "text": [
      "tf.Tensor([10 20 30 40 50], shape=(5,), dtype=int32)\n"
     ]
    }
   ],
   "source": [
    "print(vec[:])"
   ]
  },
  {
   "cell_type": "code",
   "execution_count": 67,
   "id": "e56f27cf-9364-4614-81df-7f60da440852",
   "metadata": {},
   "outputs": [
    {
     "name": "stdout",
     "output_type": "stream",
     "text": [
      "tf.Tensor(22, shape=(), dtype=int32)\n"
     ]
    }
   ],
   "source": [
    "print(tensor1[2,1,1])"
   ]
  },
  {
   "cell_type": "code",
   "execution_count": 60,
   "id": "5811dc71-d506-42bd-a40c-0b3d52c7c286",
   "metadata": {},
   "outputs": [
    {
     "name": "stdout",
     "output_type": "stream",
     "text": [
      "tf.Tensor(30, shape=(), dtype=int32)\n"
     ]
    }
   ],
   "source": [
    "mat = tf.constant([[10,20,30],\n",
    "                   [40,50,60]])\n",
    "print(mat[0,2])"
   ]
  },
  {
   "cell_type": "code",
   "execution_count": 61,
   "id": "e6ec4606-b68c-4abe-bcd0-b16845b440ab",
   "metadata": {},
   "outputs": [
    {
     "name": "stdout",
     "output_type": "stream",
     "text": [
      "tf.Tensor([10 20], shape=(2,), dtype=int32)\n"
     ]
    }
   ],
   "source": [
    "print(mat[0,:2])"
   ]
  },
  {
   "cell_type": "code",
   "execution_count": 62,
   "id": "6aa85080-4a29-466e-b892-c9811dd05b6b",
   "metadata": {},
   "outputs": [
    {
     "name": "stdout",
     "output_type": "stream",
     "text": [
      "tf.Tensor([40 50], shape=(2,), dtype=int32)\n"
     ]
    }
   ],
   "source": [
    "print(mat[1,:2])"
   ]
  },
  {
   "cell_type": "code",
   "execution_count": 72,
   "id": "057e8964-8f9d-415d-a38c-96417a259a80",
   "metadata": {},
   "outputs": [
    {
     "data": {
      "text/plain": [
       "range(0, 24)"
      ]
     },
     "execution_count": 72,
     "metadata": {},
     "output_type": "execute_result"
    }
   ],
   "source": [
    "range(0,24)"
   ]
  },
  {
   "cell_type": "code",
   "execution_count": 73,
   "id": "0bd5f20c-1296-4143-95e8-4ae29f085596",
   "metadata": {},
   "outputs": [
    {
     "name": "stdout",
     "output_type": "stream",
     "text": [
      "tf.Tensor([ 0  1  2  3  4  5  6  7  8  9 10 11 12 13 14 15 16 17 18 19 20 21 22 23], shape=(24,), dtype=int32)\n"
     ]
    }
   ],
   "source": [
    "# reshape\n",
    "tensor = tf.constant(range(0,24))\n",
    "print(tensor)\n"
   ]
  },
  {
   "cell_type": "code",
   "execution_count": 81,
   "id": "1123d819-3952-44c7-babe-f08aeed03687",
   "metadata": {},
   "outputs": [
    {
     "data": {
      "text/plain": [
       "<tf.Tensor: shape=(4, 2, 3), dtype=int32, numpy=\n",
       "array([[[ 0,  1,  2],\n",
       "        [ 3,  4,  5]],\n",
       "\n",
       "       [[ 6,  7,  8],\n",
       "        [ 9, 10, 11]],\n",
       "\n",
       "       [[12, 13, 14],\n",
       "        [15, 16, 17]],\n",
       "\n",
       "       [[18, 19, 20],\n",
       "        [21, 22, 23]]])>"
      ]
     },
     "execution_count": 81,
     "metadata": {},
     "output_type": "execute_result"
    }
   ],
   "source": [
    "tensor1 = tf.reshape(tensor,[4,2,3])\n",
    "tensor1"
   ]
  },
  {
   "cell_type": "code",
   "execution_count": 84,
   "id": "ca2df243-bba7-466c-8758-7e70b5c138f1",
   "metadata": {},
   "outputs": [
    {
     "data": {
      "text/plain": [
       "<tf.Tensor: shape=(6, 4), dtype=int32, numpy=\n",
       "array([[ 0,  1,  2,  3],\n",
       "       [ 4,  5,  6,  7],\n",
       "       [ 8,  9, 10, 11],\n",
       "       [12, 13, 14, 15],\n",
       "       [16, 17, 18, 19],\n",
       "       [20, 21, 22, 23]])>"
      ]
     },
     "execution_count": 84,
     "metadata": {},
     "output_type": "execute_result"
    }
   ],
   "source": [
    "tensor2 = tf.reshape(tensor1,[-1,4])\n",
    "tensor2"
   ]
  },
  {
   "cell_type": "code",
   "execution_count": 86,
   "id": "7b469cbc-8187-4f9c-a0c3-c4f13524e2b6",
   "metadata": {},
   "outputs": [
    {
     "data": {
      "text/plain": [
       "<tf.Tensor: shape=(24,), dtype=int32, numpy=\n",
       "array([ 0,  1,  2,  3,  4,  5,  6,  7,  8,  9, 10, 11, 12, 13, 14, 15, 16,\n",
       "       17, 18, 19, 20, 21, 22, 23])>"
      ]
     },
     "execution_count": 86,
     "metadata": {},
     "output_type": "execute_result"
    }
   ],
   "source": [
    "tensor3 = tf.reshape(tensor2,[-1])\n",
    "tensor3"
   ]
  },
  {
   "cell_type": "code",
   "execution_count": 88,
   "id": "77006f51-edd5-4a59-a574-c405206b43d4",
   "metadata": {},
   "outputs": [
    {
     "data": {
      "text/plain": [
       "<tf.Tensor: shape=(3, 2, 4), dtype=int32, numpy=\n",
       "array([[[ 0,  1,  2,  3],\n",
       "        [ 4,  5,  6,  7]],\n",
       "\n",
       "       [[ 8,  9, 10, 11],\n",
       "        [12, 13, 14, 15]],\n",
       "\n",
       "       [[16, 17, 18, 19],\n",
       "        [20, 21, 22, 23]]])>"
      ]
     },
     "execution_count": 88,
     "metadata": {},
     "output_type": "execute_result"
    }
   ],
   "source": [
    "tensor4 = tf.reshape(tensor3, [3,2,4])\n",
    "tensor4"
   ]
  },
  {
   "cell_type": "code",
   "execution_count": 92,
   "id": "8d8ad049-a885-422b-8152-c42bdd96f60b",
   "metadata": {
    "collapsed": true,
    "jupyter": {
     "outputs_hidden": true
    },
    "tags": []
   },
   "outputs": [
    {
     "data": {
      "text/plain": [
       "<tf.Tensor: shape=(3, 2, 2, 2), dtype=int32, numpy=\n",
       "array([[[[ 0,  1],\n",
       "         [ 2,  3]],\n",
       "\n",
       "        [[ 4,  5],\n",
       "         [ 6,  7]]],\n",
       "\n",
       "\n",
       "       [[[ 8,  9],\n",
       "         [10, 11]],\n",
       "\n",
       "        [[12, 13],\n",
       "         [14, 15]]],\n",
       "\n",
       "\n",
       "       [[[16, 17],\n",
       "         [18, 19]],\n",
       "\n",
       "        [[20, 21],\n",
       "         [22, 23]]]])>"
      ]
     },
     "execution_count": 92,
     "metadata": {},
     "output_type": "execute_result"
    }
   ],
   "source": [
    "tensor5 = tf.reshape(tensor4,[3,2,2,2])\n",
    "tensor5"
   ]
  },
  {
   "cell_type": "code",
   "execution_count": 93,
   "id": "e7212db2-6307-436b-a94d-35b91cf53053",
   "metadata": {},
   "outputs": [
    {
     "name": "stdout",
     "output_type": "stream",
     "text": [
      "tf.Tensor(\n",
      "[[0 1 2]\n",
      " [3 4 5]], shape=(2, 3), dtype=int32)\n"
     ]
    }
   ],
   "source": [
    "tensor1 = tf.constant([[0,1,2,],\n",
    "                       [3,4,5]])\n",
    "print(tensor1)"
   ]
  },
  {
   "cell_type": "code",
   "execution_count": 95,
   "id": "bab663ba-114f-4df5-8788-1678c63b5d11",
   "metadata": {},
   "outputs": [
    {
     "name": "stdout",
     "output_type": "stream",
     "text": [
      "<tf.Variable 'Variable:0' shape=(2, 3) dtype=int32, numpy=\n",
      "array([[0, 1, 2],\n",
      "       [3, 4, 5]])>\n"
     ]
    }
   ],
   "source": [
    "tensor_var1 = tf.Variable(tensor1)#베리어블(변경이 가능한 변수) # tf.constant (상수 변경 x)\n",
    "print(tensor_var1)"
   ]
  },
  {
   "cell_type": "code",
   "execution_count": 96,
   "id": "6273333d-713d-49c2-8799-c61781ab05af",
   "metadata": {},
   "outputs": [
    {
     "name": "stdout",
     "output_type": "stream",
     "text": [
      "이름 Variable:0\n",
      "크기 (2, 3)\n",
      "자료형 <dtype: 'int32'>\n",
      "배열 [[0 1 2]\n",
      " [3 4 5]]\n"
     ]
    }
   ],
   "source": [
    "print('이름', tensor_var1.name)\n",
    "print('크기', tensor_var1.shape)\n",
    "print('자료형', tensor_var1.dtype)\n",
    "print('배열', tensor_var1.numpy())"
   ]
  },
  {
   "cell_type": "code",
   "execution_count": 99,
   "id": "dbe16df1-cde9-46c6-9359-a2c95a1d7c04",
   "metadata": {},
   "outputs": [
    {
     "data": {
      "text/plain": [
       "<tf.Variable 'Variable:0' shape=(2, 3) dtype=int32, numpy=\n",
       "array([[1, 1, 1],\n",
       "       [2, 2, 2]])>"
      ]
     },
     "execution_count": 99,
     "metadata": {},
     "output_type": "execute_result"
    }
   ],
   "source": [
    "tensor_var1.assign([[1,1,1],[2,2,2]])\n",
    "tensor_var1"
   ]
  },
  {
   "cell_type": "code",
   "execution_count": 100,
   "id": "497f2962-ba0d-4aa5-ac8c-0175384e27d1",
   "metadata": {},
   "outputs": [
    {
     "data": {
      "text/plain": [
       "<tf.Tensor: shape=(2, 3), dtype=int32, numpy=\n",
       "array([[1, 1, 1],\n",
       "       [2, 2, 2]])>"
      ]
     },
     "execution_count": 100,
     "metadata": {},
     "output_type": "execute_result"
    }
   ],
   "source": [
    "tensor2 = tf.convert_to_tensor(tensor_var1)\n",
    "tensor2"
   ]
  },
  {
   "cell_type": "code",
   "execution_count": 101,
   "id": "d2a1266c-9ced-4234-8c95-dbca478dbd59",
   "metadata": {},
   "outputs": [
    {
     "data": {
      "text/plain": [
       "<tf.Variable 'new Name:0' shape=(2, 3) dtype=int32, numpy=\n",
       "array([[1, 1, 1],\n",
       "       [2, 2, 2]])>"
      ]
     },
     "execution_count": 101,
     "metadata": {},
     "output_type": "execute_result"
    }
   ],
   "source": [
    "tensor_var2 = tf.Variable(tensor2, name='new Name')\n",
    "tensor_var2"
   ]
  },
  {
   "cell_type": "code",
   "execution_count": 103,
   "id": "703b8f18-0754-4fab-979d-4d8aaf27d2f5",
   "metadata": {},
   "outputs": [
    {
     "data": {
      "text/plain": [
       "<tf.Tensor: shape=(2, 3), dtype=int32, numpy=\n",
       "array([[2, 2, 2],\n",
       "       [4, 4, 4]])>"
      ]
     },
     "execution_count": 103,
     "metadata": {},
     "output_type": "execute_result"
    }
   ],
   "source": [
    "tensor_var1 + tensor_var2 # 베리어블끼리 연산이 가능하다"
   ]
  },
  {
   "cell_type": "code",
   "execution_count": 36,
   "id": "1e032a02-22fa-49c0-b753-b5028f958ebb",
   "metadata": {},
   "outputs": [],
   "source": [
    "from tensorflow import keras"
   ]
  },
  {
   "cell_type": "code",
   "execution_count": 37,
   "id": "154965da-5ca8-4ed7-89df-2921501ac9ff",
   "metadata": {},
   "outputs": [],
   "source": [
    "mnist = keras.datasets.mnist ## 연습용 데이터 가져오기\n",
    "(X_train, y_train),(X_test,y_test) = mnist.load_data()"
   ]
  },
  {
   "cell_type": "code",
   "execution_count": 14,
   "id": "d2623e29-ff72-4956-b6bb-2c59074cc044",
   "metadata": {},
   "outputs": [
    {
     "name": "stdout",
     "output_type": "stream",
     "text": [
      "<class 'numpy.ndarray'>\n"
     ]
    }
   ],
   "source": [
    "print(type(X_train))"
   ]
  },
  {
   "cell_type": "code",
   "execution_count": 38,
   "id": "92324fce-8cec-4427-9c4e-71b44fab2deb",
   "metadata": {},
   "outputs": [
    {
     "data": {
      "text/plain": [
       "((60000, 28, 28), (60000,))"
      ]
     },
     "execution_count": 38,
     "metadata": {},
     "output_type": "execute_result"
    }
   ],
   "source": [
    "X_train.shape, y_train.shape"
   ]
  },
  {
   "cell_type": "code",
   "execution_count": 39,
   "id": "d7b44809-34d3-425a-9b8c-2bf29c6822a6",
   "metadata": {},
   "outputs": [
    {
     "data": {
      "text/plain": [
       "3"
      ]
     },
     "execution_count": 39,
     "metadata": {},
     "output_type": "execute_result"
    }
   ],
   "source": [
    "y_train[50000]"
   ]
  },
  {
   "cell_type": "code",
   "execution_count": 40,
   "id": "fe9cfdc2-2451-4bb2-a94d-0e2149ff4cfc",
   "metadata": {},
   "outputs": [
    {
     "data": {
      "text/plain": [
       "(10000,)"
      ]
     },
     "execution_count": 40,
     "metadata": {},
     "output_type": "execute_result"
    }
   ],
   "source": [
    "y_test.shape"
   ]
  },
  {
   "cell_type": "code",
   "execution_count": 18,
   "id": "0eee7c83-118b-4aad-855a-94c242e714ce",
   "metadata": {},
   "outputs": [
    {
     "data": {
      "text/plain": [
       "(0, 255)"
      ]
     },
     "execution_count": 18,
     "metadata": {},
     "output_type": "execute_result"
    }
   ],
   "source": [
    "np.min(X_train), np.max(X_train)"
   ]
  },
  {
   "cell_type": "code",
   "execution_count": 19,
   "id": "9eb0ccd0-aaf1-4ed1-9a34-a3d4a7cd21c9",
   "metadata": {},
   "outputs": [],
   "source": [
    "X_train, X_test = X_train / 255.,X_test / 255. #minmax scaler"
   ]
  },
  {
   "cell_type": "code",
   "execution_count": 20,
   "id": "b1c7d5aa-9899-42c9-92c4-2d2796a32f59",
   "metadata": {
    "collapsed": true,
    "jupyter": {
     "outputs_hidden": true
    },
    "tags": []
   },
   "outputs": [
    {
     "data": {
      "text/plain": [
       "array([[0.        , 0.        , 0.        , 0.        , 0.        ,\n",
       "        0.        , 0.        , 0.        , 0.        , 0.        ,\n",
       "        0.        , 0.        , 0.        , 0.        , 0.        ,\n",
       "        0.        , 0.        , 0.        , 0.        , 0.        ,\n",
       "        0.        , 0.        , 0.        , 0.        , 0.        ,\n",
       "        0.        , 0.        , 0.        ],\n",
       "       [0.        , 0.        , 0.        , 0.        , 0.        ,\n",
       "        0.        , 0.        , 0.        , 0.        , 0.        ,\n",
       "        0.        , 0.        , 0.        , 0.        , 0.        ,\n",
       "        0.        , 0.        , 0.        , 0.        , 0.        ,\n",
       "        0.        , 0.        , 0.        , 0.        , 0.        ,\n",
       "        0.        , 0.        , 0.        ],\n",
       "       [0.        , 0.        , 0.        , 0.        , 0.        ,\n",
       "        0.        , 0.        , 0.        , 0.        , 0.        ,\n",
       "        0.        , 0.        , 0.        , 0.        , 0.        ,\n",
       "        0.        , 0.        , 0.        , 0.        , 0.        ,\n",
       "        0.        , 0.        , 0.        , 0.        , 0.        ,\n",
       "        0.        , 0.        , 0.        ],\n",
       "       [0.        , 0.        , 0.        , 0.        , 0.        ,\n",
       "        0.        , 0.        , 0.        , 0.        , 0.        ,\n",
       "        0.        , 0.        , 0.        , 0.        , 0.        ,\n",
       "        0.        , 0.        , 0.        , 0.        , 0.        ,\n",
       "        0.        , 0.        , 0.        , 0.        , 0.        ,\n",
       "        0.        , 0.        , 0.        ],\n",
       "       [0.        , 0.        , 0.        , 0.        , 0.        ,\n",
       "        0.        , 0.        , 0.        , 0.        , 0.        ,\n",
       "        0.        , 0.        , 0.        , 0.        , 0.        ,\n",
       "        0.        , 0.        , 0.        , 0.        , 0.        ,\n",
       "        0.        , 0.        , 0.        , 0.        , 0.        ,\n",
       "        0.        , 0.        , 0.        ],\n",
       "       [0.        , 0.        , 0.        , 0.        , 0.        ,\n",
       "        0.        , 0.        , 0.        , 0.        , 0.        ,\n",
       "        0.        , 0.        , 0.01176471, 0.07058824, 0.07058824,\n",
       "        0.07058824, 0.49411765, 0.53333333, 0.68627451, 0.10196078,\n",
       "        0.65098039, 1.        , 0.96862745, 0.49803922, 0.        ,\n",
       "        0.        , 0.        , 0.        ],\n",
       "       [0.        , 0.        , 0.        , 0.        , 0.        ,\n",
       "        0.        , 0.        , 0.        , 0.11764706, 0.14117647,\n",
       "        0.36862745, 0.60392157, 0.66666667, 0.99215686, 0.99215686,\n",
       "        0.99215686, 0.99215686, 0.99215686, 0.88235294, 0.6745098 ,\n",
       "        0.99215686, 0.94901961, 0.76470588, 0.25098039, 0.        ,\n",
       "        0.        , 0.        , 0.        ],\n",
       "       [0.        , 0.        , 0.        , 0.        , 0.        ,\n",
       "        0.        , 0.        , 0.19215686, 0.93333333, 0.99215686,\n",
       "        0.99215686, 0.99215686, 0.99215686, 0.99215686, 0.99215686,\n",
       "        0.99215686, 0.99215686, 0.98431373, 0.36470588, 0.32156863,\n",
       "        0.32156863, 0.21960784, 0.15294118, 0.        , 0.        ,\n",
       "        0.        , 0.        , 0.        ],\n",
       "       [0.        , 0.        , 0.        , 0.        , 0.        ,\n",
       "        0.        , 0.        , 0.07058824, 0.85882353, 0.99215686,\n",
       "        0.99215686, 0.99215686, 0.99215686, 0.99215686, 0.77647059,\n",
       "        0.71372549, 0.96862745, 0.94509804, 0.        , 0.        ,\n",
       "        0.        , 0.        , 0.        , 0.        , 0.        ,\n",
       "        0.        , 0.        , 0.        ],\n",
       "       [0.        , 0.        , 0.        , 0.        , 0.        ,\n",
       "        0.        , 0.        , 0.        , 0.31372549, 0.61176471,\n",
       "        0.41960784, 0.99215686, 0.99215686, 0.80392157, 0.04313725,\n",
       "        0.        , 0.16862745, 0.60392157, 0.        , 0.        ,\n",
       "        0.        , 0.        , 0.        , 0.        , 0.        ,\n",
       "        0.        , 0.        , 0.        ],\n",
       "       [0.        , 0.        , 0.        , 0.        , 0.        ,\n",
       "        0.        , 0.        , 0.        , 0.        , 0.05490196,\n",
       "        0.00392157, 0.60392157, 0.99215686, 0.35294118, 0.        ,\n",
       "        0.        , 0.        , 0.        , 0.        , 0.        ,\n",
       "        0.        , 0.        , 0.        , 0.        , 0.        ,\n",
       "        0.        , 0.        , 0.        ],\n",
       "       [0.        , 0.        , 0.        , 0.        , 0.        ,\n",
       "        0.        , 0.        , 0.        , 0.        , 0.        ,\n",
       "        0.        , 0.54509804, 0.99215686, 0.74509804, 0.00784314,\n",
       "        0.        , 0.        , 0.        , 0.        , 0.        ,\n",
       "        0.        , 0.        , 0.        , 0.        , 0.        ,\n",
       "        0.        , 0.        , 0.        ],\n",
       "       [0.        , 0.        , 0.        , 0.        , 0.        ,\n",
       "        0.        , 0.        , 0.        , 0.        , 0.        ,\n",
       "        0.        , 0.04313725, 0.74509804, 0.99215686, 0.2745098 ,\n",
       "        0.        , 0.        , 0.        , 0.        , 0.        ,\n",
       "        0.        , 0.        , 0.        , 0.        , 0.        ,\n",
       "        0.        , 0.        , 0.        ],\n",
       "       [0.        , 0.        , 0.        , 0.        , 0.        ,\n",
       "        0.        , 0.        , 0.        , 0.        , 0.        ,\n",
       "        0.        , 0.        , 0.1372549 , 0.94509804, 0.88235294,\n",
       "        0.62745098, 0.42352941, 0.00392157, 0.        , 0.        ,\n",
       "        0.        , 0.        , 0.        , 0.        , 0.        ,\n",
       "        0.        , 0.        , 0.        ],\n",
       "       [0.        , 0.        , 0.        , 0.        , 0.        ,\n",
       "        0.        , 0.        , 0.        , 0.        , 0.        ,\n",
       "        0.        , 0.        , 0.        , 0.31764706, 0.94117647,\n",
       "        0.99215686, 0.99215686, 0.46666667, 0.09803922, 0.        ,\n",
       "        0.        , 0.        , 0.        , 0.        , 0.        ,\n",
       "        0.        , 0.        , 0.        ],\n",
       "       [0.        , 0.        , 0.        , 0.        , 0.        ,\n",
       "        0.        , 0.        , 0.        , 0.        , 0.        ,\n",
       "        0.        , 0.        , 0.        , 0.        , 0.17647059,\n",
       "        0.72941176, 0.99215686, 0.99215686, 0.58823529, 0.10588235,\n",
       "        0.        , 0.        , 0.        , 0.        , 0.        ,\n",
       "        0.        , 0.        , 0.        ],\n",
       "       [0.        , 0.        , 0.        , 0.        , 0.        ,\n",
       "        0.        , 0.        , 0.        , 0.        , 0.        ,\n",
       "        0.        , 0.        , 0.        , 0.        , 0.        ,\n",
       "        0.0627451 , 0.36470588, 0.98823529, 0.99215686, 0.73333333,\n",
       "        0.        , 0.        , 0.        , 0.        , 0.        ,\n",
       "        0.        , 0.        , 0.        ],\n",
       "       [0.        , 0.        , 0.        , 0.        , 0.        ,\n",
       "        0.        , 0.        , 0.        , 0.        , 0.        ,\n",
       "        0.        , 0.        , 0.        , 0.        , 0.        ,\n",
       "        0.        , 0.        , 0.97647059, 0.99215686, 0.97647059,\n",
       "        0.25098039, 0.        , 0.        , 0.        , 0.        ,\n",
       "        0.        , 0.        , 0.        ],\n",
       "       [0.        , 0.        , 0.        , 0.        , 0.        ,\n",
       "        0.        , 0.        , 0.        , 0.        , 0.        ,\n",
       "        0.        , 0.        , 0.        , 0.        , 0.18039216,\n",
       "        0.50980392, 0.71764706, 0.99215686, 0.99215686, 0.81176471,\n",
       "        0.00784314, 0.        , 0.        , 0.        , 0.        ,\n",
       "        0.        , 0.        , 0.        ],\n",
       "       [0.        , 0.        , 0.        , 0.        , 0.        ,\n",
       "        0.        , 0.        , 0.        , 0.        , 0.        ,\n",
       "        0.        , 0.        , 0.15294118, 0.58039216, 0.89803922,\n",
       "        0.99215686, 0.99215686, 0.99215686, 0.98039216, 0.71372549,\n",
       "        0.        , 0.        , 0.        , 0.        , 0.        ,\n",
       "        0.        , 0.        , 0.        ],\n",
       "       [0.        , 0.        , 0.        , 0.        , 0.        ,\n",
       "        0.        , 0.        , 0.        , 0.        , 0.        ,\n",
       "        0.09411765, 0.44705882, 0.86666667, 0.99215686, 0.99215686,\n",
       "        0.99215686, 0.99215686, 0.78823529, 0.30588235, 0.        ,\n",
       "        0.        , 0.        , 0.        , 0.        , 0.        ,\n",
       "        0.        , 0.        , 0.        ],\n",
       "       [0.        , 0.        , 0.        , 0.        , 0.        ,\n",
       "        0.        , 0.        , 0.        , 0.09019608, 0.25882353,\n",
       "        0.83529412, 0.99215686, 0.99215686, 0.99215686, 0.99215686,\n",
       "        0.77647059, 0.31764706, 0.00784314, 0.        , 0.        ,\n",
       "        0.        , 0.        , 0.        , 0.        , 0.        ,\n",
       "        0.        , 0.        , 0.        ],\n",
       "       [0.        , 0.        , 0.        , 0.        , 0.        ,\n",
       "        0.        , 0.07058824, 0.67058824, 0.85882353, 0.99215686,\n",
       "        0.99215686, 0.99215686, 0.99215686, 0.76470588, 0.31372549,\n",
       "        0.03529412, 0.        , 0.        , 0.        , 0.        ,\n",
       "        0.        , 0.        , 0.        , 0.        , 0.        ,\n",
       "        0.        , 0.        , 0.        ],\n",
       "       [0.        , 0.        , 0.        , 0.        , 0.21568627,\n",
       "        0.6745098 , 0.88627451, 0.99215686, 0.99215686, 0.99215686,\n",
       "        0.99215686, 0.95686275, 0.52156863, 0.04313725, 0.        ,\n",
       "        0.        , 0.        , 0.        , 0.        , 0.        ,\n",
       "        0.        , 0.        , 0.        , 0.        , 0.        ,\n",
       "        0.        , 0.        , 0.        ],\n",
       "       [0.        , 0.        , 0.        , 0.        , 0.53333333,\n",
       "        0.99215686, 0.99215686, 0.99215686, 0.83137255, 0.52941176,\n",
       "        0.51764706, 0.0627451 , 0.        , 0.        , 0.        ,\n",
       "        0.        , 0.        , 0.        , 0.        , 0.        ,\n",
       "        0.        , 0.        , 0.        , 0.        , 0.        ,\n",
       "        0.        , 0.        , 0.        ],\n",
       "       [0.        , 0.        , 0.        , 0.        , 0.        ,\n",
       "        0.        , 0.        , 0.        , 0.        , 0.        ,\n",
       "        0.        , 0.        , 0.        , 0.        , 0.        ,\n",
       "        0.        , 0.        , 0.        , 0.        , 0.        ,\n",
       "        0.        , 0.        , 0.        , 0.        , 0.        ,\n",
       "        0.        , 0.        , 0.        ],\n",
       "       [0.        , 0.        , 0.        , 0.        , 0.        ,\n",
       "        0.        , 0.        , 0.        , 0.        , 0.        ,\n",
       "        0.        , 0.        , 0.        , 0.        , 0.        ,\n",
       "        0.        , 0.        , 0.        , 0.        , 0.        ,\n",
       "        0.        , 0.        , 0.        , 0.        , 0.        ,\n",
       "        0.        , 0.        , 0.        ],\n",
       "       [0.        , 0.        , 0.        , 0.        , 0.        ,\n",
       "        0.        , 0.        , 0.        , 0.        , 0.        ,\n",
       "        0.        , 0.        , 0.        , 0.        , 0.        ,\n",
       "        0.        , 0.        , 0.        , 0.        , 0.        ,\n",
       "        0.        , 0.        , 0.        , 0.        , 0.        ,\n",
       "        0.        , 0.        , 0.        ]])"
      ]
     },
     "execution_count": 20,
     "metadata": {},
     "output_type": "execute_result"
    }
   ],
   "source": [
    "X_train[0]"
   ]
  },
  {
   "cell_type": "code",
   "execution_count": 21,
   "id": "e70cf800-4e85-4605-997d-f701d85cfe98",
   "metadata": {},
   "outputs": [],
   "source": [
    "model = tf.keras.models.Sequential([\n",
    "    tf.keras.layers.Flatten(input_shape=(28,28)),#벡터로 만들기(784)\n",
    "    tf.keras.layers.Dense(256, activation='relu'),#뉴런을 맘대로 지정할수있음 /(relu)0보다 작으면 0으로 맞춰주고 0보다높으면 그대로 출력해준다(삼원색 표현은 0~255 음수는 필요없기때문에 바꿀필요가있음)\n",
    "    tf.keras.layers.Dropout(0.2),# 20%의 데이터를 버림 오차가 없으면 오버피팅될 확률up\n",
    "    tf.keras.layers.Dense(10, activation='softmax')#구분되는 갯수만큼만 만들기\n",
    "])\n",
    "#딥러닝의 알고리즘은 하나이다 (퍼셉트론)\n",
    "# Sequential을 어떻게 구현하냐에 따라 달라짐 (논문참조)\n",
    "# 뉴런 : "
   ]
  },
  {
   "cell_type": "code",
   "execution_count": 22,
   "id": "5a02d07a-4eba-4a66-9421-1132a745eea4",
   "metadata": {},
   "outputs": [],
   "source": [
    "model.compile(optimizer='adam',\n",
    "              loss='sparse_categorical_crossentropy',\n",
    "              metrics=['accuracy'])#경사하강법 종류가많음 /원한인코딩이되어있으면 스팟스타그리"
   ]
  },
  {
   "cell_type": "code",
   "execution_count": 23,
   "id": "d94eb7d7-6d6b-46fd-b0f2-35a0d3d9b134",
   "metadata": {},
   "outputs": [
    {
     "name": "stdout",
     "output_type": "stream",
     "text": [
      "Epoch 1/10\n",
      "1875/1875 [==============================] - 3s 1ms/step - loss: 0.2554 - accuracy: 0.9253\n",
      "Epoch 2/10\n",
      "1875/1875 [==============================] - 3s 2ms/step - loss: 0.1140 - accuracy: 0.9651\n",
      "Epoch 3/10\n",
      "1875/1875 [==============================] - 3s 1ms/step - loss: 0.0826 - accuracy: 0.9739\n",
      "Epoch 4/10\n",
      "1875/1875 [==============================] - 2s 1ms/step - loss: 0.0627 - accuracy: 0.9806\n",
      "Epoch 5/10\n",
      "1875/1875 [==============================] - 2s 1ms/step - loss: 0.0533 - accuracy: 0.9830\n",
      "Epoch 6/10\n",
      "1875/1875 [==============================] - 2s 1ms/step - loss: 0.0476 - accuracy: 0.9847\n",
      "Epoch 7/10\n",
      "1875/1875 [==============================] - 3s 1ms/step - loss: 0.0383 - accuracy: 0.9875\n",
      "Epoch 8/10\n",
      "1875/1875 [==============================] - 3s 2ms/step - loss: 0.0343 - accuracy: 0.9883\n",
      "Epoch 9/10\n",
      "1875/1875 [==============================] - 3s 2ms/step - loss: 0.0313 - accuracy: 0.9895\n",
      "Epoch 10/10\n",
      "1875/1875 [==============================] - 3s 2ms/step - loss: 0.0272 - accuracy: 0.9912\n"
     ]
    },
    {
     "data": {
      "text/plain": [
       "<keras.callbacks.History at 0x22fbcd2b850>"
      ]
     },
     "execution_count": 23,
     "metadata": {},
     "output_type": "execute_result"
    }
   ],
   "source": [
    "model.fit(X_train,y_train,epochs=10)"
   ]
  },
  {
   "cell_type": "code",
   "execution_count": 24,
   "id": "ad820158-cde1-41da-8ef1-dc80feaff19c",
   "metadata": {},
   "outputs": [
    {
     "name": "stdout",
     "output_type": "stream",
     "text": [
      "313/313 [==============================] - 1s 1ms/step - loss: 0.0686 - accuracy: 0.9809\n"
     ]
    },
    {
     "data": {
      "text/plain": [
       "[0.06855263561010361, 0.98089998960495]"
      ]
     },
     "execution_count": 24,
     "metadata": {},
     "output_type": "execute_result"
    }
   ],
   "source": [
    "model.evaluate(X_test,y_test)"
   ]
  },
  {
   "cell_type": "code",
   "execution_count": 140,
   "id": "817e30d6-1297-4910-aac7-48fc5a8d99a5",
   "metadata": {},
   "outputs": [
    {
     "name": "stdout",
     "output_type": "stream",
     "text": [
      "# packages in environment at C:\\Users\\LSH\\anaconda3\\envs\\test:\n",
      "#\n",
      "# Name                    Version                   Build  Channel\n"
     ]
    }
   ],
   "source": [
    "!conda list pillow"
   ]
  },
  {
   "cell_type": "code",
   "execution_count": 141,
   "id": "9e53cf39-feba-4baa-a2b7-20df3278cc8b",
   "metadata": {
    "collapsed": true,
    "jupyter": {
     "outputs_hidden": true
    },
    "tags": []
   },
   "outputs": [
    {
     "name": "stdout",
     "output_type": "stream",
     "text": [
      "Collecting package metadata (current_repodata.json): ...working... done\n",
      "Solving environment: ...working... done\n",
      "\n",
      "## Package Plan ##\n",
      "\n",
      "  environment location: C:\\Users\\LSH\\anaconda3\\envs\\test\n",
      "\n",
      "  added / updated specs:\n",
      "    - pillow\n",
      "\n",
      "\n",
      "The following packages will be downloaded:\n",
      "\n",
      "    package                    |            build\n",
      "    ---------------------------|-----------------\n",
      "    freetype-2.10.4            |       hd328e21_0         490 KB  anaconda\n",
      "    libtiff-4.2.0              |       he0120a3_1         1.1 MB  anaconda\n",
      "    libwebp-1.2.2              |       h2bbff1b_0         1.5 MB  anaconda\n",
      "    lz4-c-1.9.3                |       h2bbff1b_1         141 KB  anaconda\n",
      "    pillow-9.0.1               |   py38hdc2b20a_0        1023 KB  anaconda\n",
      "    tk-8.6.12                  |       h2bbff1b_0         3.5 MB  anaconda\n",
      "    zstd-1.5.2                 |       h19a0ad4_0         1.3 MB  anaconda\n",
      "    ------------------------------------------------------------\n",
      "                                           Total:         9.0 MB\n",
      "\n",
      "The following NEW packages will be INSTALLED:\n",
      "\n",
      "  freetype           anaconda/win-64::freetype-2.10.4-hd328e21_0\n",
      "  libtiff            anaconda/win-64::libtiff-4.2.0-he0120a3_1\n",
      "  libwebp            anaconda/win-64::libwebp-1.2.2-h2bbff1b_0\n",
      "  lz4-c              anaconda/win-64::lz4-c-1.9.3-h2bbff1b_1\n",
      "  pillow             anaconda/win-64::pillow-9.0.1-py38hdc2b20a_0\n",
      "  tk                 anaconda/win-64::tk-8.6.12-h2bbff1b_0\n",
      "  zstd               anaconda/win-64::zstd-1.5.2-h19a0ad4_0\n",
      "\n",
      "The following packages will be SUPERSEDED by a higher-priority channel:\n",
      "\n",
      "  ca-certificates    conda-forge::ca-certificates-2022.6.1~ --> anaconda::ca-certificates-2022.4.26-haa95532_0\n",
      "  certifi            conda-forge::certifi-2022.6.15-py38ha~ --> anaconda::certifi-2022.6.15-py38haa95532_0\n",
      "  openssl            conda-forge::openssl-1.1.1q-h8ffe710_0 --> pkgs/main::openssl-1.1.1q-h2bbff1b_0\n",
      "\n",
      "\n",
      "\n",
      "Downloading and Extracting Packages\n",
      "\n",
      "zstd-1.5.2           | 1.3 MB    |            |   0% \n",
      "zstd-1.5.2           | 1.3 MB    | 1          |   1% \n",
      "zstd-1.5.2           | 1.3 MB    | ####2      |  42% \n",
      "zstd-1.5.2           | 1.3 MB    | ########## | 100% \n",
      "zstd-1.5.2           | 1.3 MB    | ########## | 100% \n",
      "\n",
      "tk-8.6.12            | 3.5 MB    |            |   0% \n",
      "tk-8.6.12            | 3.5 MB    | 9          |  10% \n",
      "tk-8.6.12            | 3.5 MB    | ##6        |  26% \n",
      "tk-8.6.12            | 3.5 MB    | ####5      |  46% \n",
      "tk-8.6.12            | 3.5 MB    | ######6    |  67% \n",
      "tk-8.6.12            | 3.5 MB    | ########   |  81% \n",
      "tk-8.6.12            | 3.5 MB    | #########9 |  99% \n",
      "tk-8.6.12            | 3.5 MB    | ########## | 100% \n",
      "\n",
      "lz4-c-1.9.3          | 141 KB    |            |   0% \n",
      "lz4-c-1.9.3          | 141 KB    | #1         |  11% \n",
      "lz4-c-1.9.3          | 141 KB    | ########## | 100% \n",
      "\n",
      "libwebp-1.2.2        | 1.5 MB    |            |   0% \n",
      "libwebp-1.2.2        | 1.5 MB    | ##4        |  25% \n",
      "libwebp-1.2.2        | 1.5 MB    | #######7   |  77% \n",
      "libwebp-1.2.2        | 1.5 MB    | ########## | 100% \n",
      "\n",
      "pillow-9.0.1         | 1023 KB   |            |   0% \n",
      "pillow-9.0.1         | 1023 KB   | ####5      |  45% \n",
      "pillow-9.0.1         | 1023 KB   | ########## | 100% \n",
      "pillow-9.0.1         | 1023 KB   | ########## | 100% \n",
      "\n",
      "freetype-2.10.4      | 490 KB    |            |   0% \n",
      "freetype-2.10.4      | 490 KB    | 3          |   3% \n",
      "freetype-2.10.4      | 490 KB    | ########## | 100% \n",
      "freetype-2.10.4      | 490 KB    | ########## | 100% \n",
      "\n",
      "libtiff-4.2.0        | 1.1 MB    |            |   0% \n",
      "libtiff-4.2.0        | 1.1 MB    | ###9       |  40% \n",
      "libtiff-4.2.0        | 1.1 MB    | #######6   |  77% \n",
      "libtiff-4.2.0        | 1.1 MB    | ########## | 100% \n",
      "Preparing transaction: ...working... done\n",
      "Verifying transaction: ...working... done\n",
      "Executing transaction: ...working... done\n"
     ]
    }
   ],
   "source": [
    "!conda install -y -c anaconda pillow"
   ]
  },
  {
   "cell_type": "code",
   "execution_count": 25,
   "id": "3d34f674-7260-400c-829b-633f3563fdbe",
   "metadata": {},
   "outputs": [],
   "source": [
    "import os\n",
    "from PIL import Image"
   ]
  },
  {
   "cell_type": "code",
   "execution_count": 26,
   "id": "966c17c1-b5f6-48e9-b7e4-cadec029d2cd",
   "metadata": {},
   "outputs": [
    {
     "data": {
      "text/plain": [
       "'C:\\\\Users\\\\LSH\\\\Desktop\\\\AIschool\\\\machine learning\\\\python\\\\실습코드'"
      ]
     },
     "execution_count": 26,
     "metadata": {},
     "output_type": "execute_result"
    }
   ],
   "source": [
    "os.getcwd()"
   ]
  },
  {
   "cell_type": "code",
   "execution_count": 27,
   "id": "ae78d32f-99e3-4e8b-8bb4-ea9e21270653",
   "metadata": {},
   "outputs": [],
   "source": [
    "# image file 경로\n",
    "cur_dir = os.getcwd()"
   ]
  },
  {
   "cell_type": "code",
   "execution_count": 28,
   "id": "e3f740d2-add3-4941-9235-9b28f591699b",
   "metadata": {},
   "outputs": [],
   "source": [
    "image_path = os.path.join(cur_dir,'5.png')"
   ]
  },
  {
   "cell_type": "code",
   "execution_count": 29,
   "id": "06bf104f-8b87-4c9a-ab12-8fd206eadda7",
   "metadata": {},
   "outputs": [
    {
     "data": {
      "text/plain": [
       "'C:\\\\Users\\\\LSH\\\\Desktop\\\\AIschool\\\\machine learning\\\\python\\\\실습코드\\\\5.png'"
      ]
     },
     "execution_count": 29,
     "metadata": {},
     "output_type": "execute_result"
    }
   ],
   "source": [
    "image_path"
   ]
  },
  {
   "cell_type": "code",
   "execution_count": 30,
   "id": "9bf76d3f-4682-4486-bbb0-c2dce796e434",
   "metadata": {},
   "outputs": [],
   "source": [
    "cur_img = Image.open(image_path)"
   ]
  },
  {
   "cell_type": "code",
   "execution_count": 31,
   "id": "fa8a6939-979c-4461-8131-73e1299fbec6",
   "metadata": {},
   "outputs": [],
   "source": [
    "cur_img = cur_img.resize((28,28))#이미지 사이즈 조절"
   ]
  },
  {
   "cell_type": "code",
   "execution_count": 32,
   "id": "5380570e-2653-4108-aebd-25b1e52a2c8d",
   "metadata": {},
   "outputs": [
    {
     "ename": "NameError",
     "evalue": "name 'image' is not defined",
     "output_type": "error",
     "traceback": [
      "\u001b[1;31m---------------------------------------------------------------------------\u001b[0m",
      "\u001b[1;31mNameError\u001b[0m                                 Traceback (most recent call last)",
      "Input \u001b[1;32mIn [32]\u001b[0m, in \u001b[0;36m<cell line: 1>\u001b[1;34m()\u001b[0m\n\u001b[1;32m----> 1\u001b[0m \u001b[38;5;28mtype\u001b[39m(\u001b[43mimage\u001b[49m)\n",
      "\u001b[1;31mNameError\u001b[0m: name 'image' is not defined"
     ]
    }
   ],
   "source": [
    "type(image)"
   ]
  },
  {
   "cell_type": "code",
   "execution_count": 33,
   "id": "410dd6d7-9b54-459d-9348-0b5000c89d5c",
   "metadata": {},
   "outputs": [],
   "source": [
    "image = np.asarray(cur_img)"
   ]
  },
  {
   "cell_type": "code",
   "execution_count": 34,
   "id": "76bbcdbd-4d96-4e4e-9929-6779bf215179",
   "metadata": {},
   "outputs": [],
   "source": [
    "image = np.mean(image, axis=2)# axis=2 이므로 z좌표로 진행된다"
   ]
  },
  {
   "cell_type": "code",
   "execution_count": 35,
   "id": "3bd47fab-70fc-4e43-a6b8-f4f18e833eb5",
   "metadata": {},
   "outputs": [],
   "source": [
    "image = np.abs(255-image)#매트릭스에 스칼라데이터 합치면 브로드캐스팅\n",
    "# X_train값과 같도록 맞춰줘야함"
   ]
  },
  {
   "cell_type": "code",
   "execution_count": 36,
   "id": "01800ef4-27d9-4e9d-a483-d4cd6e7422e6",
   "metadata": {},
   "outputs": [],
   "source": [
    "X_train[0]\n",
    "image = image.astype(np.float32)/255.\n"
   ]
  },
  {
   "cell_type": "code",
   "execution_count": 37,
   "id": "784fb692-2d50-4be7-9184-8253235feaa4",
   "metadata": {
    "collapsed": true,
    "jupyter": {
     "outputs_hidden": true
    },
    "tags": []
   },
   "outputs": [
    {
     "data": {
      "text/plain": [
       "array([[0.        , 0.        , 0.        , 0.        , 0.        ,\n",
       "        0.        , 0.        , 0.        , 0.        , 0.        ,\n",
       "        0.        , 0.        , 0.        , 0.        , 0.        ,\n",
       "        0.        , 0.        , 0.        , 0.        , 0.        ,\n",
       "        0.        , 0.        , 0.        , 0.        , 0.        ,\n",
       "        0.        , 0.        , 0.        ],\n",
       "       [0.        , 0.        , 0.        , 0.        , 0.        ,\n",
       "        0.        , 0.        , 0.        , 0.        , 0.        ,\n",
       "        0.        , 0.        , 0.        , 0.        , 0.        ,\n",
       "        0.        , 0.        , 0.        , 0.        , 0.        ,\n",
       "        0.        , 0.        , 0.        , 0.        , 0.        ,\n",
       "        0.        , 0.        , 0.        ],\n",
       "       [0.        , 0.        , 0.        , 0.        , 0.        ,\n",
       "        0.        , 0.        , 0.        , 0.        , 0.        ,\n",
       "        0.        , 0.        , 0.        , 0.        , 0.        ,\n",
       "        0.        , 0.        , 0.        , 0.        , 0.        ,\n",
       "        0.        , 0.        , 0.        , 0.        , 0.        ,\n",
       "        0.        , 0.        , 0.        ],\n",
       "       [0.        , 0.        , 0.        , 0.        , 0.        ,\n",
       "        0.        , 0.        , 0.        , 0.        , 0.        ,\n",
       "        0.        , 0.        , 0.        , 0.        , 0.        ,\n",
       "        0.        , 0.        , 0.        , 0.        , 0.        ,\n",
       "        0.        , 0.        , 0.        , 0.        , 0.        ,\n",
       "        0.        , 0.        , 0.        ],\n",
       "       [0.        , 0.        , 0.        , 0.        , 0.        ,\n",
       "        0.        , 0.        , 0.        , 0.        , 0.        ,\n",
       "        0.        , 0.        , 0.        , 0.        , 0.        ,\n",
       "        0.        , 0.        , 0.        , 0.        , 0.        ,\n",
       "        0.        , 0.        , 0.        , 0.        , 0.        ,\n",
       "        0.        , 0.        , 0.        ],\n",
       "       [0.        , 0.        , 0.        , 0.        , 0.        ,\n",
       "        0.        , 0.        , 0.01960784, 0.01960784, 0.        ,\n",
       "        0.        , 0.        , 0.        , 0.        , 0.        ,\n",
       "        0.        , 0.        , 0.        , 0.        , 0.        ,\n",
       "        0.        , 0.        , 0.        , 0.        , 0.        ,\n",
       "        0.        , 0.        , 0.        ],\n",
       "       [0.        , 0.        , 0.        , 0.        , 0.        ,\n",
       "        0.        , 0.0627451 , 0.68235296, 0.62352943, 0.5764706 ,\n",
       "        0.5372549 , 0.44705883, 0.44705883, 0.44705883, 0.36862746,\n",
       "        0.27450982, 0.2509804 , 0.12156863, 0.10980392, 0.02745098,\n",
       "        0.00784314, 0.00392157, 0.        , 0.        , 0.        ,\n",
       "        0.        , 0.        , 0.        ],\n",
       "       [0.        , 0.        , 0.        , 0.        , 0.        ,\n",
       "        0.        , 0.06666667, 0.654902  , 0.08235294, 0.11372549,\n",
       "        0.21568628, 0.27450982, 0.27450982, 0.27450982, 0.4       ,\n",
       "        0.44705883, 0.5019608 , 0.5803922 , 0.5882353 , 0.61960787,\n",
       "        0.60784316, 0.34509805, 0.        , 0.        , 0.        ,\n",
       "        0.        , 0.        , 0.        ],\n",
       "       [0.        , 0.        , 0.        , 0.        , 0.        ,\n",
       "        0.        , 0.        , 0.6156863 , 0.08627451, 0.        ,\n",
       "        0.        , 0.        , 0.        , 0.        , 0.        ,\n",
       "        0.        , 0.        , 0.        , 0.        , 0.03921569,\n",
       "        0.04705882, 0.02745098, 0.        , 0.        , 0.        ,\n",
       "        0.        , 0.        , 0.        ],\n",
       "       [0.        , 0.        , 0.        , 0.        , 0.        ,\n",
       "        0.        , 0.        , 0.5411765 , 0.18039216, 0.        ,\n",
       "        0.        , 0.        , 0.        , 0.        , 0.        ,\n",
       "        0.        , 0.        , 0.        , 0.        , 0.        ,\n",
       "        0.        , 0.        , 0.        , 0.        , 0.        ,\n",
       "        0.        , 0.        , 0.        ],\n",
       "       [0.        , 0.        , 0.        , 0.        , 0.        ,\n",
       "        0.        , 0.        , 0.5254902 , 0.18039216, 0.        ,\n",
       "        0.        , 0.        , 0.        , 0.        , 0.        ,\n",
       "        0.        , 0.        , 0.        , 0.        , 0.        ,\n",
       "        0.        , 0.        , 0.        , 0.        , 0.        ,\n",
       "        0.        , 0.        , 0.        ],\n",
       "       [0.        , 0.        , 0.        , 0.        , 0.        ,\n",
       "        0.        , 0.        , 0.60784316, 0.16078432, 0.        ,\n",
       "        0.        , 0.        , 0.        , 0.        , 0.        ,\n",
       "        0.        , 0.        , 0.        , 0.        , 0.        ,\n",
       "        0.        , 0.        , 0.        , 0.        , 0.        ,\n",
       "        0.        , 0.        , 0.        ],\n",
       "       [0.        , 0.        , 0.        , 0.        , 0.        ,\n",
       "        0.        , 0.05882353, 0.6666667 , 0.00392157, 0.        ,\n",
       "        0.        , 0.        , 0.        , 0.08235294, 0.21568628,\n",
       "        0.34901962, 0.3529412 , 0.3529412 , 0.24705882, 0.01960784,\n",
       "        0.        , 0.        , 0.        , 0.        , 0.        ,\n",
       "        0.        , 0.        , 0.        ],\n",
       "       [0.        , 0.        , 0.        , 0.        , 0.        ,\n",
       "        0.        , 0.16078432, 0.6039216 , 0.3372549 , 0.44705883,\n",
       "        0.50980395, 0.5803922 , 0.6156863 , 0.61960787, 0.5372549 ,\n",
       "        0.39607844, 0.3764706 , 0.3882353 , 0.6       , 0.6627451 ,\n",
       "        0.12941177, 0.        , 0.        , 0.        , 0.        ,\n",
       "        0.        , 0.        , 0.        ],\n",
       "       [0.        , 0.        , 0.        , 0.        , 0.        ,\n",
       "        0.        , 0.2509804 , 0.8745098 , 0.45882353, 0.27450982,\n",
       "        0.24705882, 0.11764706, 0.09019608, 0.00392157, 0.        ,\n",
       "        0.        , 0.        , 0.        , 0.        , 0.25882354,\n",
       "        0.6745098 , 0.04313726, 0.        , 0.        , 0.        ,\n",
       "        0.        , 0.        , 0.        ],\n",
       "       [0.        , 0.        , 0.        , 0.        , 0.        ,\n",
       "        0.        , 0.23529412, 0.6627451 , 0.        , 0.        ,\n",
       "        0.        , 0.        , 0.        , 0.        , 0.        ,\n",
       "        0.        , 0.        , 0.        , 0.        , 0.        ,\n",
       "        0.6       , 0.12156863, 0.        , 0.        , 0.        ,\n",
       "        0.        , 0.        , 0.        ],\n",
       "       [0.        , 0.        , 0.        , 0.        , 0.        ,\n",
       "        0.        , 0.01960784, 0.09411765, 0.        , 0.        ,\n",
       "        0.        , 0.        , 0.        , 0.        , 0.        ,\n",
       "        0.        , 0.        , 0.        , 0.        , 0.01960784,\n",
       "        0.64705884, 0.0627451 , 0.        , 0.        , 0.        ,\n",
       "        0.        , 0.        , 0.        ],\n",
       "       [0.        , 0.        , 0.        , 0.        , 0.        ,\n",
       "        0.        , 0.        , 0.        , 0.        , 0.        ,\n",
       "        0.        , 0.        , 0.        , 0.        , 0.        ,\n",
       "        0.        , 0.        , 0.        , 0.        , 0.36078432,\n",
       "        0.5254902 , 0.        , 0.        , 0.        , 0.        ,\n",
       "        0.        , 0.        , 0.        ],\n",
       "       [0.        , 0.        , 0.        , 0.        , 0.        ,\n",
       "        0.        , 0.        , 0.        , 0.        , 0.        ,\n",
       "        0.        , 0.        , 0.        , 0.        , 0.        ,\n",
       "        0.        , 0.        , 0.00784314, 0.36078432, 0.654902  ,\n",
       "        0.08235294, 0.        , 0.        , 0.        , 0.        ,\n",
       "        0.        , 0.        , 0.        ],\n",
       "       [0.        , 0.        , 0.        , 0.        , 0.        ,\n",
       "        0.        , 0.        , 0.        , 0.        , 0.        ,\n",
       "        0.        , 0.        , 0.        , 0.        , 0.        ,\n",
       "        0.        , 0.21568628, 0.67058825, 0.5254902 , 0.07450981,\n",
       "        0.        , 0.        , 0.        , 0.        , 0.        ,\n",
       "        0.        , 0.        , 0.        ],\n",
       "       [0.        , 0.        , 0.        , 0.        , 0.        ,\n",
       "        0.        , 0.03529412, 0.01568628, 0.        , 0.        ,\n",
       "        0.        , 0.        , 0.00392157, 0.05882353, 0.22745098,\n",
       "        0.5372549 , 0.654902  , 0.20784314, 0.        , 0.        ,\n",
       "        0.        , 0.        , 0.        , 0.        , 0.        ,\n",
       "        0.        , 0.        , 0.        ],\n",
       "       [0.        , 0.        , 0.        , 0.        , 0.        ,\n",
       "        0.        , 0.23529412, 0.6431373 , 0.53333336, 0.53333336,\n",
       "        0.53333336, 0.5529412 , 0.61960787, 0.627451  , 0.54509807,\n",
       "        0.27058825, 0.01960784, 0.        , 0.        , 0.        ,\n",
       "        0.        , 0.        , 0.        , 0.        , 0.        ,\n",
       "        0.        , 0.        , 0.        ],\n",
       "       [0.        , 0.        , 0.        , 0.        , 0.        ,\n",
       "        0.        , 0.        , 0.11372549, 0.1764706 , 0.1764706 ,\n",
       "        0.1764706 , 0.1764706 , 0.07450981, 0.02352941, 0.        ,\n",
       "        0.        , 0.        , 0.        , 0.        , 0.        ,\n",
       "        0.        , 0.        , 0.        , 0.        , 0.        ,\n",
       "        0.        , 0.        , 0.        ],\n",
       "       [0.        , 0.        , 0.        , 0.        , 0.        ,\n",
       "        0.        , 0.        , 0.        , 0.        , 0.        ,\n",
       "        0.        , 0.        , 0.        , 0.        , 0.        ,\n",
       "        0.        , 0.        , 0.        , 0.        , 0.        ,\n",
       "        0.        , 0.        , 0.        , 0.        , 0.        ,\n",
       "        0.        , 0.        , 0.        ],\n",
       "       [0.        , 0.        , 0.        , 0.        , 0.        ,\n",
       "        0.        , 0.        , 0.        , 0.        , 0.        ,\n",
       "        0.        , 0.        , 0.        , 0.        , 0.        ,\n",
       "        0.        , 0.        , 0.        , 0.        , 0.        ,\n",
       "        0.        , 0.        , 0.        , 0.        , 0.        ,\n",
       "        0.        , 0.        , 0.        ],\n",
       "       [0.        , 0.        , 0.        , 0.        , 0.        ,\n",
       "        0.        , 0.        , 0.        , 0.        , 0.        ,\n",
       "        0.        , 0.        , 0.        , 0.        , 0.        ,\n",
       "        0.        , 0.        , 0.        , 0.        , 0.        ,\n",
       "        0.        , 0.        , 0.        , 0.        , 0.        ,\n",
       "        0.        , 0.        , 0.        ],\n",
       "       [0.        , 0.        , 0.        , 0.        , 0.        ,\n",
       "        0.        , 0.        , 0.        , 0.        , 0.        ,\n",
       "        0.        , 0.        , 0.        , 0.        , 0.        ,\n",
       "        0.        , 0.        , 0.        , 0.        , 0.        ,\n",
       "        0.        , 0.        , 0.        , 0.        , 0.        ,\n",
       "        0.        , 0.        , 0.        ],\n",
       "       [0.        , 0.        , 0.        , 0.        , 0.        ,\n",
       "        0.        , 0.        , 0.        , 0.        , 0.        ,\n",
       "        0.        , 0.        , 0.        , 0.        , 0.        ,\n",
       "        0.        , 0.        , 0.        , 0.        , 0.        ,\n",
       "        0.        , 0.        , 0.        , 0.        , 0.        ,\n",
       "        0.        , 0.        , 0.        ]], dtype=float32)"
      ]
     },
     "execution_count": 37,
     "metadata": {},
     "output_type": "execute_result"
    }
   ],
   "source": [
    "image"
   ]
  },
  {
   "cell_type": "code",
   "execution_count": 177,
   "id": "f2835fd2-bf43-45cf-bb93-5b3fe3c5aef6",
   "metadata": {
    "collapsed": true,
    "jupyter": {
     "outputs_hidden": true
    },
    "tags": []
   },
   "outputs": [
    {
     "name": "stdout",
     "output_type": "stream",
     "text": [
      "Collecting package metadata (current_repodata.json): ...working... done\n",
      "Solving environment: ...working... done\n",
      "\n",
      "## Package Plan ##\n",
      "\n",
      "  environment location: C:\\Users\\LSH\\anaconda3\\envs\\test\n",
      "\n",
      "  added / updated specs:\n",
      "    - matplotlib\n",
      "\n",
      "\n",
      "The following packages will be downloaded:\n",
      "\n",
      "    package                    |            build\n",
      "    ---------------------------|-----------------\n",
      "    brotli-1.0.9               |       h8ffe710_7          18 KB  conda-forge\n",
      "    brotli-bin-1.0.9           |       h8ffe710_7          21 KB  conda-forge\n",
      "    cycler-0.11.0              |     pyhd8ed1ab_0          10 KB  conda-forge\n",
      "    fonttools-4.37.1           |   py38h294d835_0         1.7 MB  conda-forge\n",
      "    kiwisolver-1.4.4           |   py38hbd9d945_0          61 KB  conda-forge\n",
      "    libbrotlicommon-1.0.9      |       h8ffe710_7          67 KB  conda-forge\n",
      "    libbrotlidec-1.0.9         |       h8ffe710_7          33 KB  conda-forge\n",
      "    libbrotlienc-1.0.9         |       h8ffe710_7         716 KB  conda-forge\n",
      "    matplotlib-3.5.3           |   py38haa244fe_1           7 KB  conda-forge\n",
      "    matplotlib-base-3.5.3      |   py38he529843_0         7.3 MB  conda-forge\n",
      "    munkres-1.1.4              |     pyh9f0ad1d_0          12 KB  conda-forge\n",
      "    pyqt-5.9.2                 |   py38hd77b12b_6         3.3 MB\n",
      "    qt-5.9.7                   |       hc6833c9_1        91.1 MB  conda-forge\n",
      "    sip-4.19.13                |   py38hd77b12b_0         261 KB\n",
      "    unicodedata2-14.0.0        |   py38h294d835_1         493 KB  conda-forge\n",
      "    ------------------------------------------------------------\n",
      "                                           Total:       105.0 MB\n",
      "\n",
      "The following NEW packages will be INSTALLED:\n",
      "\n",
      "  brotli             conda-forge/win-64::brotli-1.0.9-h8ffe710_7\n",
      "  brotli-bin         conda-forge/win-64::brotli-bin-1.0.9-h8ffe710_7\n",
      "  cycler             conda-forge/noarch::cycler-0.11.0-pyhd8ed1ab_0\n",
      "  fonttools          conda-forge/win-64::fonttools-4.37.1-py38h294d835_0\n",
      "  kiwisolver         conda-forge/win-64::kiwisolver-1.4.4-py38hbd9d945_0\n",
      "  libbrotlicommon    conda-forge/win-64::libbrotlicommon-1.0.9-h8ffe710_7\n",
      "  libbrotlidec       conda-forge/win-64::libbrotlidec-1.0.9-h8ffe710_7\n",
      "  libbrotlienc       conda-forge/win-64::libbrotlienc-1.0.9-h8ffe710_7\n",
      "  matplotlib         conda-forge/win-64::matplotlib-3.5.3-py38haa244fe_1\n",
      "  matplotlib-base    conda-forge/win-64::matplotlib-base-3.5.3-py38he529843_0\n",
      "  munkres            conda-forge/noarch::munkres-1.1.4-pyh9f0ad1d_0\n",
      "  pyqt               pkgs/main/win-64::pyqt-5.9.2-py38hd77b12b_6\n",
      "  qt                 conda-forge/win-64::qt-5.9.7-hc6833c9_1\n",
      "  sip                pkgs/main/win-64::sip-4.19.13-py38hd77b12b_0\n",
      "  unicodedata2       conda-forge/win-64::unicodedata2-14.0.0-py38h294d835_1\n",
      "\n",
      "The following packages will be UPDATED:\n",
      "\n",
      "  ca-certificates    anaconda::ca-certificates-2022.4.26-h~ --> conda-forge::ca-certificates-2022.6.15-h5b45459_0\n",
      "\n",
      "The following packages will be SUPERSEDED by a higher-priority channel:\n",
      "\n",
      "  certifi            anaconda::certifi-2022.6.15-py38haa95~ --> conda-forge::certifi-2022.6.15-py38haa244fe_0\n",
      "  openssl              pkgs/main::openssl-1.1.1q-h2bbff1b_0 --> conda-forge::openssl-1.1.1q-h8ffe710_0\n",
      "\n",
      "\n",
      "\n",
      "Downloading and Extracting Packages\n",
      "\n",
      "unicodedata2-14.0.0  | 493 KB    |            |   0% \n",
      "unicodedata2-14.0.0  | 493 KB    | 3          |   3% \n",
      "unicodedata2-14.0.0  | 493 KB    | #######1   |  71% \n",
      "unicodedata2-14.0.0  | 493 KB    | ########## | 100% \n",
      "\n",
      "cycler-0.11.0        | 10 KB     |            |   0% \n",
      "cycler-0.11.0        | 10 KB     | ########## | 100% \n",
      "\n",
      "libbrotlicommon-1.0. | 67 KB     |            |   0% \n",
      "libbrotlicommon-1.0. | 67 KB     | ########## | 100% \n",
      "\n",
      "brotli-bin-1.0.9     | 21 KB     |            |   0% \n",
      "brotli-bin-1.0.9     | 21 KB     | ########## | 100% \n",
      "\n",
      "brotli-1.0.9         | 18 KB     |            |   0% \n",
      "brotli-1.0.9         | 18 KB     | ########## | 100% \n",
      "\n",
      "matplotlib-base-3.5. | 7.3 MB    |            |   0% \n",
      "matplotlib-base-3.5. | 7.3 MB    | 1          |   1% \n",
      "matplotlib-base-3.5. | 7.3 MB    | 5          |   6% \n",
      "matplotlib-base-3.5. | 7.3 MB    | 9          |  10% \n",
      "matplotlib-base-3.5. | 7.3 MB    | #4         |  15% \n",
      "matplotlib-base-3.5. | 7.3 MB    | ##3        |  23% \n",
      "matplotlib-base-3.5. | 7.3 MB    | ###2       |  32% \n",
      "matplotlib-base-3.5. | 7.3 MB    | ####       |  41% \n",
      "matplotlib-base-3.5. | 7.3 MB    | #####      |  50% \n",
      "matplotlib-base-3.5. | 7.3 MB    | #####7     |  58% \n",
      "matplotlib-base-3.5. | 7.3 MB    | ######7    |  67% \n",
      "matplotlib-base-3.5. | 7.3 MB    | #######7   |  78% \n",
      "matplotlib-base-3.5. | 7.3 MB    | ########5  |  86% \n",
      "matplotlib-base-3.5. | 7.3 MB    | #########5 |  95% \n",
      "matplotlib-base-3.5. | 7.3 MB    | ########## | 100% \n",
      "\n",
      "libbrotlidec-1.0.9   | 33 KB     |            |   0% \n",
      "libbrotlidec-1.0.9   | 33 KB     | ########## | 100% \n",
      "libbrotlidec-1.0.9   | 33 KB     | ########## | 100% \n",
      "\n",
      "libbrotlienc-1.0.9   | 716 KB    |            |   0% \n",
      "libbrotlienc-1.0.9   | 716 KB    | ##6        |  27% \n",
      "libbrotlienc-1.0.9   | 716 KB    | ########## | 100% \n",
      "libbrotlienc-1.0.9   | 716 KB    | ########## | 100% \n",
      "\n",
      "kiwisolver-1.4.4     | 61 KB     |            |   0% \n",
      "kiwisolver-1.4.4     | 61 KB     | ########## | 100% \n",
      "\n",
      "fonttools-4.37.1     | 1.7 MB    |            |   0% \n",
      "fonttools-4.37.1     | 1.7 MB    | #3         |  13% \n",
      "fonttools-4.37.1     | 1.7 MB    | #####7     |  58% \n",
      "fonttools-4.37.1     | 1.7 MB    | #########4 |  95% \n",
      "fonttools-4.37.1     | 1.7 MB    | ########## | 100% \n",
      "\n",
      "matplotlib-3.5.3     | 7 KB      |            |   0% \n",
      "matplotlib-3.5.3     | 7 KB      | ########## | 100% \n",
      "\n",
      "pyqt-5.9.2           | 3.3 MB    |            |   0% \n",
      "pyqt-5.9.2           | 3.3 MB    |            |   0% \n",
      "pyqt-5.9.2           | 3.3 MB    | #2         |  12% \n",
      "pyqt-5.9.2           | 3.3 MB    | ###9       |  39% \n",
      "pyqt-5.9.2           | 3.3 MB    | ######4    |  65% \n",
      "pyqt-5.9.2           | 3.3 MB    | #########3 |  93% \n",
      "pyqt-5.9.2           | 3.3 MB    | ########## | 100% \n",
      "\n",
      "qt-5.9.7             | 91.1 MB   |            |   0% \n",
      "qt-5.9.7             | 91.1 MB   |            |   0% \n",
      "qt-5.9.7             | 91.1 MB   | 1          |   1% \n",
      "qt-5.9.7             | 91.1 MB   | 2          |   2% \n",
      "qt-5.9.7             | 91.1 MB   | 2          |   3% \n",
      "qt-5.9.7             | 91.1 MB   | 3          |   4% \n",
      "qt-5.9.7             | 91.1 MB   | 4          |   5% \n",
      "qt-5.9.7             | 91.1 MB   | 5          |   5% \n",
      "qt-5.9.7             | 91.1 MB   | 6          |   6% \n",
      "qt-5.9.7             | 91.1 MB   | 7          |   7% \n",
      "qt-5.9.7             | 91.1 MB   | 8          |   8% \n",
      "qt-5.9.7             | 91.1 MB   | 9          |   9% \n",
      "qt-5.9.7             | 91.1 MB   | 9          |  10% \n",
      "qt-5.9.7             | 91.1 MB   | #          |  11% \n",
      "qt-5.9.7             | 91.1 MB   | #1         |  12% \n",
      "qt-5.9.7             | 91.1 MB   | #2         |  13% \n",
      "qt-5.9.7             | 91.1 MB   | #3         |  13% \n",
      "qt-5.9.7             | 91.1 MB   | #4         |  14% \n",
      "qt-5.9.7             | 91.1 MB   | #5         |  16% \n",
      "qt-5.9.7             | 91.1 MB   | #6         |  16% \n",
      "qt-5.9.7             | 91.1 MB   | #7         |  17% \n",
      "qt-5.9.7             | 91.1 MB   | #8         |  18% \n",
      "qt-5.9.7             | 91.1 MB   | #8         |  19% \n",
      "qt-5.9.7             | 91.1 MB   | #9         |  20% \n",
      "qt-5.9.7             | 91.1 MB   | ##         |  21% \n",
      "qt-5.9.7             | 91.1 MB   | ##1        |  22% \n",
      "qt-5.9.7             | 91.1 MB   | ##2        |  23% \n",
      "qt-5.9.7             | 91.1 MB   | ##3        |  24% \n",
      "qt-5.9.7             | 91.1 MB   | ##4        |  24% \n",
      "qt-5.9.7             | 91.1 MB   | ##5        |  25% \n",
      "qt-5.9.7             | 91.1 MB   | ##5        |  26% \n",
      "qt-5.9.7             | 91.1 MB   | ##6        |  27% \n",
      "qt-5.9.7             | 91.1 MB   | ##7        |  27% \n",
      "qt-5.9.7             | 91.1 MB   | ##7        |  28% \n",
      "qt-5.9.7             | 91.1 MB   | ##8        |  29% \n",
      "qt-5.9.7             | 91.1 MB   | ##9        |  29% \n",
      "qt-5.9.7             | 91.1 MB   | ###        |  30% \n",
      "qt-5.9.7             | 91.1 MB   | ###        |  31% \n",
      "qt-5.9.7             | 91.1 MB   | ###1       |  32% \n",
      "qt-5.9.7             | 91.1 MB   | ###2       |  32% \n",
      "qt-5.9.7             | 91.1 MB   | ###2       |  33% \n",
      "qt-5.9.7             | 91.1 MB   | ###3       |  33% \n",
      "qt-5.9.7             | 91.1 MB   | ###4       |  34% \n",
      "qt-5.9.7             | 91.1 MB   | ###5       |  35% \n",
      "qt-5.9.7             | 91.1 MB   | ###6       |  36% \n",
      "qt-5.9.7             | 91.1 MB   | ###6       |  37% \n",
      "qt-5.9.7             | 91.1 MB   | ###7       |  38% \n",
      "qt-5.9.7             | 91.1 MB   | ###8       |  39% \n",
      "qt-5.9.7             | 91.1 MB   | ###9       |  40% \n",
      "qt-5.9.7             | 91.1 MB   | ####       |  41% \n",
      "qt-5.9.7             | 91.1 MB   | ####1      |  42% \n",
      "qt-5.9.7             | 91.1 MB   | ####2      |  43% \n",
      "qt-5.9.7             | 91.1 MB   | ####3      |  44% \n"
     ]
    },
    {
     "name": "stderr",
     "output_type": "stream",
     "text": [
      "\n",
      "\n",
      "==> WARNING: A newer version of conda exists. <==\n",
      "  current version: 4.13.0\n",
      "  latest version: 4.14.0\n",
      "\n",
      "Please update conda by running\n",
      "\n",
      "    $ conda update -n base conda\n",
      "\n",
      "\n"
     ]
    },
    {
     "name": "stdout",
     "output_type": "stream",
     "text": [
      "qt-5.9.7             | 91.1 MB   | ####4      |  45% \n",
      "qt-5.9.7             | 91.1 MB   | ####5      |  46% \n",
      "qt-5.9.7             | 91.1 MB   | ####6      |  46% \n",
      "qt-5.9.7             | 91.1 MB   | ####6      |  47% \n",
      "qt-5.9.7             | 91.1 MB   | ####7      |  47% \n",
      "qt-5.9.7             | 91.1 MB   | ####8      |  48% \n",
      "qt-5.9.7             | 91.1 MB   | ####8      |  49% \n",
      "qt-5.9.7             | 91.1 MB   | ####9      |  49% \n",
      "qt-5.9.7             | 91.1 MB   | ####9      |  50% \n",
      "qt-5.9.7             | 91.1 MB   | #####      |  51% \n",
      "qt-5.9.7             | 91.1 MB   | #####1     |  51% \n",
      "qt-5.9.7             | 91.1 MB   | #####1     |  52% \n",
      "qt-5.9.7             | 91.1 MB   | #####2     |  52% \n",
      "qt-5.9.7             | 91.1 MB   | #####2     |  53% \n",
      "qt-5.9.7             | 91.1 MB   | #####3     |  53% \n",
      "qt-5.9.7             | 91.1 MB   | #####4     |  54% \n",
      "qt-5.9.7             | 91.1 MB   | #####4     |  55% \n",
      "qt-5.9.7             | 91.1 MB   | #####5     |  55% \n",
      "qt-5.9.7             | 91.1 MB   | #####6     |  56% \n",
      "qt-5.9.7             | 91.1 MB   | #####6     |  57% \n",
      "qt-5.9.7             | 91.1 MB   | #####7     |  57% \n",
      "qt-5.9.7             | 91.1 MB   | #####7     |  58% \n",
      "qt-5.9.7             | 91.1 MB   | #####8     |  59% \n",
      "qt-5.9.7             | 91.1 MB   | #####9     |  59% \n",
      "qt-5.9.7             | 91.1 MB   | ######     |  60% \n",
      "qt-5.9.7             | 91.1 MB   | ######     |  61% \n",
      "qt-5.9.7             | 91.1 MB   | ######1    |  62% \n",
      "qt-5.9.7             | 91.1 MB   | ######2    |  62% \n",
      "qt-5.9.7             | 91.1 MB   | ######3    |  63% \n",
      "qt-5.9.7             | 91.1 MB   | ######3    |  64% \n",
      "qt-5.9.7             | 91.1 MB   | ######4    |  65% \n",
      "qt-5.9.7             | 91.1 MB   | ######5    |  65% \n",
      "qt-5.9.7             | 91.1 MB   | ######6    |  66% \n",
      "qt-5.9.7             | 91.1 MB   | ######6    |  67% \n",
      "qt-5.9.7             | 91.1 MB   | ######8    |  68% \n",
      "qt-5.9.7             | 91.1 MB   | ######9    |  69% \n",
      "qt-5.9.7             | 91.1 MB   | #######    |  70% \n",
      "qt-5.9.7             | 91.1 MB   | #######1   |  71% \n",
      "qt-5.9.7             | 91.1 MB   | #######2   |  72% \n",
      "qt-5.9.7             | 91.1 MB   | #######3   |  73% \n",
      "qt-5.9.7             | 91.1 MB   | #######4   |  74% \n",
      "qt-5.9.7             | 91.1 MB   | #######5   |  75% \n",
      "qt-5.9.7             | 91.1 MB   | #######5   |  76% \n",
      "qt-5.9.7             | 91.1 MB   | #######6   |  77% \n",
      "qt-5.9.7             | 91.1 MB   | #######7   |  78% \n",
      "qt-5.9.7             | 91.1 MB   | #######8   |  78% \n",
      "qt-5.9.7             | 91.1 MB   | #######9   |  79% \n",
      "qt-5.9.7             | 91.1 MB   | #######9   |  80% \n",
      "qt-5.9.7             | 91.1 MB   | ########   |  81% \n",
      "qt-5.9.7             | 91.1 MB   | ########1  |  81% \n",
      "qt-5.9.7             | 91.1 MB   | ########1  |  82% \n",
      "qt-5.9.7             | 91.1 MB   | ########2  |  83% \n",
      "qt-5.9.7             | 91.1 MB   | ########3  |  83% \n",
      "qt-5.9.7             | 91.1 MB   | ########3  |  84% \n",
      "qt-5.9.7             | 91.1 MB   | ########4  |  84% \n",
      "qt-5.9.7             | 91.1 MB   | ########5  |  85% \n",
      "qt-5.9.7             | 91.1 MB   | ########5  |  86% \n",
      "qt-5.9.7             | 91.1 MB   | ########6  |  86% \n",
      "qt-5.9.7             | 91.1 MB   | ########7  |  87% \n",
      "qt-5.9.7             | 91.1 MB   | ########7  |  88% \n",
      "qt-5.9.7             | 91.1 MB   | ########8  |  88% \n",
      "qt-5.9.7             | 91.1 MB   | ########8  |  89% \n",
      "qt-5.9.7             | 91.1 MB   | ########9  |  89% \n",
      "qt-5.9.7             | 91.1 MB   | ########9  |  90% \n",
      "qt-5.9.7             | 91.1 MB   | #########  |  90% \n",
      "qt-5.9.7             | 91.1 MB   | #########  |  91% \n",
      "qt-5.9.7             | 91.1 MB   | #########1 |  91% \n",
      "qt-5.9.7             | 91.1 MB   | #########1 |  92% \n",
      "qt-5.9.7             | 91.1 MB   | #########2 |  92% \n",
      "qt-5.9.7             | 91.1 MB   | #########2 |  92% \n",
      "qt-5.9.7             | 91.1 MB   | #########2 |  93% \n",
      "qt-5.9.7             | 91.1 MB   | #########3 |  94% \n",
      "qt-5.9.7             | 91.1 MB   | #########4 |  94% \n",
      "qt-5.9.7             | 91.1 MB   | #########4 |  95% \n",
      "qt-5.9.7             | 91.1 MB   | #########5 |  95% \n",
      "qt-5.9.7             | 91.1 MB   | #########5 |  96% \n",
      "qt-5.9.7             | 91.1 MB   | #########6 |  96% \n",
      "qt-5.9.7             | 91.1 MB   | #########6 |  97% \n",
      "qt-5.9.7             | 91.1 MB   | #########7 |  98% \n",
      "qt-5.9.7             | 91.1 MB   | #########8 |  98% \n",
      "qt-5.9.7             | 91.1 MB   | #########8 |  99% \n",
      "qt-5.9.7             | 91.1 MB   | #########9 |  99% \n",
      "qt-5.9.7             | 91.1 MB   | ########## | 100% \n",
      "qt-5.9.7             | 91.1 MB   | ########## | 100% \n",
      "\n",
      "munkres-1.1.4        | 12 KB     |            |   0% \n",
      "munkres-1.1.4        | 12 KB     | ########## | 100% \n",
      "munkres-1.1.4        | 12 KB     | ########## | 100% \n",
      "\n",
      "sip-4.19.13          | 261 KB    |            |   0% \n",
      "sip-4.19.13          | 261 KB    | ########## | 100% \n",
      "sip-4.19.13          | 261 KB    | ########## | 100% \n",
      "Preparing transaction: ...working... done\n",
      "Verifying transaction: ...working... done\n",
      "Executing transaction: ...working... done\n"
     ]
    }
   ],
   "source": [
    "!conda install -y -c conda-forge matplotlib"
   ]
  },
  {
   "cell_type": "code",
   "execution_count": 38,
   "id": "4d3d0908-cee9-401d-8035-361ae82a110a",
   "metadata": {},
   "outputs": [],
   "source": [
    "import matplotlib.pyplot as plt"
   ]
  },
  {
   "cell_type": "code",
   "execution_count": 1,
   "id": "7bdf8e64-12c2-4fcc-8d2f-01078ff8e3fc",
   "metadata": {},
   "outputs": [
    {
     "ename": "NameError",
     "evalue": "name 'plt' is not defined",
     "output_type": "error",
     "traceback": [
      "\u001b[1;31m---------------------------------------------------------------------------\u001b[0m",
      "\u001b[1;31mNameError\u001b[0m                                 Traceback (most recent call last)",
      "Input \u001b[1;32mIn [1]\u001b[0m, in \u001b[0;36m<cell line: 1>\u001b[1;34m()\u001b[0m\n\u001b[1;32m----> 1\u001b[0m \u001b[43mplt\u001b[49m\u001b[38;5;241m.\u001b[39mimshow(X_train[\u001b[38;5;241m0\u001b[39m], cmap\u001b[38;5;241m=\u001b[39m\u001b[38;5;124m'\u001b[39m\u001b[38;5;124mgray\u001b[39m\u001b[38;5;124m'\u001b[39m)\n\u001b[0;32m      2\u001b[0m plt\u001b[38;5;241m.\u001b[39mshow()\n",
      "\u001b[1;31mNameError\u001b[0m: name 'plt' is not defined"
     ]
    }
   ],
   "source": [
    "plt.imshow(X_train[0], cmap='gray')\n",
    "plt.show()"
   ]
  },
  {
   "cell_type": "code",
   "execution_count": 39,
   "id": "8a247530-79f4-4d57-b41a-58d8cb59308e",
   "metadata": {},
   "outputs": [
    {
     "name": "stdout",
     "output_type": "stream",
     "text": [
      "[[4.8470210e-06 4.5423212e-06 5.6384753e-05 6.9226967e-03 3.3360809e-06\n",
      "  9.5194900e-01 1.1284552e-04 5.7724252e-04 2.7372930e-04 4.0095426e-02]]\n",
      "Model이 예측한 값은 [5]입니다.\n"
     ]
    }
   ],
   "source": [
    "image = np.reshape(image, (1,28,28))\n",
    "print(model.predict(image))\n",
    "print('Model이 예측한 값은 {}입니다.'.format(np.argmax(model.predict(image),-1)))"
   ]
  },
  {
   "cell_type": "code",
   "execution_count": 47,
   "id": "689c9af8-922c-44d3-97da-249aa78c2882",
   "metadata": {},
   "outputs": [
    {
     "data": {
      "text/plain": [
       "4"
      ]
     },
     "execution_count": 47,
     "metadata": {},
     "output_type": "execute_result"
    }
   ],
   "source": [
    "y_train[4838]"
   ]
  },
  {
   "cell_type": "code",
   "execution_count": 50,
   "id": "6696180b-f4e6-43b3-926e-f90efe4f8987",
   "metadata": {},
   "outputs": [
    {
     "data": {
      "image/png": "[encoded data removed]",
      "text/plain": [
       "<PIL.Image.Image image mode=RGB size=28x28 at 0x22FB23685B0>"
      ]
     },
     "execution_count": 50,
     "metadata": {},
     "output_type": "execute_result"
    }
   ],
   "source": [
    "cur_img"
   ]
  },
  {
   "cell_type": "code",
   "execution_count": 49,
   "id": "50de7484-987b-493f-bfb9-59b243c0d724",
   "metadata": {},
   "outputs": [
    {
     "data": {
      "image/png": "[encoded data removed]",
      "text/plain": [
       "<PIL.Image.Image image mode=RGB size=28x28 at 0x22FB23685B0>"
      ]
     },
     "execution_count": 49,
     "metadata": {},
     "output_type": "execute_result"
    }
   ],
   "source": [
    "cur_img"
   ]
  },
  {
   "cell_type": "code",
   "execution_count": 65,
   "id": "9bf85829-e26d-47b4-9349-f0f6aa42308d",
   "metadata": {},
   "outputs": [
    {
     "name": "stdin",
     "output_type": "stream",
     "text": [
      " 1 2 3 4 5\n"
     ]
    },
    {
     "ename": "TypeError",
     "evalue": "unsupported operand type(s) for -: 'list' and 'list'",
     "output_type": "error",
     "traceback": [
      "\u001b[1;31m---------------------------------------------------------------------------\u001b[0m",
      "\u001b[1;31mTypeError\u001b[0m                                 Traceback (most recent call last)",
      "Input \u001b[1;32mIn [65]\u001b[0m, in \u001b[0;36m<cell line: 6>\u001b[1;34m()\u001b[0m\n\u001b[0;32m      2\u001b[0m num_list\u001b[38;5;241m.\u001b[39mappend(\u001b[38;5;28minput\u001b[39m()\u001b[38;5;241m.\u001b[39msplit())\n\u001b[0;32m      3\u001b[0m added \u001b[38;5;241m=\u001b[39m []\n\u001b[1;32m----> 6\u001b[0m \u001b[38;5;28;43mmax\u001b[39;49m\u001b[43m(\u001b[49m\u001b[43mnum_list\u001b[49m\u001b[43m)\u001b[49m\u001b[38;5;241;43m-\u001b[39;49m\u001b[38;5;28;43mmin\u001b[39;49m\u001b[43m(\u001b[49m\u001b[43mnum_list\u001b[49m\u001b[43m)\u001b[49m\n",
      "\u001b[1;31mTypeError\u001b[0m: unsupported operand type(s) for -: 'list' and 'list'"
     ]
    }
   ],
   "source": [
    "num_list = []\n",
    "num_list.append(input().split())\n",
    "added = []\n",
    "\n",
    "\n",
    "max(num_list)-min(num_list)"
   ]
  },
  {
   "cell_type": "code",
   "execution_count": 19,
   "id": "cdefd365-7668-4bba-94ae-a32596cc8c07",
   "metadata": {},
   "outputs": [],
   "source": [
    "# 퍼셉트론(스칼라)\n",
    "epsilon = 0.0000001\n",
    "def perceptron(x1, x2):\n",
    "    # 변수 초기화\n",
    "    w1, w2, b = 1.0, 1.0, -1.5\n",
    "    # Afine function(f(x)=mx+b)\n",
    "    sum = x1*w1+x2*w2+b\n",
    "    # Activation function\n",
    "    if sum > epsilon:\n",
    "        return 1\n",
    "    else:\n",
    "        return 0"
   ]
  },
  {
   "cell_type": "code",
   "execution_count": 20,
   "id": "54696391-5a28-4fd4-b866-bf3e94df7ffe",
   "metadata": {},
   "outputs": [
    {
     "name": "stdout",
     "output_type": "stream",
     "text": [
      "0\n",
      "0\n",
      "0\n",
      "1\n"
     ]
    }
   ],
   "source": [
    "print(perceptron(0,0))\n",
    "print(perceptron(1,0))\n",
    "print(perceptron(0,1))\n",
    "print(perceptron(1,1))"
   ]
  },
  {
   "cell_type": "code",
   "execution_count": 21,
   "id": "17f443ff-e6e6-4db6-b085-603dc9c25f21",
   "metadata": {},
   "outputs": [],
   "source": [
    "# 퍼셉트론(매트릭스)\n",
    "import numpy as np\n",
    "epsilon = 0.0000001\n",
    "def perceptron(x1, x2):\n",
    "    # 변수 초기화\n",
    "    X = np.array([x1,x2])\n",
    "    W = np.array([1.0,1.0])\n",
    "    b = -1,5\n",
    "    # Affine function(f(x)=mx+b)\n",
    "    sum = np.dot(W,X)+b\n",
    "    # Activation function\n",
    "    if sum > epsilon:\n",
    "        return 1\n",
    "    else:\n",
    "        return 0"
   ]
  },
  {
   "cell_type": "code",
   "execution_count": 23,
   "id": "922f06a2-5a89-42ca-bff7-ae6d6cb81eea",
   "metadata": {},
   "outputs": [],
   "source": [
    "import numpy as np\n",
    "# 부동 소수점 오차방지\n",
    "epsilon = 0.0000001\n",
    "# 활성화 함수(step function)\n",
    "def step_func(t):\n",
    "    if t > epsilon:\n",
    "        return 1\n",
    "    else:\n",
    "        return 0\n",
    "# XOR 연산 학습 데이터\n",
    "X = np.array([\n",
    "    [0,0,1],# 맨 끝의 1은 바이어스를 위한 입력신호 1이다.\n",
    "    [0,1,1],# 맨 끝의 1은 바이어스를 위한 입력신호 1이다.\n",
    "    [1,0,1],# 맨 끝의 1은 바이어스를 위한 입력신호 1이다.\n",
    "    [1,1,1] # 맨 끝의 1은 바이어스를 위한 입력신호 1이다.\n",
    "])\n",
    "\n",
    "y = np.array([0,1,1,0])\n",
    "W = np.zeros(len(X[0])) #가중치를 저장하는 행렬"
   ]
  },
  {
   "cell_type": "code",
   "execution_count": 28,
   "id": "bf6aaea0-82d0-411d-a78a-af38e74c125f",
   "metadata": {},
   "outputs": [],
   "source": [
    "def perceptron_fit(X,Y, epochs=2):\n",
    "    global W\n",
    "    # 학습률\n",
    "    eta = 0.2\n",
    "    for t in range(epochs):\n",
    "        print('epoch=',t,'='*10)\n",
    "        for i in range(len(X)):\n",
    "            # 예측 값 구하기\n",
    "            predict = step_func(np.dot(X[i], W))\n",
    "            # 오차 계산\n",
    "            error = Y[i] - predict\n",
    "            # 가중치 업데이트\n",
    "            W += eta * error * X[i]\n",
    "            print('현재 처리 입력 = ',X[i], '정답=',Y[i], '예측=', predict, '변경된가중치=',W)\n",
    "        print('='*20)"
   ]
  },
  {
   "cell_type": "code",
   "execution_count": 25,
   "id": "3ee12aaf-a534-43d4-b4b3-aa2bb2515477",
   "metadata": {},
   "outputs": [
    {
     "data": {
      "text/plain": [
       "array([0, 0, 1])"
      ]
     },
     "execution_count": 25,
     "metadata": {},
     "output_type": "execute_result"
    }
   ],
   "source": [
    "X[0]"
   ]
  },
  {
   "cell_type": "code",
   "execution_count": 26,
   "id": "d914f400-5b98-46ff-85fc-eb531d1fb113",
   "metadata": {},
   "outputs": [],
   "source": [
    "def perceptron_predict(X,Y):\n",
    "    global W\n",
    "    for x in X:\n",
    "        print(x[0],x[1],'->', step_func(np.dot(x,W)))"
   ]
  },
  {
   "cell_type": "code",
   "execution_count": 29,
   "id": "d2dc2671-be0b-4f1a-986c-eb7035d50b2f",
   "metadata": {},
   "outputs": [
    {
     "name": "stdout",
     "output_type": "stream",
     "text": [
      "epoch= 0 ==========\n",
      "현재 처리 입력 =  [0 0 1] 정답= 0 예측= 1 변경된가중치= [-0.2  0.   0. ]\n",
      "현재 처리 입력 =  [0 1 1] 정답= 1 예측= 0 변경된가중치= [-0.2  0.2  0.2]\n",
      "현재 처리 입력 =  [1 0 1] 정답= 1 예측= 0 변경된가중치= [0.  0.2 0.4]\n",
      "현재 처리 입력 =  [1 1 1] 정답= 0 예측= 1 변경된가중치= [-0.2  0.   0.2]\n",
      "====================\n",
      "epoch= 1 ==========\n",
      "현재 처리 입력 =  [0 0 1] 정답= 0 예측= 1 변경된가중치= [-0.2  0.   0. ]\n",
      "현재 처리 입력 =  [0 1 1] 정답= 1 예측= 0 변경된가중치= [-0.2  0.2  0.2]\n",
      "현재 처리 입력 =  [1 0 1] 정답= 1 예측= 0 변경된가중치= [0.  0.2 0.4]\n",
      "현재 처리 입력 =  [1 1 1] 정답= 0 예측= 1 변경된가중치= [-0.2  0.   0.2]\n",
      "====================\n"
     ]
    }
   ],
   "source": [
    "perceptron_fit(X,y)"
   ]
  },
  {
   "cell_type": "code",
   "execution_count": 30,
   "id": "4e876539-238e-41d3-80e9-c5c070995f1e",
   "metadata": {},
   "outputs": [
    {
     "data": {
      "text/plain": [
       "array([-0.2,  0. ,  0.2])"
      ]
     },
     "execution_count": 30,
     "metadata": {},
     "output_type": "execute_result"
    }
   ],
   "source": [
    "W"
   ]
  },
  {
   "cell_type": "code",
   "execution_count": 32,
   "id": "1a6e8a40-1675-4973-a5df-163d6727883e",
   "metadata": {},
   "outputs": [
    {
     "name": "stdout",
     "output_type": "stream",
     "text": [
      "0 0 -> 1\n",
      "0 1 -> 1\n",
      "1 0 -> 0\n",
      "1 1 -> 0\n"
     ]
    }
   ],
   "source": [
    "perceptron_predict(X,y)"
   ]
  },
  {
   "cell_type": "code",
   "execution_count": null,
   "id": "c245c3e3-a4d7-42b8-9b34-c22ae02bf823",
   "metadata": {},
   "outputs": [],
   "source": []
  }
 ],
 "metadata": {
  "kernelspec": {
   "display_name": "test",
   "language": "python",
   "name": "test"
  },
  "language_info": {
   "codemirror_mode": {
    "name": "ipython",
    "version": 3
   },
   "file_extension": ".py",
   "mimetype": "text/x-python",
   "name": "python",
   "nbconvert_exporter": "python",
   "pygments_lexer": "ipython3",
   "version": "3.8.13"
  }
 },
 "nbformat": 4,
 "nbformat_minor": 5
}
