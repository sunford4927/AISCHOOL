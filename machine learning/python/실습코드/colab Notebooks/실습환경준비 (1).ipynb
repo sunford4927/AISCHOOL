{
  "cells": [
    {
      "cell_type": "code",
      "execution_count": null,
      "metadata": {
        "id": "25lcse8F_xCt"
      },
      "outputs": [],
      "source": [
        "# !mkdir dataset\n",
        "# !gdown --id 1SXrMPCv7iywBCOnCuSe7opd_p3MA7xvA --output /content/dataset/Defect_images.7z\n",
        "# !gdown --id 1_7bob9HDskP0nvShsDcrjGWe1oL5z3AY --output /content/dataset/Mask_images.7z\n",
        "# !gdown --id 1DIh-KtVpoLKNsaWAFdGXxORFQNxiUgQJ --output /content/dataset/Mask_images.7z"
      ]
    },
    {
      "cell_type": "code",
      "execution_count": null,
      "metadata": {
        "colab": {
          "base_uri": "https://localhost:8080/"
        },
        "id": "H2uFpJpJASSF",
        "outputId": "b9c7bcd1-d79e-4748-caed-8060e7e355db"
      },
      "outputs": [
        {
          "name": "stdout",
          "output_type": "stream",
          "text": [
            "/content/dataset\n"
          ]
        }
      ],
      "source": [
        "!mkdir dataset\n",
        "%cd dataset\n",
        "!cp /content/drive/MyDrive/*.7z ./"
      ]
    },
    {
      "cell_type": "code",
      "execution_count": null,
      "metadata": {
        "colab": {
          "base_uri": "https://localhost:8080/"
        },
        "id": "CLZo8Et0CNr0",
        "outputId": "bd474bae-7298-4e5b-e3d0-320a0ff5ea12"
      },
      "outputs": [
        {
          "name": "stdout",
          "output_type": "stream",
          "text": [
            "/content/dataset\n"
          ]
        }
      ],
      "source": [
        "# 현재 위치 확인\n",
        "!pwd"
      ]
    },
    {
      "cell_type": "code",
      "execution_count": null,
      "metadata": {
        "colab": {
          "base_uri": "https://localhost:8080/"
        },
        "id": "8vbfy-GZD_yZ",
        "outputId": "fd135760-608c-4258-d812-506073cc48b5"
      },
      "outputs": [
        {
          "name": "stdout",
          "output_type": "stream",
          "text": [
            "\n",
            "7-Zip [64] 16.02 : Copyright (c) 1999-2016 Igor Pavlov : 2016-05-21\n",
            "p7zip Version 16.02 (locale=en_US.UTF-8,Utf16=on,HugeFiles=on,64 bits,2 CPUs Intel(R) Xeon(R) CPU @ 2.30GHz (306F0),ASM,AES-NI)\n",
            "\n",
            "Scanning the drive for archives:\n",
            "  0M Scan\b\b\b\b\b\b\b\b\b         \b\b\b\b\b\b\b\b\b1 file, 77676758 bytes (75 MiB)\n",
            "\n",
            "Extracting archive: Defect_images.7z\n",
            "--\n",
            "Path = Defect_images.7z\n",
            "Type = 7z\n",
            "Physical Size = 77676758\n",
            "Headers Size = 1620\n",
            "Method = LZMA2:24\n",
            "Solid = +\n",
            "Blocks = 1\n",
            "\n",
            "  0%\b\b\b\b    \b\b\b\b 87% 90 - Defect_images/0093_030_01.png\b\b\b\b\b\b\b\b\b\b\b\b\b\b\b\b\b\b\b\b\b\b\b\b\b\b\b\b\b\b\b\b\b\b\b\b\b\b\b                                       \b\b\b\b\b\b\b\b\b\b\b\b\b\b\b\b\b\b\b\b\b\b\b\b\b\b\b\b\b\b\b\b\b\b\b\b\b\b\bEverything is Ok\n",
            "\n",
            "Folders: 1\n",
            "Files: 106\n",
            "Size:       77674496\n",
            "Compressed: 77676758\n",
            "\n",
            "7-Zip [64] 16.02 : Copyright (c) 1999-2016 Igor Pavlov : 2016-05-21\n",
            "p7zip Version 16.02 (locale=en_US.UTF-8,Utf16=on,HugeFiles=on,64 bits,2 CPUs Intel(R) Xeon(R) CPU @ 2.30GHz (306F0),ASM,AES-NI)\n",
            "\n",
            "Scanning the drive for archives:\n",
            "  0M Scan\b\b\b\b\b\b\b\b\b         \b\b\b\b\b\b\b\b\b1 file, 88311 bytes (87 KiB)\n",
            "\n",
            "Extracting archive: Mask_images.7z\n",
            "--\n",
            "Path = Mask_images.7z\n",
            "Type = 7z\n",
            "Physical Size = 88311\n",
            "Headers Size = 1496\n",
            "Method = LZMA2:18\n",
            "Solid = +\n",
            "Blocks = 1\n",
            "\n",
            "  0%\b\b\b\b    \b\b\b\bEverything is Ok\n",
            "\n",
            "Folders: 1\n",
            "Files: 107\n",
            "Size:       216186\n",
            "Compressed: 88311\n",
            "\n",
            "7-Zip [64] 16.02 : Copyright (c) 1999-2016 Igor Pavlov : 2016-05-21\n",
            "p7zip Version 16.02 (locale=en_US.UTF-8,Utf16=on,HugeFiles=on,64 bits,2 CPUs Intel(R) Xeon(R) CPU @ 2.30GHz (306F0),ASM,AES-NI)\n",
            "\n",
            "Scanning the drive for archives:\n",
            "  0M Scan\b\b\b\b\b\b\b\b\b         \b\b\b\b\b\b\b\b\b1 file, 98321827 bytes (94 MiB)\n",
            "\n",
            "Extracting archive: NODefect_images.7z\n",
            "--\n",
            "Path = NODefect_images.7z\n",
            "Type = 7z\n",
            "Physical Size = 98321827\n",
            "Headers Size = 1749\n",
            "Method = LZMA2:24\n",
            "Solid = +\n",
            "Blocks = 1\n",
            "\n",
            "  0%\b\b\b\b    \b\b\b\b 41% 56 - NODefect_images/2311517-195063u/0009_000_04.png\b\b\b\b\b\b\b\b\b\b\b\b\b\b\b\b\b\b\b\b\b\b\b\b\b\b\b\b\b\b\b\b\b\b\b\b\b\b\b\b\b\b\b\b\b\b\b\b\b\b\b\b\b\b\b\b\b                                                         \b\b\b\b\b\b\b\b\b\b\b\b\b\b\b\b\b\b\b\b\b\b\b\b\b\b\b\b\b\b\b\b\b\b\b\b\b\b\b\b\b\b\b\b\b\b\b\b\b\b\b\b\b\b\b\b\b 45% 61 - NODefect_images/2311517-195063u/0014_000_04.png\b\b\b\b\b\b\b\b\b\b\b\b\b\b\b\b\b\b\b\b\b\b\b\b\b\b\b\b\b\b\b\b\b\b\b\b\b\b\b\b\b\b\b\b\b\b\b\b\b\b\b\b\b\b\b\b\b                                                         \b\b\b\b\b\b\b\b\b\b\b\b\b\b\b\b\b\b\b\b\b\b\b\b\b\b\b\b\b\b\b\b\b\b\b\b\b\b\b\b\b\b\b\b\b\b\b\b\b\b\b\b\b\b\b\b\b 71% 108 - NODefect_images/2311980-185026u/0001_000_06.png\b\b\b\b\b\b\b\b\b\b\b\b\b\b\b\b\b\b\b\b\b\b\b\b\b\b\b\b\b\b\b\b\b\b\b\b\b\b\b\b\b\b\b\b\b\b\b\b\b\b\b\b\b\b\b\b\b\b                                                          \b\b\b\b\b\b\b\b\b\b\b\b\b\b\b\b\b\b\b\b\b\b\b\b\b\b\b\b\b\b\b\b\b\b\b\b\b\b\b\b\b\b\b\b\b\b\b\b\b\b\b\b\b\b\b\b\b\bEverything is Ok\n",
            "\n",
            "Folders: 8\n",
            "Files: 141\n",
            "Size:       98324622\n",
            "Compressed: 98321827\n"
          ]
        }
      ],
      "source": [
        "!7z x Defect_images.7z\n",
        "!7z x Mask_images.7z\n",
        "!7z x NODefect_images.7z"
      ]
    },
    {
      "cell_type": "code",
      "execution_count": null,
      "metadata": {
        "id": "zORmQeZoEF_p"
      },
      "outputs": [],
      "source": [
        "import cv2\n",
        "import os\n",
        "import glob\n",
        "import shutil\n",
        "import random\n",
        "import string\n",
        "import numpy as np"
      ]
    },
    {
      "cell_type": "code",
      "execution_count": null,
      "metadata": {
        "id": "NG8ZyhGJGNO-"
      },
      "outputs": [],
      "source": [
        "PATH_DEFECT = '/content/dataset/Defect_images/'\n",
        "PATH_MASK = '/content/dataset/Mask_images/'\n",
        "PATH_NODEFECT = '/content/dataset/NODefect_images/'"
      ]
    },
    {
      "cell_type": "code",
      "execution_count": null,
      "metadata": {
        "id": "pC_B-DrgGkvu"
      },
      "outputs": [],
      "source": [
        "# Dataset 불러오기\n",
        "random.seed(0)\n",
        "\n",
        "defect_list = glob.glob(PATH_DEFECT + '*.png')\n",
        "mask_list = glob.glob(PATH_MASK + '*.png')\n",
        "pass_list = glob.glob(PATH_NODEFECT + '**/*.png')"
      ]
    },
    {
      "cell_type": "code",
      "execution_count": null,
      "metadata": {
        "colab": {
          "base_uri": "https://localhost:8080/",
          "height": 35
        },
        "id": "DPxfV9CfKz6r",
        "outputId": "c381caf7-39fb-4ec3-9ea3-ae9ceb2b422e"
      },
      "outputs": [
        {
          "data": {
            "application/vnd.google.colaboratory.intrinsic+json": {
              "type": "string"
            },
            "text/plain": [
              "'0016'"
            ]
          },
          "execution_count": 8,
          "metadata": {},
          "output_type": "execute_result"
        }
      ],
      "source": [
        "'/content/dataset/Mask_images/0016_006_02_mask.png'.split('/')[-1].split('_')[0]"
      ]
    },
    {
      "cell_type": "code",
      "execution_count": null,
      "metadata": {
        "colab": {
          "base_uri": "https://localhost:8080/",
          "height": 35
        },
        "id": "6P1pNeW0KVf6",
        "outputId": "1087b98b-62f2-469d-a487-860957c34094"
      },
      "outputs": [
        {
          "data": {
            "application/vnd.google.colaboratory.intrinsic+json": {
              "type": "string"
            },
            "text/plain": [
              "'0018'"
            ]
          },
          "execution_count": 9,
          "metadata": {},
          "output_type": "execute_result"
        }
      ],
      "source": [
        "'/content/dataset/NODefect_images/2608691-202020u/0018_00_01.png'.split('/')[-1].split('_')[0]"
      ]
    },
    {
      "cell_type": "code",
      "execution_count": null,
      "metadata": {
        "id": "i8xdSIQkJkmM"
      },
      "outputs": [],
      "source": [
        "# match defect - mask pairs\n",
        "new_defect_list = list()\n",
        "new_mask_list = list()\n",
        "for defect in defect_list:\n",
        "  num = defect.split('/')[-1].split('_')[0]\n",
        "  for mask in mask_list:\n",
        "    num_mask = mask.split('/')[-1].split('_')[0]\n",
        "    if num == num_mask:\n",
        "      new_defect_list.append(defect)\n",
        "      new_mask_list.append(mask)\n",
        "      break\n",
        "defect_list = new_defect_list\n",
        "mask_list = new_mask_list"
      ]
    },
    {
      "cell_type": "markdown",
      "metadata": {
        "id": "HXLQxuYXJl7c"
      },
      "source": [
        "# 첫 발송 데이터 생성"
      ]
    },
    {
      "cell_type": "code",
      "execution_count": null,
      "metadata": {
        "colab": {
          "base_uri": "https://localhost:8080/"
        },
        "id": "fLwcCtG_MZ9w",
        "outputId": "4002ccb5-365d-4403-96a3-907a677e73b5"
      },
      "outputs": [
        {
          "data": {
            "text/plain": [
              "True"
            ]
          },
          "execution_count": 11,
          "metadata": {},
          "output_type": "execute_result"
        }
      ],
      "source": [
        "os.path.exists('/content/dataset/1') is False"
      ]
    },
    {
      "cell_type": "code",
      "execution_count": null,
      "metadata": {
        "id": "hU1WGr69L3Qx"
      },
      "outputs": [],
      "source": [
        "# First dataset given\n",
        "if os.path.exists('/content/dataset/1') is False:\n",
        "  os.mkdir('/content/dataset/1')\n",
        "\n",
        "for file_name in pass_list + defect_list:\n",
        "  if random.randint(0,9) < 2:\n",
        "    barcode = ''.join(random.choices(string.ascii_letters + string.digits, k=16))\n",
        "    shutil.copy2(file_name, '/content/dataset/1/' + barcode + '.png')"
      ]
    },
    {
      "cell_type": "markdown",
      "metadata": {
        "id": "lrlo4HhUNUY9"
      },
      "source": [
        "# 두번째 데이터 생성"
      ]
    },
    {
      "cell_type": "code",
      "execution_count": null,
      "metadata": {
        "id": "WYY-MdBYNs3I"
      },
      "outputs": [],
      "source": [
        "# second dataset\n",
        "if os.path.exists('/content/dataset/2') is False:\n",
        "  os.mkdir('/content/dataset/2')\n",
        "if os.path.exists('/content/dataset/2/OK') is False:\n",
        "  os.mkdir('/content/dataset/2/OK')\n",
        "if os.path.exists('/content/dataset/2/FAIL') is False:\n",
        "  os.mkdir('/content/dataset/2/FAIL')\n",
        "\n",
        "idx =0\n",
        "for file_name in pass_list:\n",
        "  img = cv2.imread(file_name)\n",
        "  height, width, _ = img.shape\n",
        "  step = height // 2\n",
        "  for i in range(width // step):\n",
        "    w = i * step\n",
        "    if w < width - height and random.randint(0, 9) < 2:\n",
        "      patch = img[:, w:w+height, :]\n",
        "      cv2.imwrite('/content/dataset/2/OK/%04d.png' % idx, patch)\n",
        "      idx += 1\n",
        "\n",
        "patch_list = list()\n",
        "for item in zip(defect_list, mask_list):\n",
        "  defect, mask = item\n",
        "  img_d = cv2.imread(defect)\n",
        "  img_m = cv2.imread(mask)\n",
        "\n",
        "  height, width, _ = img_d.shape\n",
        "  step = height // 2\n",
        "  for i in range(width // step):\n",
        "    w = i * step\n",
        "    if w < width - height:\n",
        "      patch = img_d[:, w:w+height, :]\n",
        "      patch_m = img_m[:, w:w+height, :]\n",
        "      if patch_m.sum() > 0:\n",
        "        patch_list.append(patch)\n",
        "random.shuffle(patch_list)\n",
        "patch_list_fraction = patch_list[:len(patch_list)//3]\n",
        "for idx, patch in enumerate(patch_list_fraction):\n",
        "  cv2.imwrite('/content/dataset/2/FAIL/%4d.png'% idx, patch)"
      ]
    },
    {
      "cell_type": "markdown",
      "metadata": {
        "id": "6VZBoAiAQRYp"
      },
      "source": [
        "# 세번째 데이터 생성"
      ]
    },
    {
      "cell_type": "code",
      "execution_count": null,
      "metadata": {
        "id": "jR_OQSZ7Qqjk"
      },
      "outputs": [],
      "source": [
        "# third dataset\n",
        "if os.path.exists('/content/dataset/3') is False:\n",
        "  os.mkdir('/content/dataset/3')\n",
        "if os.path.exists('/content/dataset/3/OK') is False:\n",
        "  os.mkdir('/content/dataset/3/OK')\n",
        "if os.path.exists('/content/dataset/3/FAIL') is False:\n",
        "  os.mkdir('/content/dataset/3/FAIL')\n",
        "if os.path.exists('/content/dataset/3/MASK') is False:\n",
        "  os.mkdir('/content/dataset/3/MASK')\n",
        "\n",
        "idx =0\n",
        "for file_name in pass_list:\n",
        "  img = cv2.imread(file_name)\n",
        "  height, width, _ = img.shape\n",
        "  step = height // 2\n",
        "  for i in range(width // step):\n",
        "    w = i * step\n",
        "    if w < width - height and random.randint(0, 9) < 3:\n",
        "      patch = img[:, w:w+height, :]\n",
        "      cv2.imwrite('/content/dataset/3/OK/%04d.png' % idx, patch)\n",
        "      idx += 1\n",
        "\n",
        "patch_pair_list = list()\n",
        "for item in zip(defect_list, mask_list):\n",
        "  defect, mask = item\n",
        "  img_d = cv2.imread(defect)\n",
        "  img_m = cv2.imread(mask)\n",
        "\n",
        "  height, width, _ = img_d.shape\n",
        "  step = height // 2\n",
        "  for i in range(width // step):\n",
        "    w = i * step\n",
        "    if w < width - height:\n",
        "      patch_d = img_d[:, w:w+height, :]\n",
        "      patch_m = img_m[:, w:w+height, :]\n",
        "      if patch_d.sum() > 0:\n",
        "        patch_pair_list.append((patch_d, patch_m))\n",
        "random.shuffle(patch_pair_list)\n",
        "for idx, pair in enumerate(patch_pair_list):\n",
        "  patch, patch_d = pair\n",
        "  cv2.imwrite('/content/dataset/3/FAIL/%4d.png'% idx, patch)\n",
        "  cv2.imwrite('/content/dataset/3/MASK/%4d.png'% idx, patch_d)"
      ]
    },
    {
      "cell_type": "markdown",
      "metadata": {
        "id": "L44HducVdZlx"
      },
      "source": [
        "# 테스트 데이터 생성"
      ]
    },
    {
      "cell_type": "code",
      "execution_count": null,
      "metadata": {
        "id": "i5N3NW3HR_T3"
      },
      "outputs": [],
      "source": [
        "# The test dataset\n",
        "if os.path.exists('/content/data/') is False:\n",
        "    os.mkdir('/content/data/')\n",
        "if os.path.exists('/content/tfrecords/') is False:\n",
        "    os.mkdir('/content/tfrecords/')\n",
        "if os.path.exists('/content/model/') is False:\n",
        "    os.mkdir('/content/model/')\n",
        "if os.path.exists('/content/data/input_data') is False:\n",
        "    os.mkdir('/content/data/input_data')\n",
        "if os.path.exists('/content/data/output_csv') is False:\n",
        "    os.mkdir('/content/data/output_csv')\n",
        "\n",
        "idx = 0\n",
        "for file_name in pass_list:\n",
        "    img = cv2.imread(file_name)\n",
        "    height, width, _ = img.shape\n",
        "    step = height // 2\n",
        "\n",
        "    for i in range(width // step):\n",
        "        w = i * step\n",
        "        if w < width - height and random.randint(0, 9) < 5:\n",
        "            patch = img[:, w:w+height, :]\n",
        "            cv2.imwrite('/content/data/input_data/ok_%04d.png' % idx, patch)\n",
        "            idx += 1 \n",
        "\n",
        "patch_pair_list = list()\n",
        "for item in zip(defect_list, mask_list):\n",
        "    defect, mask = item\n",
        "\n",
        "    img_d = cv2.imread(defect)\n",
        "    img_m = cv2.imread(mask)\n",
        "\n",
        "    height, width, _ = img_d.shape\n",
        "    step = height // 2\n",
        "    for i in range(width // step):\n",
        "        w = i * step\n",
        "        if w < width - height:\n",
        "            patch = img_d[:, w:w+height, :]\n",
        "            patch_d = img_m[:, w:w+height, :]\n",
        "\n",
        "            if patch_d.sum() > 0:\n",
        "                patch_pair_list.append((patch, patch_d))\n",
        "\n",
        "random.shuffle(patch_pair_list)\n",
        "for idx, pair in enumerate(patch_pair_list):\n",
        "    patch, patch_d = pair\n",
        "    cv2.imwrite('/content/data/input_data/fail_%04d.png' % idx, patch)"
      ]
    },
    {
      "cell_type": "markdown",
      "metadata": {
        "id": "6dNe6o0wkVR5"
      },
      "source": [
        "# 실행 가능성 확인하기 (베이스라인 모델 생성)"
      ]
    },
    {
      "cell_type": "code",
      "execution_count": null,
      "metadata": {
        "id": "eMJWvsPYomIV"
      },
      "outputs": [],
      "source": [
        "import glob\n",
        "import os\n",
        "import tensorflow as tf\n",
        "import cv2\n",
        "from tensorflow.keras.layers import Conv2D, MaxPool2D, Flatten, Dense\n",
        "from tensorflow.keras.models import Sequential"
      ]
    },
    {
      "cell_type": "markdown",
      "metadata": {
        "id": "7WtXb3p3o8KN"
      },
      "source": [
        "## 하이퍼파라미터 선언"
      ]
    },
    {
      "cell_type": "code",
      "execution_count": null,
      "metadata": {
        "id": "EONoq-PcpDDB"
      },
      "outputs": [],
      "source": [
        "EPOCHS = 10\n",
        "DATASET_PATH = '/content/dataset/2/'\n",
        "DATASET_OK_PATH = DATASET_PATH + 'OK/*.png'\n",
        "DATASET_FAIL_PATH = DATASET_PATH + 'FAIL/*.png'\n",
        "RESULT_SAVE_PATH = '/content/model/'"
      ]
    },
    {
      "cell_type": "code",
      "execution_count": null,
      "metadata": {
        "colab": {
          "base_uri": "https://localhost:8080/"
        },
        "id": "es_fHUe8psOP",
        "outputId": "87c169dd-e1a7-4237-d2f7-bd8da9243a31"
      },
      "outputs": [
        {
          "data": {
            "text/plain": [
              "('/content/dataset/2/OK/*.png', '/content/dataset/2/OK')"
            ]
          },
          "execution_count": 18,
          "metadata": {},
          "output_type": "execute_result"
        }
      ],
      "source": [
        "DATASET_OK_PATH, '/content/dataset/2/OK'"
      ]
    },
    {
      "cell_type": "markdown",
      "metadata": {
        "id": "lFCJVSCuptXp"
      },
      "source": [
        "## 단순한 모델 설정"
      ]
    },
    {
      "cell_type": "code",
      "execution_count": null,
      "metadata": {
        "id": "CzpC-SzGp8o0"
      },
      "outputs": [],
      "source": [
        "def Model():\n",
        "  return Sequential([\n",
        "      Conv2D(32, (3,3), activation='relu', input_shape=(256, 256, 1)),\n",
        "      MaxPool2D(),\n",
        "      Conv2D(64, (3,3), activation='relu'),\n",
        "      MaxPool2D(),\n",
        "      Conv2D(128, (3,3), activation='relu'),\n",
        "      MaxPool2D(),\n",
        "      Conv2D(256, (3,3), activation='relu'),\n",
        "      MaxPool2D(),\n",
        "      Flatten(),\n",
        "      Dense(1, activation='sigmoid')\n",
        "  ])"
      ]
    },
    {
      "cell_type": "markdown",
      "metadata": {
        "id": "8BGISw8Nq0-m"
      },
      "source": [
        "## 데이터셋 불러오기"
      ]
    },
    {
      "cell_type": "code",
      "execution_count": null,
      "metadata": {
        "id": "569i2D9frVyr"
      },
      "outputs": [],
      "source": [
        "def preprocess(file_name):\n",
        "  img = tf.io.read_file(file_name)\n",
        "  img = tf.image.decode_png(img, channels=1)\n",
        "  return tf.image.convert_image_dtype(img, tf.float32)"
      ]
    },
    {
      "cell_type": "code",
      "execution_count": null,
      "metadata": {
        "id": "e355mjR3sCHe"
      },
      "outputs": [],
      "source": [
        "ok_list = glob.glob(DATASET_OK_PATH)\n",
        "ds_ok = tf.data.Dataset.list_files(ok_list)\n",
        "ds_ok_label = tf.data.Dataset.from_tensor_slices([0] * len(ok_list))\n",
        "ds_ok = ds_ok.map(preprocess)\n",
        "ds_ok = tf.data.Dataset.zip((ds_ok, ds_ok_label))"
      ]
    },
    {
      "cell_type": "code",
      "execution_count": null,
      "metadata": {
        "id": "FUGU_5hTsfjn"
      },
      "outputs": [],
      "source": [
        "fail_list = glob.glob(DATASET_FAIL_PATH)\n",
        "ds_fail = tf.data.Dataset.list_files(fail_list)\n",
        "ds_fail_label = tf.data.Dataset.from_tensor_slices([1] * len(fail_list))\n",
        "ds_fail = ds_fail.map(preprocess)\n",
        "ds_fail = tf.data.Dataset.zip((ds_fail, ds_fail_label))"
      ]
    },
    {
      "cell_type": "code",
      "execution_count": null,
      "metadata": {
        "id": "PAIAwleZt7Rg"
      },
      "outputs": [],
      "source": [
        "ds = tf.data.Dataset.concatenate(ds_ok, ds_fail)"
      ]
    },
    {
      "cell_type": "code",
      "execution_count": null,
      "metadata": {
        "id": "jErMv8TquG4G"
      },
      "outputs": [],
      "source": [
        "# train valid 데이터 나누기\n",
        "ds_size = len(ok_list) + len(fail_list)\n",
        "train_size = int(ds_size * 0.7)\n",
        "\n",
        "ds = ds.shuffle(ds_size)\n",
        "ds_train = ds.take(train_size).shuffle(1024, reshuffle_each_iteration=True).batch(32)\n",
        "ds_valid = ds.skip(train_size).batch(32)"
      ]
    },
    {
      "cell_type": "code",
      "execution_count": null,
      "metadata": {
        "id": "fVI3aNtLuzMo"
      },
      "outputs": [],
      "source": [
        "# 모델 생성 및 학습\n",
        "model = Model()\n",
        "model.compile(optimizer='adam', loss='binary_crossentropy', metrics=['accuracy'])"
      ]
    },
    {
      "cell_type": "code",
      "execution_count": null,
      "metadata": {
        "colab": {
          "base_uri": "https://localhost:8080/"
        },
        "id": "oJMJ1cPmvT0w",
        "outputId": "58b66d60-44e9-491c-801d-dded2b1cf5a2"
      },
      "outputs": [
        {
          "name": "stdout",
          "output_type": "stream",
          "text": [
            "Model: \"sequential\"\n",
            "_________________________________________________________________\n",
            " Layer (type)                Output Shape              Param #   \n",
            "=================================================================\n",
            " conv2d (Conv2D)             (None, 254, 254, 32)      320       \n",
            "                                                                 \n",
            " max_pooling2d (MaxPooling2D  (None, 127, 127, 32)     0         \n",
            " )                                                               \n",
            "                                                                 \n",
            " conv2d_1 (Conv2D)           (None, 125, 125, 64)      18496     \n",
            "                                                                 \n",
            " max_pooling2d_1 (MaxPooling  (None, 62, 62, 64)       0         \n",
            " 2D)                                                             \n",
            "                                                                 \n",
            " conv2d_2 (Conv2D)           (None, 60, 60, 128)       73856     \n",
            "                                                                 \n",
            " max_pooling2d_2 (MaxPooling  (None, 30, 30, 128)      0         \n",
            " 2D)                                                             \n",
            "                                                                 \n",
            " conv2d_3 (Conv2D)           (None, 28, 28, 256)       295168    \n",
            "                                                                 \n",
            " max_pooling2d_3 (MaxPooling  (None, 14, 14, 256)      0         \n",
            " 2D)                                                             \n",
            "                                                                 \n",
            " flatten (Flatten)           (None, 50176)             0         \n",
            "                                                                 \n",
            " dense (Dense)               (None, 1)                 50177     \n",
            "                                                                 \n",
            "=================================================================\n",
            "Total params: 438,017\n",
            "Trainable params: 438,017\n",
            "Non-trainable params: 0\n",
            "_________________________________________________________________\n"
          ]
        }
      ],
      "source": [
        "model.summary()"
      ]
    },
    {
      "cell_type": "code",
      "execution_count": null,
      "metadata": {
        "colab": {
          "background_save": true,
          "base_uri": "https://localhost:8080/"
        },
        "id": "_g8IZc1zvV8D",
        "outputId": "cbe232df-053c-497b-b5aa-ce579e1cf5ff"
      },
      "outputs": [
        {
          "name": "stdout",
          "output_type": "stream",
          "text": [
            "Epoch 1/10\n",
            "42/42 [==============================] - 138s 3s/step - loss: 0.6329 - accuracy: 0.6495 - val_loss: 0.7256 - val_accuracy: 0.5546\n",
            "Epoch 2/10\n",
            "42/42 [==============================] - 130s 3s/step - loss: 0.6541 - accuracy: 0.6246 - val_loss: 0.5675 - val_accuracy: 0.3891\n",
            "Epoch 3/10\n",
            "42/42 [==============================] - 130s 3s/step - loss: 0.4883 - accuracy: 0.7772 - val_loss: 0.3265 - val_accuracy: 0.8944\n",
            "Epoch 4/10\n",
            "42/42 [==============================] - 131s 3s/step - loss: 0.6743 - accuracy: 0.5687 - val_loss: 0.6757 - val_accuracy: 0.5739\n",
            "Epoch 5/10\n",
            "42/42 [==============================] - 134s 3s/step - loss: 0.6210 - accuracy: 0.6579 - val_loss: 0.8063 - val_accuracy: 0.6813\n",
            "Epoch 6/10\n",
            "42/42 [==============================] - 135s 3s/step - loss: 0.3294 - accuracy: 0.8731 - val_loss: 0.1136 - val_accuracy: 0.9912\n",
            "Epoch 7/10\n",
            "42/42 [==============================] - 134s 3s/step - loss: 0.0495 - accuracy: 0.9872 - val_loss: 0.0249 - val_accuracy: 0.9912\n",
            "Epoch 8/10\n",
            "42/42 [==============================] - 132s 3s/step - loss: 0.7334 - accuracy: 0.8029 - val_loss: 0.3264 - val_accuracy: 0.9912\n",
            "Epoch 9/10\n",
            "42/42 [==============================] - 133s 3s/step - loss: 0.0875 - accuracy: 0.9766 - val_loss: 0.0184 - val_accuracy: 0.9947\n",
            "Epoch 10/10\n",
            "42/42 [==============================] - 136s 3s/step - loss: 0.0150 - accuracy: 0.9947 - val_loss: 0.0170 - val_accuracy: 0.9965\n"
          ]
        },
        {
          "data": {
            "text/plain": [
              "<keras.callbacks.History at 0x7fb105c3b810>"
            ]
          },
          "execution_count": 60,
          "metadata": {},
          "output_type": "execute_result"
        }
      ],
      "source": [
        "model.fit(ds_train, validation_data=ds_valid, epochs=EPOCHS)"
      ]
    },
    {
      "cell_type": "code",
      "execution_count": null,
      "metadata": {
        "id": "mNJeXYZVv00s"
      },
      "outputs": [],
      "source": []
    },
    {
      "cell_type": "markdown",
      "metadata": {
        "id": "F5Y19xhswWRf"
      },
      "source": [
        "# 결과를 이미지로 저장"
      ]
    },
    {
      "cell_type": "code",
      "execution_count": null,
      "metadata": {
        "id": "IYXCdqLQwg7i"
      },
      "outputs": [],
      "source": [
        "def mkdir(path):\n",
        "  if os.path.exists(path) is False:\n",
        "    os.mkdir(path)"
      ]
    },
    {
      "cell_type": "code",
      "execution_count": null,
      "metadata": {
        "id": "eA3M_JUkwoRV"
      },
      "outputs": [],
      "source": [
        "mkdir(RESULT_SAVE_PATH)\n",
        "mkdir(RESULT_SAVE_PATH + '/TP')\n",
        "mkdir(RESULT_SAVE_PATH + '/TN')\n",
        "mkdir(RESULT_SAVE_PATH + '/FP')\n",
        "mkdir(RESULT_SAVE_PATH + '/FN')"
      ]
    },
    {
      "cell_type": "code",
      "execution_count": 31,
      "metadata": {
        "id": "Gnk3Uttgw15S"
      },
      "outputs": [],
      "source": [
        "index = 0\n",
        "for imags, labels in ds_valid:\n",
        "  preds = model.predict(imags)\n",
        "  for idx in range(imags.shape[0]):\n",
        "    gt = labels[idx].numpy()\n",
        "    y = preds[idx]\n",
        "    if gt == 1 and y > 0.5:\n",
        "      path = RESULT_SAVE_PATH + '/TP'\n",
        "    elif gt == 1 and y <= 0.5:\n",
        "      path = RESULT_SAVE_PATH + '/FN'\n",
        "    elif gt == 0 and y > 0.5:\n",
        "      path = RESULT_SAVE_PATH + '/FP'\n",
        "    else:\n",
        "      path = RESULT_SAVE_PATH + '/TN'\n",
        "    cv2.imwrite(path + '/%.f4_%04d.png' % (y, index), imags[idx].numpy() * 255)\n",
        "    index += 1\n",
        "    "
      ]
    },
    {
      "cell_type": "markdown",
      "source": [
        "# TFRecord Builder"
      ],
      "metadata": {
        "id": "yw3hOyeT3DXV"
      }
    },
    {
      "cell_type": "code",
      "source": [
        "import glob\n",
        "import os\n",
        "import tensorflow as tf\n",
        "import cv2"
      ],
      "metadata": {
        "id": "gwC_F5hb8mSp"
      },
      "execution_count": 32,
      "outputs": []
    },
    {
      "cell_type": "code",
      "source": [
        "# Paths and Hyperparameters\n",
        "DATASET_OK_PATH = '/content/dataset/3/OK/*.png'\n",
        "DATASET_FAIL_PATH = '/content/dataset/3/FAIL/*.png'\n",
        "TRFECORD_PATH = '/content/tfrecords/'\n",
        "IMAGE_PER_TFRCEORD = 100"
      ],
      "metadata": {
        "id": "N9sfcegD8s5x"
      },
      "execution_count": 44,
      "outputs": []
    },
    {
      "cell_type": "code",
      "source": [
        "ok_list = glob.glob(DATASET_OK_PATH)\n",
        "fail_list = glob.glob(DATASET_FAIL_PATH)\n",
        "\n",
        "num_ok = len(ok_list)\n",
        "num_fail = len(fail_list)"
      ],
      "metadata": {
        "id": "U6hRS02T8v_6"
      },
      "execution_count": 47,
      "outputs": []
    },
    {
      "cell_type": "code",
      "source": [
        "num_ok, num_fail, num_ok // num_fail"
      ],
      "metadata": {
        "colab": {
          "base_uri": "https://localhost:8080/"
        },
        "id": "g7P0uj1nCTbE",
        "outputId": "a452ff4d-9a27-4c65-86a2-5c0cd38d3f1e"
      },
      "execution_count": 50,
      "outputs": [
        {
          "output_type": "execute_result",
          "data": {
            "text/plain": [
              "(1284, 3148, 0)"
            ]
          },
          "metadata": {},
          "execution_count": 50
        }
      ]
    },
    {
      "cell_type": "code",
      "source": [
        "# Oversampling\n",
        "fail_list_new = list()\n",
        "for _ in range(num_ok // num_fail):\n",
        "  fail_list_new += fail_list\n",
        "\n",
        "fail_list_new += fail_list[: num_ok % num_fail]\n",
        "fail_list = fail_list_new\n",
        "\n",
        "ok_label = [0] * len(ok_list)\n",
        "fail_label = [1] * len(fail_list)\n",
        "\n",
        "file_list = ok_list + fail_list\n",
        "label_list = ok_label + fail_label"
      ],
      "metadata": {
        "id": "kTaxroEY9j63"
      },
      "execution_count": 37,
      "outputs": []
    },
    {
      "cell_type": "markdown",
      "source": [
        "## TFRecord funtions"
      ],
      "metadata": {
        "id": "J_UuEp-1-Opq"
      }
    },
    {
      "cell_type": "code",
      "source": [
        "def _bytes_feature(value):\n",
        "    \"\"\"Returns a bytes_list from a string / byte.\"\"\"\n",
        "    if isinstance(value, type(tf.constant(0))):\n",
        "        value = value.numpy() # BytesList won't unpack a string from an EagerTensor.\n",
        "    return tf.train.Feature(bytes_list=tf.train.BytesList(value=[value]))\n",
        "\n",
        "def _int64_feature(value):\n",
        "    \"\"\"Returns an int64_list from a bool / enum / int / uint.\"\"\"\n",
        "    return tf.train.Feature(int64_list=tf.train.Int64List(value=[value]))\n",
        "\n",
        "def image_example(image_string, label):\n",
        "    image_shape = tf.image.decode_image(image_string).shape\n",
        "\n",
        "    feature = {\n",
        "        'height': _int64_feature(image_shape[0]),\n",
        "        'width': _int64_feature(image_shape[1]),\n",
        "        'depth': _int64_feature(image_shape[2]),\n",
        "        'label': _int64_feature(label),\n",
        "        'image_raw': _bytes_feature(image_string),\n",
        "    }\n",
        "\n",
        "    return tf.train.Example(features=tf.train.Features(feature=feature))"
      ],
      "metadata": {
        "id": "ydwXf_1Y-ZIF"
      },
      "execution_count": 40,
      "outputs": []
    },
    {
      "cell_type": "code",
      "source": [
        "from tensorflow.python.lib.io.tf_record import TFRecordCompressionType\n",
        "if os.path.exists(TRFECORD_PATH) is False:\n",
        "  os.mkdir(TRFECORD_PATH)\n",
        "\n",
        "num_tfrecords = len(file_list) // IMAGE_PER_TFRCEORD\n",
        "if len(file_list) % IMAGE_PER_TFRCEORD != 0:\n",
        "  num_tfrecords += 1\n",
        "\n",
        "for idx in range(num_tfrecords):\n",
        "  idx0 = idx * IMAGE_PER_TFRCEORD\n",
        "  idx1 = idx0 + IMAGE_PER_TFRCEORD\n",
        "  record_file = TRFECORD_PATH + '%05d.tfrecords' % idx\n",
        "  with tf.io.TFRecordWriter(record_file) as writer:\n",
        "    for filename, label in zip(file_list[idx0:idx1], \n",
        "                               label_list[idx0:idx1]):\n",
        "      image_string = open(filename, 'rb').read()\n",
        "      tf_example = image_example(image_string, label)\n",
        "      writer.write(tf_example.SerializeToString())\n"
      ],
      "metadata": {
        "id": "dbNRNV1R_kfi"
      },
      "execution_count": 51,
      "outputs": []
    },
    {
      "cell_type": "markdown",
      "source": [
        "# 모델 정의"
      ],
      "metadata": {
        "id": "H2o2BBe1EV9L"
      }
    },
    {
      "cell_type": "code",
      "source": [
        "!pip install tensorflow_addons"
      ],
      "metadata": {
        "id": "KY8jx9IqGNWU"
      },
      "execution_count": null,
      "outputs": []
    },
    {
      "cell_type": "code",
      "source": [
        "import glob\n",
        "import os\n",
        "import tensorflow as tf\n",
        "import tensorflow_addons as tfa\n",
        "import matplotlib.pyplot as plt\n",
        "import cv2\n",
        "from tensorflow.keras.layers import Conv2D, MaxPool2D, Concatenate, Flatten, Dense"
      ],
      "metadata": {
        "id": "ic6PcH9KFpQ6"
      },
      "execution_count": 55,
      "outputs": []
    },
    {
      "cell_type": "code",
      "source": [
        "EPOCHS = 1000\n",
        "RESULT_SAVE_PATH = '/content/results/'"
      ],
      "metadata": {
        "id": "hXXJjbT1GCOG"
      },
      "execution_count": 56,
      "outputs": []
    },
    {
      "cell_type": "markdown",
      "source": [
        "# Inception-based 모델정의"
      ],
      "metadata": {
        "id": "d_h-_3QzGfm5"
      }
    },
    {
      "cell_type": "code",
      "source": [
        "def Model():\n",
        "  def inception(filters):\n",
        "    def subnetwork(x):\n",
        "      h1 = Conv2D(filters, (1,1), padding='same', activation='relu')(x)\n",
        "      h1 = MaxPool2D()(h1)\n",
        "\n",
        "      h2 = Conv2D(filters // 2, (1,1), padding='same', activation='relu')(x)\n",
        "      h2 = Conv2D(filters, (3,3), padding='same', activation='relu')(h2)\n",
        "      h2 = MaxPool2D()(h2)\n",
        "\n",
        "      h3 = Conv2D(filters // 2, (1,1), padding='same', activation='relu')(x)\n",
        "      h3 = Conv2D(filters, (5,5), padding='same', activation='relu')(h3)\n",
        "      h3 = MaxPool2D()(h3)\n",
        "      return Concatenate()([h1, h2, h3])\n",
        "    return subnetwork\n",
        "\n",
        "  x = tf.keras.Input(shape=(256, 256, 3))\n",
        "  h = inception(16)(x)\n",
        "  h = inception(32)(h)\n",
        "  h = inception(32)(h)\n",
        "  h = inception(32)(h)\n",
        "  h = inception(32)(h)\n",
        "  h = Flatten()(h)\n",
        "  h = Dense(1024, activation='relu')(h)\n",
        "  y = Dense(1, activation='sigmoid')(h)\n",
        "  return tf.keras.Model(inputs=x, outputs=y)\n"
      ],
      "metadata": {
        "id": "bO4PDHFhGjql"
      },
      "execution_count": 57,
      "outputs": []
    },
    {
      "cell_type": "markdown",
      "source": [
        "# Data Augmenation"
      ],
      "metadata": {
        "id": "gDbpV4RCJYC_"
      }
    },
    {
      "cell_type": "code",
      "source": [
        "def preprocess(img):\n",
        "  return tf.image.convert_image_dtype(img, tf.float32)"
      ],
      "metadata": {
        "id": "HsIG7VtYJk_1"
      },
      "execution_count": 58,
      "outputs": []
    },
    {
      "cell_type": "code",
      "source": [
        "def augmentation(img, label):\n",
        "  def flip(x):\n",
        "    x = tf.image.random_flip_left_right(x)\n",
        "    x = tf.image.random_flip_up_down(x)\n",
        "    return x\n",
        "\n",
        "  def rotate(x):\n",
        "    x = tf.cond(tf.random_uniform(shpae=[], minval=0.0, maxval=1.0, dtype=tf.float32) > 0.5,\n",
        "                lambda: tfa.image.rotate(x, \n",
        "                  tf.random_uniform(shpae=[], minval=0.0, maxval=1.0, dtype=tf.float32),\n",
        "                  interpolation='BILINEAR'),\n",
        "                lambda: x)\n",
        "    return x\n",
        "\n",
        "  def translation(x):\n",
        "    dx = tf.random.uniform(shape=[], minval=-10.0, maxval=10.0, dtype=tf.float32)\n",
        "    dy = tf.random.uniform(shape=[], minval=-10.0, maxval=10.0, dtype=tf.float32)\n",
        "    x = tf.cond(tf.random_uniform(shpae=[], minval=0.0, maxval=1.0, dtype=tf.float32) > 0.5,\n",
        "                lambda: tfa.image_transform(x,\n",
        "                                            [0,0,dx,0,0,dy,0,0],\n",
        "                                            interpolation='BILINEAR'),\n",
        "                lambda: x)\n",
        "    return x\n",
        "  \n",
        "  img = flip(img)\n",
        "  img = rotate(img)\n",
        "  img = translation(img)\n",
        "  return img, label\n"
      ],
      "metadata": {
        "id": "zQhdEkq9Jr_g"
      },
      "execution_count": 59,
      "outputs": []
    },
    {
      "cell_type": "code",
      "source": [
        "tffiles = glob.glob('/content/tfrecords/*')\n",
        "raw_image_dataset = tf.data.TFRecordDataset(tffiles)\n",
        "\n",
        "image_feature_description = {\n",
        "  'height': tf.io.FixedLenFeature([], tf.int64),\n",
        "  'width': tf.io.FixedLenFeature([], tf.int64),\n",
        "  'depth': tf.io.FixedLenFeature([], tf.int64),\n",
        "  'label': tf.io.FixedLenFeature([], tf.int64),\n",
        "  'image_raw': tf.io.FixedLenFeature([], tf.string),\n",
        "}\n",
        "\n",
        "def _parse_image_function(example_proto):\n",
        "  return tf.io.parse_single_example(example_proto, image_feature_description)\n",
        "\n",
        "def _parse_image_label(parsed_dataset):\n",
        "  return preprocess(tf.image.decode_png(parsed_dataset['image_raw'])), parsed_dataset['label']\n",
        "\n",
        "parsed_image_dataset = raw_image_dataset.map(_parse_image_function)\n",
        "dataset = parsed_image_dataset.map(_parse_image_label)"
      ],
      "metadata": {
        "id": "x_Ln1fIhLXO6"
      },
      "execution_count": 60,
      "outputs": []
    },
    {
      "cell_type": "code",
      "source": [
        "model = Model()\n",
        "model.compile(optimizer='adam', loss='banary_crossentropy', metrics=['accuracy'])"
      ],
      "metadata": {
        "id": "aAECy-TvNuKC"
      },
      "execution_count": 61,
      "outputs": []
    },
    {
      "cell_type": "code",
      "source": [
        "model.summary()"
      ],
      "metadata": {
        "colab": {
          "base_uri": "https://localhost:8080/"
        },
        "id": "ohraqDOmQh3D",
        "outputId": "826eed98-839e-4aaf-c593-05ea2106ea19"
      },
      "execution_count": 62,
      "outputs": [
        {
          "output_type": "stream",
          "name": "stdout",
          "text": [
            "Model: \"model\"\n",
            "__________________________________________________________________________________________________\n",
            " Layer (type)                   Output Shape         Param #     Connected to                     \n",
            "==================================================================================================\n",
            " input_1 (InputLayer)           [(None, 256, 256, 3  0           []                               \n",
            "                                )]                                                                \n",
            "                                                                                                  \n",
            " conv2d_5 (Conv2D)              (None, 256, 256, 8)  32          ['input_1[0][0]']                \n",
            "                                                                                                  \n",
            " conv2d_7 (Conv2D)              (None, 256, 256, 8)  32          ['input_1[0][0]']                \n",
            "                                                                                                  \n",
            " conv2d_4 (Conv2D)              (None, 256, 256, 16  64          ['input_1[0][0]']                \n",
            "                                )                                                                 \n",
            "                                                                                                  \n",
            " conv2d_6 (Conv2D)              (None, 256, 256, 16  1168        ['conv2d_5[0][0]']               \n",
            "                                )                                                                 \n",
            "                                                                                                  \n",
            " conv2d_8 (Conv2D)              (None, 256, 256, 16  3216        ['conv2d_7[0][0]']               \n",
            "                                )                                                                 \n",
            "                                                                                                  \n",
            " max_pooling2d_4 (MaxPooling2D)  (None, 128, 128, 16  0          ['conv2d_4[0][0]']               \n",
            "                                )                                                                 \n",
            "                                                                                                  \n",
            " max_pooling2d_5 (MaxPooling2D)  (None, 128, 128, 16  0          ['conv2d_6[0][0]']               \n",
            "                                )                                                                 \n",
            "                                                                                                  \n",
            " max_pooling2d_6 (MaxPooling2D)  (None, 128, 128, 16  0          ['conv2d_8[0][0]']               \n",
            "                                )                                                                 \n",
            "                                                                                                  \n",
            " concatenate (Concatenate)      (None, 128, 128, 48  0           ['max_pooling2d_4[0][0]',        \n",
            "                                )                                 'max_pooling2d_5[0][0]',        \n",
            "                                                                  'max_pooling2d_6[0][0]']        \n",
            "                                                                                                  \n",
            " conv2d_10 (Conv2D)             (None, 128, 128, 16  784         ['concatenate[0][0]']            \n",
            "                                )                                                                 \n",
            "                                                                                                  \n",
            " conv2d_12 (Conv2D)             (None, 128, 128, 16  784         ['concatenate[0][0]']            \n",
            "                                )                                                                 \n",
            "                                                                                                  \n",
            " conv2d_9 (Conv2D)              (None, 128, 128, 32  1568        ['concatenate[0][0]']            \n",
            "                                )                                                                 \n",
            "                                                                                                  \n",
            " conv2d_11 (Conv2D)             (None, 128, 128, 32  4640        ['conv2d_10[0][0]']              \n",
            "                                )                                                                 \n",
            "                                                                                                  \n",
            " conv2d_13 (Conv2D)             (None, 128, 128, 32  12832       ['conv2d_12[0][0]']              \n",
            "                                )                                                                 \n",
            "                                                                                                  \n",
            " max_pooling2d_7 (MaxPooling2D)  (None, 64, 64, 32)  0           ['conv2d_9[0][0]']               \n",
            "                                                                                                  \n",
            " max_pooling2d_8 (MaxPooling2D)  (None, 64, 64, 32)  0           ['conv2d_11[0][0]']              \n",
            "                                                                                                  \n",
            " max_pooling2d_9 (MaxPooling2D)  (None, 64, 64, 32)  0           ['conv2d_13[0][0]']              \n",
            "                                                                                                  \n",
            " concatenate_1 (Concatenate)    (None, 64, 64, 96)   0           ['max_pooling2d_7[0][0]',        \n",
            "                                                                  'max_pooling2d_8[0][0]',        \n",
            "                                                                  'max_pooling2d_9[0][0]']        \n",
            "                                                                                                  \n",
            " conv2d_15 (Conv2D)             (None, 64, 64, 16)   1552        ['concatenate_1[0][0]']          \n",
            "                                                                                                  \n",
            " conv2d_17 (Conv2D)             (None, 64, 64, 16)   1552        ['concatenate_1[0][0]']          \n",
            "                                                                                                  \n",
            " conv2d_14 (Conv2D)             (None, 64, 64, 32)   3104        ['concatenate_1[0][0]']          \n",
            "                                                                                                  \n",
            " conv2d_16 (Conv2D)             (None, 64, 64, 32)   4640        ['conv2d_15[0][0]']              \n",
            "                                                                                                  \n",
            " conv2d_18 (Conv2D)             (None, 64, 64, 32)   12832       ['conv2d_17[0][0]']              \n",
            "                                                                                                  \n",
            " max_pooling2d_10 (MaxPooling2D  (None, 32, 32, 32)  0           ['conv2d_14[0][0]']              \n",
            " )                                                                                                \n",
            "                                                                                                  \n",
            " max_pooling2d_11 (MaxPooling2D  (None, 32, 32, 32)  0           ['conv2d_16[0][0]']              \n",
            " )                                                                                                \n",
            "                                                                                                  \n",
            " max_pooling2d_12 (MaxPooling2D  (None, 32, 32, 32)  0           ['conv2d_18[0][0]']              \n",
            " )                                                                                                \n",
            "                                                                                                  \n",
            " concatenate_2 (Concatenate)    (None, 32, 32, 96)   0           ['max_pooling2d_10[0][0]',       \n",
            "                                                                  'max_pooling2d_11[0][0]',       \n",
            "                                                                  'max_pooling2d_12[0][0]']       \n",
            "                                                                                                  \n",
            " conv2d_20 (Conv2D)             (None, 32, 32, 16)   1552        ['concatenate_2[0][0]']          \n",
            "                                                                                                  \n",
            " conv2d_22 (Conv2D)             (None, 32, 32, 16)   1552        ['concatenate_2[0][0]']          \n",
            "                                                                                                  \n",
            " conv2d_19 (Conv2D)             (None, 32, 32, 32)   3104        ['concatenate_2[0][0]']          \n",
            "                                                                                                  \n",
            " conv2d_21 (Conv2D)             (None, 32, 32, 32)   4640        ['conv2d_20[0][0]']              \n",
            "                                                                                                  \n",
            " conv2d_23 (Conv2D)             (None, 32, 32, 32)   12832       ['conv2d_22[0][0]']              \n",
            "                                                                                                  \n",
            " max_pooling2d_13 (MaxPooling2D  (None, 16, 16, 32)  0           ['conv2d_19[0][0]']              \n",
            " )                                                                                                \n",
            "                                                                                                  \n",
            " max_pooling2d_14 (MaxPooling2D  (None, 16, 16, 32)  0           ['conv2d_21[0][0]']              \n",
            " )                                                                                                \n",
            "                                                                                                  \n",
            " max_pooling2d_15 (MaxPooling2D  (None, 16, 16, 32)  0           ['conv2d_23[0][0]']              \n",
            " )                                                                                                \n",
            "                                                                                                  \n",
            " concatenate_3 (Concatenate)    (None, 16, 16, 96)   0           ['max_pooling2d_13[0][0]',       \n",
            "                                                                  'max_pooling2d_14[0][0]',       \n",
            "                                                                  'max_pooling2d_15[0][0]']       \n",
            "                                                                                                  \n",
            " conv2d_25 (Conv2D)             (None, 16, 16, 16)   1552        ['concatenate_3[0][0]']          \n",
            "                                                                                                  \n",
            " conv2d_27 (Conv2D)             (None, 16, 16, 16)   1552        ['concatenate_3[0][0]']          \n",
            "                                                                                                  \n",
            " conv2d_24 (Conv2D)             (None, 16, 16, 32)   3104        ['concatenate_3[0][0]']          \n",
            "                                                                                                  \n",
            " conv2d_26 (Conv2D)             (None, 16, 16, 32)   4640        ['conv2d_25[0][0]']              \n",
            "                                                                                                  \n",
            " conv2d_28 (Conv2D)             (None, 16, 16, 32)   12832       ['conv2d_27[0][0]']              \n",
            "                                                                                                  \n",
            " max_pooling2d_16 (MaxPooling2D  (None, 8, 8, 32)    0           ['conv2d_24[0][0]']              \n",
            " )                                                                                                \n",
            "                                                                                                  \n",
            " max_pooling2d_17 (MaxPooling2D  (None, 8, 8, 32)    0           ['conv2d_26[0][0]']              \n",
            " )                                                                                                \n",
            "                                                                                                  \n",
            " max_pooling2d_18 (MaxPooling2D  (None, 8, 8, 32)    0           ['conv2d_28[0][0]']              \n",
            " )                                                                                                \n",
            "                                                                                                  \n",
            " concatenate_4 (Concatenate)    (None, 8, 8, 96)     0           ['max_pooling2d_16[0][0]',       \n",
            "                                                                  'max_pooling2d_17[0][0]',       \n",
            "                                                                  'max_pooling2d_18[0][0]']       \n",
            "                                                                                                  \n",
            " flatten_1 (Flatten)            (None, 6144)         0           ['concatenate_4[0][0]']          \n",
            "                                                                                                  \n",
            " dense_1 (Dense)                (None, 1024)         6292480     ['flatten_1[0][0]']              \n",
            "                                                                                                  \n",
            " dense_2 (Dense)                (None, 1)            1025        ['dense_1[0][0]']                \n",
            "                                                                                                  \n",
            "==================================================================================================\n",
            "Total params: 6,389,665\n",
            "Trainable params: 6,389,665\n",
            "Non-trainable params: 0\n",
            "__________________________________________________________________________________________________\n"
          ]
        }
      ]
    },
    {
      "cell_type": "code",
      "source": [
        "earlystopping = tf.keras.callbacks.EarlyStopping(monitor='val_loss', patience=30, verbose=1)"
      ],
      "metadata": {
        "id": "CX9vPXDRQjru"
      },
      "execution_count": 63,
      "outputs": []
    },
    {
      "cell_type": "code",
      "source": [
        "history = model.fit(ds_train, validation_data=ds_valid,\n",
        "                    epochs=EPOCHS,\n",
        "                    callbacks=[earlystopping])"
      ],
      "metadata": {
        "colab": {
          "base_uri": "https://localhost:8080/",
          "height": 824
        },
        "id": "cwdtdwjqQ9qc",
        "outputId": "00e6a7d2-e05a-45bf-a16e-f27547f76c29"
      },
      "execution_count": 64,
      "outputs": [
        {
          "output_type": "stream",
          "name": "stdout",
          "text": [
            "Epoch 1/1000\n"
          ]
        },
        {
          "output_type": "stream",
          "name": "stderr",
          "text": [
            "WARNING:tensorflow:Model was constructed with shape (None, 256, 256, 3) for input KerasTensor(type_spec=TensorSpec(shape=(None, 256, 256, 3), dtype=tf.float32, name='input_1'), name='input_1', description=\"created by layer 'input_1'\"), but it was called on an input with incompatible shape (None, None, None, 1).\n"
          ]
        },
        {
          "output_type": "error",
          "ename": "ValueError",
          "evalue": "ignored",
          "traceback": [
            "\u001b[0;31m---------------------------------------------------------------------------\u001b[0m",
            "\u001b[0;31mValueError\u001b[0m                                Traceback (most recent call last)",
            "\u001b[0;32m<ipython-input-64-363697496507>\u001b[0m in \u001b[0;36m<module>\u001b[0;34m\u001b[0m\n\u001b[1;32m      1\u001b[0m history = model.fit(ds_train, validation_data=ds_valid,\n\u001b[1;32m      2\u001b[0m                     \u001b[0mepochs\u001b[0m\u001b[0;34m=\u001b[0m\u001b[0mEPOCHS\u001b[0m\u001b[0;34m,\u001b[0m\u001b[0;34m\u001b[0m\u001b[0;34m\u001b[0m\u001b[0m\n\u001b[0;32m----> 3\u001b[0;31m                     callbacks=[earlystopping])\n\u001b[0m",
            "\u001b[0;32m/usr/local/lib/python3.7/dist-packages/keras/utils/traceback_utils.py\u001b[0m in \u001b[0;36merror_handler\u001b[0;34m(*args, **kwargs)\u001b[0m\n\u001b[1;32m     65\u001b[0m     \u001b[0;32mexcept\u001b[0m \u001b[0mException\u001b[0m \u001b[0;32mas\u001b[0m \u001b[0me\u001b[0m\u001b[0;34m:\u001b[0m  \u001b[0;31m# pylint: disable=broad-except\u001b[0m\u001b[0;34m\u001b[0m\u001b[0;34m\u001b[0m\u001b[0m\n\u001b[1;32m     66\u001b[0m       \u001b[0mfiltered_tb\u001b[0m \u001b[0;34m=\u001b[0m \u001b[0m_process_traceback_frames\u001b[0m\u001b[0;34m(\u001b[0m\u001b[0me\u001b[0m\u001b[0;34m.\u001b[0m\u001b[0m__traceback__\u001b[0m\u001b[0;34m)\u001b[0m\u001b[0;34m\u001b[0m\u001b[0;34m\u001b[0m\u001b[0m\n\u001b[0;32m---> 67\u001b[0;31m       \u001b[0;32mraise\u001b[0m \u001b[0me\u001b[0m\u001b[0;34m.\u001b[0m\u001b[0mwith_traceback\u001b[0m\u001b[0;34m(\u001b[0m\u001b[0mfiltered_tb\u001b[0m\u001b[0;34m)\u001b[0m \u001b[0;32mfrom\u001b[0m \u001b[0;32mNone\u001b[0m\u001b[0;34m\u001b[0m\u001b[0;34m\u001b[0m\u001b[0m\n\u001b[0m\u001b[1;32m     68\u001b[0m     \u001b[0;32mfinally\u001b[0m\u001b[0;34m:\u001b[0m\u001b[0;34m\u001b[0m\u001b[0;34m\u001b[0m\u001b[0m\n\u001b[1;32m     69\u001b[0m       \u001b[0;32mdel\u001b[0m \u001b[0mfiltered_tb\u001b[0m\u001b[0;34m\u001b[0m\u001b[0;34m\u001b[0m\u001b[0m\n",
            "\u001b[0;32m/usr/local/lib/python3.7/dist-packages/tensorflow/python/framework/func_graph.py\u001b[0m in \u001b[0;36mautograph_handler\u001b[0;34m(*args, **kwargs)\u001b[0m\n\u001b[1;32m   1145\u001b[0m           \u001b[0;32mexcept\u001b[0m \u001b[0mException\u001b[0m \u001b[0;32mas\u001b[0m \u001b[0me\u001b[0m\u001b[0;34m:\u001b[0m  \u001b[0;31m# pylint:disable=broad-except\u001b[0m\u001b[0;34m\u001b[0m\u001b[0;34m\u001b[0m\u001b[0m\n\u001b[1;32m   1146\u001b[0m             \u001b[0;32mif\u001b[0m \u001b[0mhasattr\u001b[0m\u001b[0;34m(\u001b[0m\u001b[0me\u001b[0m\u001b[0;34m,\u001b[0m \u001b[0;34m\"ag_error_metadata\"\u001b[0m\u001b[0;34m)\u001b[0m\u001b[0;34m:\u001b[0m\u001b[0;34m\u001b[0m\u001b[0;34m\u001b[0m\u001b[0m\n\u001b[0;32m-> 1147\u001b[0;31m               \u001b[0;32mraise\u001b[0m \u001b[0me\u001b[0m\u001b[0;34m.\u001b[0m\u001b[0mag_error_metadata\u001b[0m\u001b[0;34m.\u001b[0m\u001b[0mto_exception\u001b[0m\u001b[0;34m(\u001b[0m\u001b[0me\u001b[0m\u001b[0;34m)\u001b[0m\u001b[0;34m\u001b[0m\u001b[0;34m\u001b[0m\u001b[0m\n\u001b[0m\u001b[1;32m   1148\u001b[0m             \u001b[0;32melse\u001b[0m\u001b[0;34m:\u001b[0m\u001b[0;34m\u001b[0m\u001b[0;34m\u001b[0m\u001b[0m\n\u001b[1;32m   1149\u001b[0m               \u001b[0;32mraise\u001b[0m\u001b[0;34m\u001b[0m\u001b[0;34m\u001b[0m\u001b[0m\n",
            "\u001b[0;31mValueError\u001b[0m: in user code:\n\n    File \"/usr/local/lib/python3.7/dist-packages/keras/engine/training.py\", line 1021, in train_function  *\n        return step_function(self, iterator)\n    File \"/usr/local/lib/python3.7/dist-packages/keras/engine/training.py\", line 1010, in step_function  **\n        outputs = model.distribute_strategy.run(run_step, args=(data,))\n    File \"/usr/local/lib/python3.7/dist-packages/keras/engine/training.py\", line 1000, in run_step  **\n        outputs = model.train_step(data)\n    File \"/usr/local/lib/python3.7/dist-packages/keras/engine/training.py\", line 859, in train_step\n        y_pred = self(x, training=True)\n    File \"/usr/local/lib/python3.7/dist-packages/keras/utils/traceback_utils.py\", line 67, in error_handler\n        raise e.with_traceback(filtered_tb) from None\n    File \"/usr/local/lib/python3.7/dist-packages/keras/engine/input_spec.py\", line 249, in assert_input_compatibility\n        f'Input {input_index} of layer \"{layer_name}\" is '\n\n    ValueError: Exception encountered when calling layer \"model\" (type Functional).\n    \n    Input 0 of layer \"conv2d_7\" is incompatible with the layer: expected axis -1 of input shape to have value 3, but received input with shape (None, None, None, 1)\n    \n    Call arguments received:\n      • inputs=tf.Tensor(shape=(None, None, None, 1), dtype=float32)\n      • training=True\n      • mask=None\n"
          ]
        }
      ]
    },
    {
      "cell_type": "code",
      "source": [],
      "metadata": {
        "id": "rP7GB8IDRJVS"
      },
      "execution_count": null,
      "outputs": []
    }
  ],
  "metadata": {
    "accelerator": "GPU",
    "colab": {
      "provenance": []
    },
    "gpuClass": "standard",
    "kernelspec": {
      "display_name": "Python 3",
      "name": "python3"
    },
    "language_info": {
      "name": "python"
    }
  },
  "nbformat": 4,
  "nbformat_minor": 0
}