{
 "cells": [
  {
   "cell_type": "markdown",
   "metadata": {},
   "source": [
    "# 1. 행렬(Matrix)과 넘파이(Numpy)"
   ]
  },
  {
   "cell_type": "markdown",
   "metadata": {},
   "source": [
    "넘파이는 선형대수 문제를 풀기위한 함수들을 제공하는 파이썬 패키지입니다."
   ]
  },
  {
   "cell_type": "code",
   "execution_count": 32,
   "metadata": {},
   "outputs": [
    {
     "name": "stdout",
     "output_type": "stream",
     "text": [
      "conda 4.13.0\n"
     ]
    }
   ],
   "source": [
    "!conda -V"
   ]
  },
  {
   "cell_type": "code",
   "execution_count": 6,
   "metadata": {
    "tags": []
   },
   "outputs": [
    {
     "name": "stdout",
     "output_type": "stream",
     "text": [
      "Collecting package metadata (current_repodata.json): ...working... done\n",
      "Solving environment: ...working... done\n",
      "\n",
      "## Package Plan ##\n",
      "\n",
      "  environment location: C:\\Users\\LSH\\anaconda3\\envs\\test\n",
      "\n",
      "  added / updated specs:\n",
      "    - scikit-learn\n",
      "\n",
      "\n",
      "The following packages will be downloaded:\n",
      "\n",
      "    package                    |            build\n",
      "    ---------------------------|-----------------\n",
      "    joblib-1.1.0               |     pyhd3eb1b0_0         211 KB  anaconda\n",
      "    scikit-learn-1.0.2         |   py38hf11a4ad_1         6.9 MB  anaconda\n",
      "    threadpoolctl-2.2.0        |     pyh0d69192_0          16 KB  anaconda\n",
      "    ------------------------------------------------------------\n",
      "                                           Total:         7.1 MB\n",
      "\n",
      "The following NEW packages will be INSTALLED:\n",
      "\n",
      "  joblib             anaconda/noarch::joblib-1.1.0-pyhd3eb1b0_0\n",
      "  scikit-learn       anaconda/win-64::scikit-learn-1.0.2-py38hf11a4ad_1\n",
      "  threadpoolctl      anaconda/noarch::threadpoolctl-2.2.0-pyh0d69192_0\n",
      "\n",
      "\n",
      "\n",
      "Downloading and Extracting Packages\n",
      "\n",
      "joblib-1.1.0         | 211 KB    |            |   0% \n",
      "joblib-1.1.0         | 211 KB    | 7          |   8% \n",
      "joblib-1.1.0         | 211 KB    | ########## | 100% \n",
      "joblib-1.1.0         | 211 KB    | ########## | 100% \n",
      "\n",
      "threadpoolctl-2.2.0  | 16 KB     |            |   0% \n",
      "threadpoolctl-2.2.0  | 16 KB     | ########## | 100% \n",
      "\n",
      "scikit-learn-1.0.2   | 6.9 MB    |            |   0% \n",
      "scikit-learn-1.0.2   | 6.9 MB    | 4          |   5% \n",
      "scikit-learn-1.0.2   | 6.9 MB    | #4         |  15% \n",
      "scikit-learn-1.0.2   | 6.9 MB    | ##2        |  22% \n",
      "scikit-learn-1.0.2   | 6.9 MB    | ###1       |  31% \n",
      "scikit-learn-1.0.2   | 6.9 MB    | ###8       |  39% \n",
      "scikit-learn-1.0.2   | 6.9 MB    | ####5      |  45% \n",
      "scikit-learn-1.0.2   | 6.9 MB    | #####1     |  51% \n",
      "scikit-learn-1.0.2   | 6.9 MB    | #####6     |  57% \n",
      "scikit-learn-1.0.2   | 6.9 MB    | ######2    |  63% \n",
      "scikit-learn-1.0.2   | 6.9 MB    | #######2   |  73% \n",
      "scikit-learn-1.0.2   | 6.9 MB    | ########2  |  83% \n",
      "scikit-learn-1.0.2   | 6.9 MB    | #########2 |  92% \n",
      "scikit-learn-1.0.2   | 6.9 MB    | ########## | 100% \n",
      "Preparing transaction: ...working... done\n",
      "Verifying transaction: ...working... done\n",
      "Executing transaction: ...working... \n",
      "\n",
      "    Windows 64-bit packages of scikit-learn can be accelerated using scikit-learn-intelex.\n",
      "    More details are available here: https://intel.github.io/scikit-learn-intelex\n",
      "\n",
      "    For example:\n",
      "\n",
      "        $ conda install scikit-learn-intelex\n",
      "        $ python -m sklearnex my_application.py\n",
      "\n",
      "\n",
      "done\n"
     ]
    }
   ],
   "source": [
    "!conda install -y -c anaconda scikit-learn"
   ]
  },
  {
   "cell_type": "code",
   "execution_count": 2,
   "metadata": {},
   "outputs": [],
   "source": [
    "import numpy as np  # 넘파이 패키지 임포트\n",
    "import pandas as pd # 판다스 패키지 임포트\n",
    "import matplotlib.pyplot as plt  # 맷플롯립 패키지 임포트"
   ]
  },
  {
   "cell_type": "code",
   "execution_count": 3,
   "metadata": {},
   "outputs": [],
   "source": [
    "import warnings\n",
    "warnings.filterwarnings(action='ignore') "
   ]
  },
  {
   "cell_type": "code",
   "execution_count": 4,
   "metadata": {},
   "outputs": [],
   "source": [
    "plt.rcParams['axes.unicode_minus'] = False # 마이너스(-) 폰트가 깨지는 문제 해결\n",
    "plt.rcParams[\"font.family\"] = 'D2Coding' # 한글 폰트가 깨지는 문제 해결"
   ]
  },
  {
   "cell_type": "markdown",
   "metadata": {},
   "source": [
    "## 1.1 데이터의 유형"
   ]
  },
  {
   "cell_type": "markdown",
   "metadata": {},
   "source": [
    "- 스칼라(Scalar), \n",
    "- 벡터(Vector) 수학적으로는 열벡터, 행벡터 구분, \n",
    "- 행렬(Matrix) 2차원 구조 데이터, \n",
    "- 텐서(Tensor) 행렬이 여려개 존재"
   ]
  },
  {
   "attachments": {
    "image.png": {
     "image/png": "[encoded data removed]"
    }
   },
   "cell_type": "markdown",
   "metadata": {},
   "source": [
    "![image.png](attachment:image.png)"
   ]
  },
  {
   "cell_type": "code",
   "execution_count": 7,
   "metadata": {},
   "outputs": [
    {
     "data": {
      "text/plain": [
       "array([5.1, 3.5, 1.4, 0.2])"
      ]
     },
     "execution_count": 7,
     "metadata": {},
     "output_type": "execute_result"
    }
   ],
   "source": [
    "from sklearn.datasets import load_iris  # 사이킷런 패키지 임포트\n",
    "\n",
    "iris = load_iris()  # 데이터 로드\n",
    "iris.data[0, :]  # 첫 번째 꽃의 데이터, (꽃받침), (꽃잎) 데이터로 구성"
   ]
  },
  {
   "cell_type": "code",
   "execution_count": 9,
   "metadata": {},
   "outputs": [
    {
     "data": {
      "text/plain": [
       "sklearn.utils.Bunch"
      ]
     },
     "execution_count": 9,
     "metadata": {},
     "output_type": "execute_result"
    }
   ],
   "source": [
    "type(iris)"
   ]
  },
  {
   "cell_type": "code",
   "execution_count": 6,
   "metadata": {},
   "outputs": [
    {
     "data": {
      "text/plain": [
       "(150, 4)"
      ]
     },
     "execution_count": 6,
     "metadata": {},
     "output_type": "execute_result"
    }
   ],
   "source": [
    "# iris.data <= ndarray 타입 데이터 이다.\n",
    "iris.data.shape # 행, 열"
   ]
  },
  {
   "cell_type": "code",
   "execution_count": 7,
   "metadata": {
    "scrolled": true
   },
   "outputs": [
    {
     "data": {
      "text/plain": [
       "2"
      ]
     },
     "execution_count": 7,
     "metadata": {},
     "output_type": "execute_result"
    }
   ],
   "source": [
    "iris.data.ndim"
   ]
  },
  {
   "cell_type": "code",
   "execution_count": 8,
   "metadata": {},
   "outputs": [
    {
     "data": {
      "text/plain": [
       "['sepal length (cm)',\n",
       " 'sepal width (cm)',\n",
       " 'petal length (cm)',\n",
       " 'petal width (cm)']"
      ]
     },
     "execution_count": 8,
     "metadata": {},
     "output_type": "execute_result"
    }
   ],
   "source": [
    "iris.feature_names"
   ]
  },
  {
   "cell_type": "markdown",
   "metadata": {},
   "source": [
    "###  1.1.1 스칼라"
   ]
  },
  {
   "cell_type": "markdown",
   "metadata": {},
   "source": [
    "스칼라는 숫자 하나만으로 이루어진 실수 집합 $R$의 데이터로 보통 $x$와 같이 소문자로 표기합니다.<br><br>\n",
    "$x \\in R$"
   ]
  },
  {
   "cell_type": "markdown",
   "metadata": {},
   "source": [
    "###  1.1.2 벡터"
   ]
  },
  {
   "cell_type": "markdown",
   "metadata": {},
   "source": [
    "벡터는 숫자들이 순서를 유지하며 모여있는 데이터 묶음을 말하며, 선형대수 기호로 $x$와 같이 하나의 소문자로 표기합니다.<br><br>\n",
    "$x = \\begin{bmatrix}x_1\\\\x_2\\\\x_3\\\\\\vdots\\\\x_n\\end{bmatrix}\\quad$ 또는 $\\quad x \\in R^n$<br><br>  \n",
    "\n",
    "\n",
    "벡터의 차원은 원소의 개수를 의미합니다.<br>\n",
    "벡터와 스칼라의 표기가 동일하므로 문맥에 따라 구분하거나, 벡터를 $\\vec{x}$로 표기해 구분할 수 있습니다."
   ]
  },
  {
   "cell_type": "markdown",
   "metadata": {},
   "source": [
    "## 0차원"
   ]
  },
  {
   "cell_type": "markdown",
   "metadata": {},
   "source": [
    "- numpy array는 1 또는 5, 10와 같이 숫자 데이터를 array화 해줄 수 있음"
   ]
  },
  {
   "cell_type": "code",
   "execution_count": 2,
   "metadata": {},
   "outputs": [
    {
     "data": {
      "text/plain": [
       "array(10)"
      ]
     },
     "execution_count": 2,
     "metadata": {},
     "output_type": "execute_result"
    }
   ],
   "source": [
    "arr = np.array(10)\n",
    "arr"
   ]
  },
  {
   "cell_type": "markdown",
   "metadata": {},
   "source": [
    "Scalar로 들어갔을 때는 shape가 아무것도 없는 것으로 나온다 "
   ]
  },
  {
   "cell_type": "code",
   "execution_count": 3,
   "metadata": {},
   "outputs": [
    {
     "data": {
      "text/plain": [
       "()"
      ]
     },
     "execution_count": 3,
     "metadata": {},
     "output_type": "execute_result"
    }
   ],
   "source": [
    "arr.shape"
   ]
  },
  {
   "cell_type": "markdown",
   "metadata": {},
   "source": [
    "## 1차원"
   ]
  },
  {
   "cell_type": "markdown",
   "metadata": {},
   "source": [
    "- 숫자가 10과 같이 하나만 들어간다고 해도 [] 리스트를 한번 씌우게 되면 차원이 생긴다 \n",
    "- 이때는 1차원이 되는건데 numpy 에서 shape를 표현 할 때 (1)이 아닌 (1, )  이런 식으로 표현하게 됨 "
   ]
  },
  {
   "cell_type": "code",
   "execution_count": 4,
   "metadata": {},
   "outputs": [
    {
     "data": {
      "text/plain": [
       "(1,)"
      ]
     },
     "execution_count": 4,
     "metadata": {},
     "output_type": "execute_result"
    }
   ],
   "source": [
    "arr = np.array([10])\n",
    "arr.shape"
   ]
  },
  {
   "cell_type": "markdown",
   "metadata": {},
   "source": [
    "- 명심해야 할 것이 있는데 (3, )에서 3은 3이라는 값이 들어간 것이 아닌 shape라는 것을 명심  \n",
    "- 1차원에 3개의 값이 들어갔다는 의미\n",
    "- 해석하자면 1차원에 3개의 값(value)가 들어감"
   ]
  },
  {
   "cell_type": "code",
   "execution_count": 5,
   "metadata": {},
   "outputs": [
    {
     "data": {
      "text/plain": [
       "(3,)"
      ]
     },
     "execution_count": 5,
     "metadata": {},
     "output_type": "execute_result"
    }
   ],
   "source": [
    "arr = np.array([1, 2, 3])\n",
    "arr.shape"
   ]
  },
  {
   "cell_type": "markdown",
   "metadata": {},
   "source": [
    "## 2차원"
   ]
  },
  {
   "cell_type": "markdown",
   "metadata": {},
   "source": [
    "대문자를 추가적으로 씌우면 차원이 추가적으로 하나 생김"
   ]
  },
  {
   "cell_type": "code",
   "execution_count": 6,
   "metadata": {},
   "outputs": [
    {
     "data": {
      "text/plain": [
       "(3, 3)"
      ]
     },
     "execution_count": 6,
     "metadata": {},
     "output_type": "execute_result"
    }
   ],
   "source": [
    "arr = np.array([[1, 2, 3], [4, 5, 6], [7, 8, 9]])\n",
    "arr.shape"
   ]
  },
  {
   "cell_type": "markdown",
   "metadata": {},
   "source": [
    "위의 shape를 다시 보자면 차원이 2개가 있고, 각 차원 마다 각각 3개의 값이 들어있다고 생각하면 됨"
   ]
  },
  {
   "cell_type": "code",
   "execution_count": 7,
   "metadata": {},
   "outputs": [
    {
     "data": {
      "text/plain": [
       "array([[1, 2, 3],\n",
       "       [4, 5, 6],\n",
       "       [7, 8, 9]])"
      ]
     },
     "execution_count": 7,
     "metadata": {},
     "output_type": "execute_result"
    }
   ],
   "source": [
    "arr"
   ]
  },
  {
   "cell_type": "markdown",
   "metadata": {},
   "source": [
    "참고로 0차원 숫자에 대문자에 대괄호를 2번 씌우면 두개의 차원이 됨"
   ]
  },
  {
   "cell_type": "code",
   "execution_count": 8,
   "metadata": {},
   "outputs": [
    {
     "data": {
      "text/plain": [
       "(1, 1)"
      ]
     },
     "execution_count": 8,
     "metadata": {},
     "output_type": "execute_result"
    }
   ],
   "source": [
    "arr = np.array([[10]])\n",
    "arr.shape"
   ]
  },
  {
   "cell_type": "markdown",
   "metadata": {},
   "source": [
    "## 다 차원"
   ]
  },
  {
   "cell_type": "code",
   "execution_count": 9,
   "metadata": {},
   "outputs": [
    {
     "data": {
      "text/plain": [
       "(2, 3, 3)"
      ]
     },
     "execution_count": 9,
     "metadata": {},
     "output_type": "execute_result"
    }
   ],
   "source": [
    "arr = np.array([[[1, 2, 3], [4, 5, 6], [7, 8, 9]], [[1, 2, 3], [4, 5, 6], [7, 8, 9]]])\n",
    "arr.shape"
   ]
  },
  {
   "cell_type": "code",
   "execution_count": 10,
   "metadata": {},
   "outputs": [
    {
     "data": {
      "text/plain": [
       "array([[[1, 2, 3],\n",
       "        [4, 5, 6],\n",
       "        [7, 8, 9]],\n",
       "\n",
       "       [[1, 2, 3],\n",
       "        [4, 5, 6],\n",
       "        [7, 8, 9]]])"
      ]
     },
     "execution_count": 10,
     "metadata": {},
     "output_type": "execute_result"
    }
   ],
   "source": [
    "arr"
   ]
  },
  {
   "cell_type": "code",
   "execution_count": 11,
   "metadata": {},
   "outputs": [
    {
     "data": {
      "text/plain": [
       "(2, 2, 3, 3)"
      ]
     },
     "execution_count": 11,
     "metadata": {},
     "output_type": "execute_result"
    }
   ],
   "source": [
    "arr = np.array([[[[1, 2, 3], [4, 5, 6], [7, 8, 9]], [[1, 2, 3], [4, 5, 6], [7, 8, 9]]], [[[1, 2, 3], [4, 5, 6], [7, 8, 9]], [[1, 2, 3], [4, 5, 6], [7, 8, 9]]]])\n",
    "arr.shape"
   ]
  },
  {
   "cell_type": "code",
   "execution_count": 12,
   "metadata": {},
   "outputs": [
    {
     "data": {
      "text/plain": [
       "array([[[[1, 2, 3],\n",
       "         [4, 5, 6],\n",
       "         [7, 8, 9]],\n",
       "\n",
       "        [[1, 2, 3],\n",
       "         [4, 5, 6],\n",
       "         [7, 8, 9]]],\n",
       "\n",
       "\n",
       "       [[[1, 2, 3],\n",
       "         [4, 5, 6],\n",
       "         [7, 8, 9]],\n",
       "\n",
       "        [[1, 2, 3],\n",
       "         [4, 5, 6],\n",
       "         [7, 8, 9]]]])"
      ]
     },
     "execution_count": 12,
     "metadata": {},
     "output_type": "execute_result"
    }
   ],
   "source": [
    "arr"
   ]
  },
  {
   "cell_type": "code",
   "execution_count": 13,
   "metadata": {},
   "outputs": [
    {
     "data": {
      "text/plain": [
       "(2, 2, 3, 3)"
      ]
     },
     "execution_count": 13,
     "metadata": {},
     "output_type": "execute_result"
    }
   ],
   "source": [
    "arr.shape"
   ]
  },
  {
   "cell_type": "markdown",
   "metadata": {},
   "source": [
    "### 1.1.3 벡터와 넘파이 배열"
   ]
  },
  {
   "cell_type": "markdown",
   "metadata": {},
   "source": [
    "선형대수의 벡터를 넘파이로 표현할 때는 (반듯이) **열 벡터**로 표현해야 합니다.<br>\n",
    "배열의 차원과 벡터의 차원의 의미가 다르다는 것에 주의합니다. "
   ]
  },
  {
   "cell_type": "markdown",
   "metadata": {},
   "source": [
    "### 수학에서의 열벡터 의미 : 열이 1개인 2차원 배열 (세로, 컬럼, 시리즈)\n",
    "- 그래서 사이킷런에서 종속변수를 2차원 열벡터로 변환 해야 하는 것이다."
   ]
  },
  {
   "cell_type": "code",
   "execution_count": 9,
   "metadata": {
    "school_cell_uuid": "2e36533cf9d74b889a9f34ee87a74fff",
    "scrolled": true
   },
   "outputs": [
    {
     "data": {
      "text/plain": [
       "array([[5.1],\n",
       "       [3.5],\n",
       "       [1.4],\n",
       "       [0.2]])"
      ]
     },
     "execution_count": 9,
     "metadata": {},
     "output_type": "execute_result"
    }
   ],
   "source": [
    "# 열벡터의 특징은 : 열이 1개, 차원이 2개!!!\n",
    "x1 = np.array([[5.1], [3.5], [1.4], [0.2]]) # 2차원 배열을 이용한 열 벡터의 표현\n",
    "x1"
   ]
  },
  {
   "cell_type": "code",
   "execution_count": 10,
   "metadata": {},
   "outputs": [
    {
     "name": "stdout",
     "output_type": "stream",
     "text": [
      "(4, 1)\n",
      "2\n"
     ]
    }
   ],
   "source": [
    "print(x1.shape)\n",
    "print(x1.ndim)"
   ]
  },
  {
   "cell_type": "code",
   "execution_count": 11,
   "metadata": {
    "school_cell_uuid": "b749f2548cb040e2b6e96cb95690506d"
   },
   "outputs": [
    {
     "data": {
      "text/plain": [
       "array([5.1, 3.5, 1.4, 0.2])"
      ]
     },
     "execution_count": 11,
     "metadata": {},
     "output_type": "execute_result"
    }
   ],
   "source": [
    "x1 = np.array([5.1, 3.5, 1.4, 0.2]) # 넘파이에서는 1차원 배열도 벡터로 간주해 연산\n",
    "x1"
   ]
  },
  {
   "cell_type": "markdown",
   "metadata": {},
   "source": [
    "사이킷런(텐서플로)과 같은 패키지는 벡터로 선언된 매개변수의 경우 반드시 열 벡터(열 1개인 2차원 배열)를 전달해야 합니다."
   ]
  },
  {
   "cell_type": "code",
   "execution_count": 10,
   "metadata": {
    "school_cell_uuid": "d829f331f7ce4535800a6849fc891d78"
   },
   "outputs": [
    {
     "name": "stdout",
     "output_type": "stream",
     "text": [
      ".. _digits_dataset:\n",
      "\n",
      "Optical recognition of handwritten digits dataset\n",
      "--------------------------------------------------\n",
      "\n",
      "**Data Set Characteristics:**\n",
      "\n",
      "    :Number of Instances: 1797\n",
      "    :Number of Attributes: 64\n",
      "    :Attribute Information: 8x8 image of integer pixels in the range 0..16.\n",
      "    :Missing Attribute Values: None\n",
      "    :Creator: E. Alpaydin (alpaydin '@' boun.edu.tr)\n",
      "    :Date: July; 1998\n",
      "\n",
      "This is a copy of the test set of the UCI ML hand-written digits datasets\n",
      "https://archive.ics.uci.edu/ml/datasets/Optical+Recognition+of+Handwritten+Digits\n",
      "\n",
      "The data set contains images of hand-written digits: 10 classes where\n",
      "each class refers to a digit.\n",
      "\n",
      "Preprocessing programs made available by NIST were used to extract\n",
      "normalized bitmaps of handwritten digits from a preprinted form. From a\n",
      "total of 43 people, 30 contributed to the training set and different 13\n",
      "to the test set. 32x32 bitmaps are divided into nonoverlapping blocks of\n",
      "4x4 and the number of on pixels are counted in each block. This generates\n",
      "an input matrix of 8x8 where each element is an integer in the range\n",
      "0..16. This reduces dimensionality and gives invariance to small\n",
      "distortions.\n",
      "\n",
      "For info on NIST preprocessing routines, see M. D. Garris, J. L. Blue, G.\n",
      "T. Candela, D. L. Dimmick, J. Geist, P. J. Grother, S. A. Janet, and C.\n",
      "L. Wilson, NIST Form-Based Handprint Recognition System, NISTIR 5469,\n",
      "1994.\n",
      "\n",
      ".. topic:: References\n",
      "\n",
      "  - C. Kaynak (1995) Methods of Combining Multiple Classifiers and Their\n",
      "    Applications to Handwritten Digit Recognition, MSc Thesis, Institute of\n",
      "    Graduate Studies in Science and Engineering, Bogazici University.\n",
      "  - E. Alpaydin, C. Kaynak (1998) Cascading Classifiers, Kybernetika.\n",
      "  - Ken Tang and Ponnuthurai N. Suganthan and Xi Yao and A. Kai Qin.\n",
      "    Linear dimensionalityreduction using relevance weighted LDA. School of\n",
      "    Electrical and Electronic Engineering Nanyang Technological University.\n",
      "    2005.\n",
      "  - Claudio Gentile. A New Approximate Maximal Margin Classification\n",
      "    Algorithm. NIPS. 2000.\n",
      "\n"
     ]
    }
   ],
   "source": [
    "from sklearn.datasets import load_digits  # 패키지 임포트\n",
    "\n",
    "digits = load_digits()  # 손글씨 데이터 로드\n",
    "print(digits.DESCR)"
   ]
  },
  {
   "cell_type": "code",
   "execution_count": 10,
   "metadata": {},
   "outputs": [
    {
     "data": {
      "text/plain": [
       "(1797, 8, 8)"
      ]
     },
     "execution_count": 10,
     "metadata": {},
     "output_type": "execute_result"
    }
   ],
   "source": [
    "# ditits.images <= ndarray 타입의 데이터\n",
    "digits.images.shape"
   ]
  },
  {
   "cell_type": "code",
   "execution_count": 11,
   "metadata": {},
   "outputs": [
    {
     "data": {
      "text/plain": [
       "array([[ 0.,  0.,  5., 13.,  9.,  1.,  0.,  0.],\n",
       "       [ 0.,  0., 13., 15., 10., 15.,  5.,  0.],\n",
       "       [ 0.,  3., 15.,  2.,  0., 11.,  8.,  0.],\n",
       "       [ 0.,  4., 12.,  0.,  0.,  8.,  8.,  0.],\n",
       "       [ 0.,  5.,  8.,  0.,  0.,  9.,  8.,  0.],\n",
       "       [ 0.,  4., 11.,  0.,  1., 12.,  7.,  0.],\n",
       "       [ 0.,  2., 14.,  5., 10., 12.,  0.,  0.],\n",
       "       [ 0.,  0.,  6., 13., 10.,  0.,  0.,  0.]])"
      ]
     },
     "execution_count": 11,
     "metadata": {},
     "output_type": "execute_result"
    }
   ],
   "source": [
    "digits.images[0]"
   ]
  },
  {
   "cell_type": "code",
   "execution_count": 22,
   "metadata": {},
   "outputs": [
    {
     "data": {
      "text/plain": [
       "sklearn.utils.Bunch"
      ]
     },
     "execution_count": 22,
     "metadata": {},
     "output_type": "execute_result"
    }
   ],
   "source": [
    "digits.target[0]\n",
    "type(digits)"
   ]
  },
  {
   "cell_type": "code",
   "execution_count": 16,
   "metadata": {},
   "outputs": [
    {
     "data": {
      "text/plain": [
       "array([[ 0.,  0.,  0., 12., 13.,  5.,  0.,  0.],\n",
       "       [ 0.,  0.,  0., 11., 16.,  9.,  0.,  0.],\n",
       "       [ 0.,  0.,  3., 15., 16.,  6.,  0.,  0.],\n",
       "       [ 0.,  7., 15., 16., 16.,  2.,  0.,  0.],\n",
       "       [ 0.,  0.,  1., 16., 16.,  3.,  0.,  0.],\n",
       "       [ 0.,  0.,  1., 16., 16.,  6.,  0.,  0.],\n",
       "       [ 0.,  0.,  1., 16., 16.,  6.,  0.,  0.],\n",
       "       [ 0.,  0.,  0., 11., 16., 10.,  0.,  0.]])"
      ]
     },
     "execution_count": 16,
     "metadata": {},
     "output_type": "execute_result"
    }
   ],
   "source": [
    "digits.images[1]"
   ]
  },
  {
   "cell_type": "code",
   "execution_count": 17,
   "metadata": {},
   "outputs": [
    {
     "data": {
      "text/plain": [
       "1"
      ]
     },
     "execution_count": 17,
     "metadata": {},
     "output_type": "execute_result"
    }
   ],
   "source": [
    "digits.target[1]"
   ]
  },
  {
   "cell_type": "code",
   "execution_count": 18,
   "metadata": {
    "scrolled": true
   },
   "outputs": [
    {
     "data": {
      "text/plain": [
       "array([[ 0.,  0., 10., 14.,  8.,  1.,  0.,  0.],\n",
       "       [ 0.,  2., 16., 14.,  6.,  1.,  0.,  0.],\n",
       "       [ 0.,  0., 15., 15.,  8., 15.,  0.,  0.],\n",
       "       [ 0.,  0.,  5., 16., 16., 10.,  0.,  0.],\n",
       "       [ 0.,  0., 12., 15., 15., 12.,  0.,  0.],\n",
       "       [ 0.,  4., 16.,  6.,  4., 16.,  6.,  0.],\n",
       "       [ 0.,  8., 16., 10.,  8., 16.,  8.,  0.],\n",
       "       [ 0.,  1.,  8., 12., 14., 12.,  1.,  0.]])"
      ]
     },
     "execution_count": 18,
     "metadata": {},
     "output_type": "execute_result"
    }
   ],
   "source": [
    "digits.images[1796]"
   ]
  },
  {
   "cell_type": "code",
   "execution_count": 19,
   "metadata": {},
   "outputs": [
    {
     "data": {
      "text/plain": [
       "8"
      ]
     },
     "execution_count": 19,
     "metadata": {},
     "output_type": "execute_result"
    }
   ],
   "source": [
    "digits.target[1796]"
   ]
  },
  {
   "cell_type": "code",
   "execution_count": 29,
   "metadata": {},
   "outputs": [
    {
     "name": "stdout",
     "output_type": "stream",
     "text": [
      "Package                 Version\n",
      "----------------------- -----------\n",
      "absl-py                 1.2.0\n",
      "aiohttp                 3.8.1\n",
      "aiosignal               1.2.0\n",
      "anyio                   3.6.1\n",
      "argon2-cffi             21.3.0\n",
      "argon2-cffi-bindings    21.2.0\n",
      "asttokens               2.0.5\n",
      "astunparse              1.6.3\n",
      "async-timeout           4.0.2\n",
      "attrs                   22.1.0\n",
      "Babel                   2.10.3\n",
      "backcall                0.2.0\n",
      "beautifulsoup4          4.11.1\n",
      "bleach                  5.0.1\n",
      "blinker                 1.4\n",
      "Bottleneck              1.3.4\n",
      "brotlipy                0.7.0\n",
      "cached-property         1.5.2\n",
      "cachetools              5.2.0\n",
      "certifi                 2022.6.15\n",
      "cffi                    1.15.1\n",
      "charset-normalizer      2.1.1\n",
      "click                   8.1.3\n",
      "colorama                0.4.5\n",
      "cryptography            37.0.4\n",
      "cycler                  0.11.0\n",
      "debugpy                 1.5.1\n",
      "decorator               5.1.1\n",
      "defusedxml              0.7.1\n",
      "entrypoints             0.4\n",
      "executing               0.8.3\n",
      "fastjsonschema          2.16.1\n",
      "flatbuffers             2.0\n",
      "flit_core               3.7.1\n",
      "fonttools               4.37.1\n",
      "frozenlist              1.3.1\n",
      "gast                    0.5.3\n",
      "google-auth             2.11.0\n",
      "google-auth-oauthlib    0.4.6\n",
      "google-pasta            0.2.0\n",
      "grpcio                  1.48.0\n",
      "h5py                    3.7.0\n",
      "idna                    3.3\n",
      "importlib-metadata      4.11.4\n",
      "importlib-resources     5.9.0\n",
      "ipykernel               6.9.1\n",
      "ipython                 8.3.0\n",
      "ipython-genutils        0.2.0\n",
      "jedi                    0.18.1\n",
      "Jinja2                  3.1.2\n",
      "joblib                  1.1.0\n",
      "json5                   0.9.5\n",
      "jsonschema              4.14.0\n",
      "jupyter-client          7.2.2\n",
      "jupyter-core            4.10.0\n",
      "jupyter-server          1.18.1\n",
      "jupyterlab              3.4.5\n",
      "jupyterlab-pygments     0.2.2\n",
      "jupyterlab_server       2.15.1\n",
      "keras                   2.8.0\n",
      "Note: you may need to restart the kernel to use updated packages.\n",
      "Keras-Preprocessing     1.1.2\n",
      "kiwisolver              1.4.4\n",
      "lxml                    4.9.1\n",
      "Markdown                3.4.1\n",
      "MarkupSafe              2.1.1\n",
      "matplotlib              3.5.3\n",
      "matplotlib-inline       0.1.2\n",
      "mistune                 2.0.4\n",
      "mkl-fft                 1.3.1\n",
      "mkl-random              1.2.2\n",
      "mkl-service             2.4.0\n",
      "multidict               6.0.2\n",
      "munkres                 1.1.4\n",
      "nbclassic               0.4.3\n",
      "nbclient                0.5.13\n",
      "nbconvert               7.0.0\n",
      "nbformat                5.4.0\n",
      "nest-asyncio            1.5.5\n",
      "notebook                6.4.12\n",
      "notebook-shim           0.1.0\n",
      "numexpr                 2.8.1\n",
      "numpy                   1.23.1\n",
      "oauthlib                3.2.0\n",
      "opt-einsum              3.3.0\n",
      "packaging               21.3\n",
      "pandas                  1.4.2\n",
      "pandocfilters           1.5.0\n",
      "parso                   0.8.3\n",
      "pickleshare             0.7.5\n",
      "Pillow                  9.0.1\n",
      "pip                     22.1.2\n",
      "pkgutil_resolve_name    1.3.10\n",
      "prometheus-client       0.14.1\n",
      "prompt-toolkit          3.0.20\n",
      "protobuf                3.20.1\n",
      "pure-eval               0.2.2\n",
      "pyasn1                  0.4.8\n",
      "pyasn1-modules          0.2.7\n",
      "pycparser               2.21\n",
      "Pygments                2.11.2\n",
      "PyJWT                   2.4.0\n",
      "pyOpenSSL               22.0.0\n",
      "pyparsing               3.0.9\n",
      "pyrsistent              0.18.1\n",
      "PySocks                 1.7.1\n",
      "python-dateutil         2.8.2\n",
      "pytz                    2022.2.1\n",
      "pyu2f                   0.1.5\n",
      "pywin32                 302\n",
      "pywinpty                2.0.2\n",
      "PyYAML                  6.0\n",
      "pyzmq                   22.3.0\n",
      "requests                2.28.1\n",
      "requests-oauthlib       1.3.1\n",
      "rsa                     4.9\n",
      "scikit-learn            1.0.2\n",
      "scipy                   1.7.3\n",
      "Send2Trash              1.8.0\n",
      "setuptools              63.4.1\n",
      "sip                     4.19.13\n",
      "six                     1.16.0\n",
      "sniffio                 1.2.0\n",
      "soupsieve               2.3.2.post1\n",
      "stack-data              0.2.0\n",
      "tensorboard             2.8.0\n",
      "tensorboard-data-server 0.6.0\n",
      "tensorboard-plugin-wit  1.8.1\n",
      "tensorflow              2.8.2\n",
      "tensorflow-estimator    2.8.0\n",
      "termcolor               1.1.0\n",
      "terminado               0.15.0\n",
      "threadpoolctl           2.2.0\n",
      "tinycss2                1.1.1\n",
      "tornado                 6.1\n",
      "traitlets               5.1.1\n",
      "typing_extensions       4.3.0\n",
      "unicodedata2            14.0.0\n",
      "urllib3                 1.26.11\n",
      "wcwidth                 0.2.5\n",
      "webencodings            0.5.1\n",
      "websocket-client        1.4.0\n",
      "Werkzeug                2.2.2\n",
      "wheel                   0.37.1\n",
      "win-inet-pton           1.1.0\n",
      "wincertstore            0.2\n",
      "wrapt                   1.14.1\n",
      "yarl                    1.7.2\n",
      "zipp                    3.8.1\n"
     ]
    }
   ],
   "source": [
    "pip list\n"
   ]
  },
  {
   "cell_type": "code",
   "execution_count": 28,
   "metadata": {},
   "outputs": [
    {
     "ename": "ModuleNotFoundError",
     "evalue": "No module named 'matplotlib.font_manger'",
     "output_type": "error",
     "traceback": [
      "\u001b[1;31m---------------------------------------------------------------------------\u001b[0m",
      "\u001b[1;31mModuleNotFoundError\u001b[0m                       Traceback (most recent call last)",
      "Input \u001b[1;32mIn [28]\u001b[0m, in \u001b[0;36m<cell line: 3>\u001b[1;34m()\u001b[0m\n\u001b[0;32m      1\u001b[0m \u001b[38;5;28;01mimport\u001b[39;00m \u001b[38;5;21;01mmatplotlib\u001b[39;00m \u001b[38;5;28;01mas\u001b[39;00m \u001b[38;5;21;01mmpl\u001b[39;00m\n\u001b[0;32m      2\u001b[0m \u001b[38;5;28;01mimport\u001b[39;00m \u001b[38;5;21;01mmatplotlib\u001b[39;00m\u001b[38;5;21;01m.\u001b[39;00m\u001b[38;5;21;01mpyplot\u001b[39;00m \u001b[38;5;28;01mas\u001b[39;00m \u001b[38;5;21;01mplt\u001b[39;00m\n\u001b[1;32m----> 3\u001b[0m \u001b[38;5;28;01mimport\u001b[39;00m \u001b[38;5;21;01mmatplotlib\u001b[39;00m\u001b[38;5;21;01m.\u001b[39;00m\u001b[38;5;21;01mfont_manger\u001b[39;00m \u001b[38;5;28;01mas\u001b[39;00m \u001b[38;5;21;01mfm\u001b[39;00m\n\u001b[0;32m      5\u001b[0m \u001b[38;5;28mprint\u001b[39m(\u001b[38;5;124m'\u001b[39m\u001b[38;5;124m버전:\u001b[39m\u001b[38;5;124m'\u001b[39m, mpl\u001b[38;5;241m.\u001b[39m__version__)\n\u001b[0;32m      6\u001b[0m \u001b[38;5;28mprint\u001b[39m(\u001b[38;5;124m'\u001b[39m\u001b[38;5;124m설치 위치:\u001b[39m\u001b[38;5;124m'\u001b[39m, mpl\u001b[38;5;241m.\u001b[39m\u001b[38;5;18m__file__\u001b[39m)\n",
      "\u001b[1;31mModuleNotFoundError\u001b[0m: No module named 'matplotlib.font_manger'"
     ]
    }
   ],
   "source": [
    "import matplotlib as mpl\n",
    "import matplotlib.pyplot as plt\n",
    "import matplotlib.font_manger as fm\n",
    "\n",
    "print('버전:', mpl.__version__)\n",
    "print('설치 위치:', mpl.__file__)\n",
    "print('설정 위치:', mpl.get_configdir())\n",
    "print('캐시 위치:', mpl.get_cachedir())"
   ]
  },
  {
   "cell_type": "code",
   "execution_count": 27,
   "metadata": {
    "school_cell_uuid": "d829f331f7ce4535800a6849fc891d78"
   },
   "outputs": [
    {
     "data": {
      "image/png": "[encoded data removed]",
      "text/plain": [
       "<Figure size 720x144 with 10 Axes>"
      ]
     },
     "metadata": {},
     "output_type": "display_data"
    }
   ],
   "source": [
    "import matplotlib.pyplot as plt\n",
    "plt.rc('font', family='NanumBarunGothic')\n",
    "d = [digits.images[i] for i in range(10)] # list comprehension\n",
    "\n",
    "plt.figure(figsize=(10, 2))\n",
    "for i in range(len(d)):\n",
    "    plt.subplot(1, len(d), i + 1)\n",
    "    plt.imshow(d[i], cmap=plt.cm.bone_r)\n",
    "    plt.grid(False) \n",
    "    plt.xticks([]) \n",
    "    plt.yticks([])\n",
    "    plt.title(f\"image {i}\")\n",
    "plt.suptitle(\"0과 1 이미지\")\n",
    "plt.tight_layout()\n",
    "plt.show()"
   ]
  },
  {
   "cell_type": "markdown",
   "metadata": {},
   "source": [
    "위의 2차원 이미지를 열 벡터로 펼쳐 봅시다."
   ]
  },
  {
   "cell_type": "code",
   "execution_count": 21,
   "metadata": {},
   "outputs": [
    {
     "data": {
      "text/plain": [
       "array([[1, 2, 3],\n",
       "       [4, 5, 6]])"
      ]
     },
     "execution_count": 21,
     "metadata": {},
     "output_type": "execute_result"
    }
   ],
   "source": [
    "a = np.array([1, 2, 3, 4, 5, 6]).reshape(2, -1)\n",
    "a"
   ]
  },
  {
   "cell_type": "code",
   "execution_count": 22,
   "metadata": {},
   "outputs": [
    {
     "data": {
      "text/plain": [
       "array([1, 2, 3, 4, 5, 6])"
      ]
     },
     "execution_count": 22,
     "metadata": {},
     "output_type": "execute_result"
    }
   ],
   "source": [
    "a.ravel() # 레퍼런스 변수 반환"
   ]
  },
  {
   "cell_type": "code",
   "execution_count": 23,
   "metadata": {},
   "outputs": [
    {
     "data": {
      "text/plain": [
       "array([1, 2, 3, 4, 5, 6])"
      ]
     },
     "execution_count": 23,
     "metadata": {},
     "output_type": "execute_result"
    }
   ],
   "source": [
    "a.flatten() # 복사본 변수 반환"
   ]
  },
  {
   "cell_type": "markdown",
   "metadata": {},
   "source": [
    "reshape(), ravel()과 다르게 flatten()은 복사본을 반환합니다. "
   ]
  },
  {
   "cell_type": "code",
   "execution_count": 24,
   "metadata": {},
   "outputs": [
    {
     "name": "stdout",
     "output_type": "stream",
     "text": [
      "[ 1  2 10  4  5]\n",
      "[ 1  2 10  4  5]\n"
     ]
    }
   ],
   "source": [
    "x = np.array([1, 2, 3, 4, 5])\n",
    "x2 = x\n",
    "x2[2] = 10\n",
    "print(x2)\n",
    "print(x)"
   ]
  },
  {
   "cell_type": "code",
   "execution_count": 25,
   "metadata": {
    "scrolled": true
   },
   "outputs": [
    {
     "name": "stdout",
     "output_type": "stream",
     "text": [
      "[  1   2 100   4   5]\n",
      "[ 1  2 10  4  5]\n",
      "[ 1  2 10  4  5]\n"
     ]
    }
   ],
   "source": [
    "x3 = x.copy()\n",
    "x3[2] = 100\n",
    "print(x3)\n",
    "print(x2)\n",
    "print(x)"
   ]
  },
  {
   "cell_type": "code",
   "execution_count": 14,
   "metadata": {
    "school_cell_uuid": "4718358916c74ce58b9e2e392ace4d1b",
    "scrolled": true
   },
   "outputs": [
    {
     "data": {
      "image/png": "[encoded data removed]",
      "text/plain": [
       "<Figure size 720x216 with 10 Axes>"
      ]
     },
     "metadata": {},
     "output_type": "display_data"
    }
   ],
   "source": [
    "# 열 벡터화\n",
    "v = [d[i].reshape(64, 1) for i in range(len(d))] # 열 벡터화\n",
    "\n",
    "plt.figure(figsize=(10, 3))\n",
    "for i in range(len(d)):\n",
    "    plt.subplot(1, len(d), i + 1)\n",
    "    plt.imshow(v[i], aspect=0.5, cmap=plt.cm.bone_r)\n",
    "    plt.grid(False)\n",
    "    plt.xticks([])\n",
    "    plt.yticks([])\n",
    "    plt.title(\"벡터 {}\".format(i))\n",
    "plt.suptitle(\"벡터화된 이미지\")\n",
    "plt.tight_layout()\n",
    "plt.show()"
   ]
  },
  {
   "cell_type": "markdown",
   "metadata": {},
   "source": [
    "### 1.1.4 행렬"
   ]
  },
  {
   "cell_type": "markdown",
   "metadata": {},
   "source": [
    "행렬은 n개의 차원을 가지는 벡터 m개가 묶여 있는 형태를 말합니다.<br>\n",
    "벡터, 즉 열 벡터는 열의 수가 1인 행렬이며, 데이터를 행렬의 형태로 묶어서 표현할 때는 하나의 벡터가 열이 아닌 행으로 표시됨에 주의해야 합니다."
   ]
  },
  {
   "cell_type": "markdown",
   "metadata": {},
   "source": [
    "선형대수 기호로 $X$와 같이 하나의 대문자로 표기합니다.<br><br>\n",
    "$X \\in R^{m \\times n}$<br>"
   ]
  },
  {
   "cell_type": "markdown",
   "metadata": {},
   "source": [
    "자연수 $m, n$과 실수 $a_{ij} (1\\le i\\le m, 1\\le j\\le n)$에 대하여 $m \\times n$ 행렬 $A$는 다음과 같이 정의합니다.<br><br>\n",
    "$A=\\begin{bmatrix}\n",
    "a_{11} & a_{12} & \\cdots & a_{1n}\\\\\n",
    "a_{21} & a_{22} & \\cdots & a_{2n}\\\\\n",
    "\\vdots & \\vdots & \\ddots & \\vdots \\\\\n",
    "a_{m1} & a_{m2} & \\cdots & a_{mn}\n",
    "\\end{bmatrix}$"
   ]
  },
  {
   "cell_type": "code",
   "execution_count": 27,
   "metadata": {
    "school_cell_uuid": "0ff362ae4e0848059a379051ad5fc5b3"
   },
   "outputs": [
    {
     "data": {
      "text/plain": [
       "array([[11, 12, 13],\n",
       "       [21, 22, 23]])"
      ]
     },
     "execution_count": 27,
     "metadata": {},
     "output_type": "execute_result"
    }
   ],
   "source": [
    "A = np.array([[11,12,13],[21,22,23]])\n",
    "A"
   ]
  },
  {
   "cell_type": "code",
   "execution_count": 28,
   "metadata": {},
   "outputs": [
    {
     "data": {
      "text/plain": [
       "(2, 3)"
      ]
     },
     "execution_count": 28,
     "metadata": {},
     "output_type": "execute_result"
    }
   ],
   "source": [
    "A.shape"
   ]
  },
  {
   "cell_type": "code",
   "execution_count": 29,
   "metadata": {},
   "outputs": [
    {
     "data": {
      "text/plain": [
       "2"
      ]
     },
     "execution_count": 29,
     "metadata": {},
     "output_type": "execute_result"
    }
   ],
   "source": [
    "A.ndim"
   ]
  },
  {
   "cell_type": "markdown",
   "metadata": {},
   "source": [
    "### 1.1.5 텐서"
   ]
  },
  {
   "cell_type": "markdown",
   "metadata": {},
   "source": [
    "텐서는 $m \\times n$형태의 행렬이 여러 개가 묶여 있는 형태를 말합니다.<br>"
   ]
  },
  {
   "cell_type": "markdown",
   "metadata": {},
   "source": [
    "컬러 이미지는 RGB의 밝기를 나타내는 3가지 이미지가 겹친 것입니다. 이 때 각각의 색을 나타내는 행렬을 채널이라고 합니다."
   ]
  },
  {
   "cell_type": "code",
   "execution_count": 30,
   "metadata": {},
   "outputs": [
    {
     "data": {
      "text/plain": [
       "(768, 1024, 3)"
      ]
     },
     "execution_count": 30,
     "metadata": {},
     "output_type": "execute_result"
    }
   ],
   "source": [
    "from scipy import misc  # 패키지 임포트\n",
    "\n",
    "img_rgb = misc.face()  # 컬러 이미지 로드\n",
    "img_rgb.shape  # 데이터의 모양"
   ]
  },
  {
   "cell_type": "code",
   "execution_count": 31,
   "metadata": {},
   "outputs": [
    {
     "data": {
      "image/png": "[encoded data removed]",
      "text/plain": [
       "<Figure size 432x288 with 4 Axes>"
      ]
     },
     "metadata": {
      "needs_background": "light"
     },
     "output_type": "display_data"
    }
   ],
   "source": [
    "plt.subplot(2, 2, 1)\n",
    "plt.imshow(img_rgb, cmap=plt.cm.gray)  # 컬러 이미지 출력\n",
    "plt.axis(\"off\")\n",
    "plt.title(\"RGB 컬러 이미지\")\n",
    "\n",
    "plt.subplot(2, 2, 2)\n",
    "plt.imshow(img_rgb[:, :, 0], cmap=plt.cm.gray)  # red 채널 출력\n",
    "plt.axis(\"off\")\n",
    "plt.title(\"Red 채널\")\n",
    "\n",
    "plt.subplot(2, 2, 3)\n",
    "plt.imshow(img_rgb[:, :, 1], cmap=plt.cm.gray)  # green 채널 출력\n",
    "plt.axis(\"off\")\n",
    "plt.title(\"Green 채널\")\n",
    "\n",
    "plt.subplot(2, 2, 4)\n",
    "plt.imshow(img_rgb[:, :, 2], cmap=plt.cm.gray)  # blue 채널 출력\n",
    "plt.axis(\"off\")\n",
    "plt.title(\"Blue 채널\")\n",
    "\n",
    "plt.show()"
   ]
  },
  {
   "cell_type": "markdown",
   "metadata": {},
   "source": [
    "## 1.2 벡터와 행렬의 기본연산"
   ]
  },
  {
   "cell_type": "markdown",
   "metadata": {},
   "source": [
    "마트 세군데에서 조사한 주요 식재료의 단위당 가격은 다음과 같습니다."
   ]
  },
  {
   "cell_type": "code",
   "execution_count": 22,
   "metadata": {
    "scrolled": true
   },
   "outputs": [
    {
     "data": {
      "text/html": [
       "<div>\n",
       "<style scoped>\n",
       "    .dataframe tbody tr th:only-of-type {\n",
       "        vertical-align: middle;\n",
       "    }\n",
       "\n",
       "    .dataframe tbody tr th {\n",
       "        vertical-align: top;\n",
       "    }\n",
       "\n",
       "    .dataframe thead th {\n",
       "        text-align: right;\n",
       "    }\n",
       "</style>\n",
       "<table border=\"1\" class=\"dataframe\">\n",
       "  <thead>\n",
       "    <tr style=\"text-align: right;\">\n",
       "      <th></th>\n",
       "      <th>감자</th>\n",
       "      <th>고구마</th>\n",
       "      <th>시금치</th>\n",
       "      <th>배추</th>\n",
       "    </tr>\n",
       "  </thead>\n",
       "  <tbody>\n",
       "    <tr>\n",
       "      <th>마트A</th>\n",
       "      <td>500</td>\n",
       "      <td>400</td>\n",
       "      <td>500</td>\n",
       "      <td>1000</td>\n",
       "    </tr>\n",
       "    <tr>\n",
       "      <th>마트B</th>\n",
       "      <td>700</td>\n",
       "      <td>500</td>\n",
       "      <td>400</td>\n",
       "      <td>1200</td>\n",
       "    </tr>\n",
       "    <tr>\n",
       "      <th>마트C</th>\n",
       "      <td>600</td>\n",
       "      <td>700</td>\n",
       "      <td>600</td>\n",
       "      <td>1300</td>\n",
       "    </tr>\n",
       "  </tbody>\n",
       "</table>\n",
       "</div>"
      ],
      "text/plain": [
       "      감자  고구마  시금치    배추\n",
       "마트A  500  400  500  1000\n",
       "마트B  700  500  400  1200\n",
       "마트C  600  700  600  1300"
      ]
     },
     "execution_count": 22,
     "metadata": {},
     "output_type": "execute_result"
    }
   ],
   "source": [
    "price1 = pd.DataFrame([[500, 400, 500, 1000], \n",
    "                       [700, 500, 400, 1200], \n",
    "                       [600, 700, 600, 1300]], \n",
    "                       index=['마트A', '마트B', '마트C'], \n",
    "                       columns=['감자', '고구마', '시금치', '배추'])\n",
    "price1"
   ]
  },
  {
   "cell_type": "code",
   "execution_count": 23,
   "metadata": {},
   "outputs": [
    {
     "data": {
      "text/plain": [
       "array([[ 500,  400,  500, 1000],\n",
       "       [ 700,  500,  400, 1200],\n",
       "       [ 600,  700,  600, 1300]])"
      ]
     },
     "execution_count": 23,
     "metadata": {},
     "output_type": "execute_result"
    }
   ],
   "source": [
    "# price1.values\n",
    "price1.to_numpy()"
   ]
  },
  {
   "cell_type": "markdown",
   "metadata": {},
   "source": [
    "일주일 후 마트의 주요 식재료의 단위당 가격은 다음과 같습니다."
   ]
  },
  {
   "cell_type": "code",
   "execution_count": 24,
   "metadata": {
    "scrolled": true
   },
   "outputs": [
    {
     "data": {
      "text/html": [
       "<div>\n",
       "<style scoped>\n",
       "    .dataframe tbody tr th:only-of-type {\n",
       "        vertical-align: middle;\n",
       "    }\n",
       "\n",
       "    .dataframe tbody tr th {\n",
       "        vertical-align: top;\n",
       "    }\n",
       "\n",
       "    .dataframe thead th {\n",
       "        text-align: right;\n",
       "    }\n",
       "</style>\n",
       "<table border=\"1\" class=\"dataframe\">\n",
       "  <thead>\n",
       "    <tr style=\"text-align: right;\">\n",
       "      <th></th>\n",
       "      <th>감자</th>\n",
       "      <th>고구마</th>\n",
       "      <th>시금치</th>\n",
       "      <th>배추</th>\n",
       "    </tr>\n",
       "  </thead>\n",
       "  <tbody>\n",
       "    <tr>\n",
       "      <th>마트A</th>\n",
       "      <td>400</td>\n",
       "      <td>500</td>\n",
       "      <td>600</td>\n",
       "      <td>1200</td>\n",
       "    </tr>\n",
       "    <tr>\n",
       "      <th>마트B</th>\n",
       "      <td>500</td>\n",
       "      <td>300</td>\n",
       "      <td>500</td>\n",
       "      <td>1300</td>\n",
       "    </tr>\n",
       "    <tr>\n",
       "      <th>마트C</th>\n",
       "      <td>700</td>\n",
       "      <td>400</td>\n",
       "      <td>700</td>\n",
       "      <td>1500</td>\n",
       "    </tr>\n",
       "  </tbody>\n",
       "</table>\n",
       "</div>"
      ],
      "text/plain": [
       "      감자  고구마  시금치    배추\n",
       "마트A  400  500  600  1200\n",
       "마트B  500  300  500  1300\n",
       "마트C  700  400  700  1500"
      ]
     },
     "execution_count": 24,
     "metadata": {},
     "output_type": "execute_result"
    }
   ],
   "source": [
    "price2 = pd.DataFrame([[400, 500, 600, 1200], \n",
    "                       [500, 300, 500, 1300], \n",
    "                       [700, 400, 700, 1500]], \n",
    "                       index=['마트A', '마트B', '마트C'], \n",
    "                       columns=['감자', '고구마', '시금치', '배추'])\n",
    "price2"
   ]
  },
  {
   "cell_type": "code",
   "execution_count": 25,
   "metadata": {
    "scrolled": true
   },
   "outputs": [
    {
     "data": {
      "text/plain": [
       "array([[ 400,  500,  600, 1200],\n",
       "       [ 500,  300,  500, 1300],\n",
       "       [ 700,  400,  700, 1500]])"
      ]
     },
     "execution_count": 25,
     "metadata": {},
     "output_type": "execute_result"
    }
   ],
   "source": [
    "# price2.values\n",
    "price2.to_numpy()"
   ]
  },
  {
   "cell_type": "markdown",
   "metadata": {},
   "source": [
    "재석과 세호는 다음과 같은 수량의 식재료를 구입합니다. "
   ]
  },
  {
   "cell_type": "code",
   "execution_count": 26,
   "metadata": {
    "scrolled": true
   },
   "outputs": [
    {
     "data": {
      "text/html": [
       "<div>\n",
       "<style scoped>\n",
       "    .dataframe tbody tr th:only-of-type {\n",
       "        vertical-align: middle;\n",
       "    }\n",
       "\n",
       "    .dataframe tbody tr th {\n",
       "        vertical-align: top;\n",
       "    }\n",
       "\n",
       "    .dataframe thead th {\n",
       "        text-align: right;\n",
       "    }\n",
       "</style>\n",
       "<table border=\"1\" class=\"dataframe\">\n",
       "  <thead>\n",
       "    <tr style=\"text-align: right;\">\n",
       "      <th></th>\n",
       "      <th>감자</th>\n",
       "      <th>고구마</th>\n",
       "      <th>시금치</th>\n",
       "      <th>배추</th>\n",
       "    </tr>\n",
       "  </thead>\n",
       "  <tbody>\n",
       "    <tr>\n",
       "      <th>재석</th>\n",
       "      <td>2</td>\n",
       "      <td>4</td>\n",
       "      <td>4</td>\n",
       "      <td>2</td>\n",
       "    </tr>\n",
       "    <tr>\n",
       "      <th>세호</th>\n",
       "      <td>3</td>\n",
       "      <td>5</td>\n",
       "      <td>3</td>\n",
       "      <td>1</td>\n",
       "    </tr>\n",
       "  </tbody>\n",
       "</table>\n",
       "</div>"
      ],
      "text/plain": [
       "    감자  고구마  시금치  배추\n",
       "재석   2    4    4   2\n",
       "세호   3    5    3   1"
      ]
     },
     "execution_count": 26,
     "metadata": {},
     "output_type": "execute_result"
    }
   ],
   "source": [
    "qty = pd.DataFrame([[2, 4, 4, 2], \n",
    "                    [3, 5, 3, 1]], \n",
    "                    index=['재석', '세호'], \n",
    "                    columns=['감자', '고구마', '시금치', '배추'])\n",
    "qty"
   ]
  },
  {
   "cell_type": "markdown",
   "metadata": {},
   "source": [
    "### 1.2.1 벡터와 행렬의 덧셈과 뺄셈"
   ]
  },
  {
   "cell_type": "markdown",
   "metadata": {},
   "source": [
    "동일 크기를 가진 두 개의 벡터 혹은 행렬은 동일 성분끼리 덧셈 뺄셈을 합니다."
   ]
  },
  {
   "cell_type": "markdown",
   "metadata": {},
   "source": [
    "벡터 $a=(a_{i}), b=(b_{i})$의 덧셈, 뺄셈은 다음과 같이 정의됩니다.<br><br>\n",
    "$a+b=(a_{i}+b_{i})$<br>\n",
    "$a-b=(a_{i}-b_{i})$<br>"
   ]
  },
  {
   "cell_type": "markdown",
   "metadata": {},
   "source": [
    "행렬 $A=(a_{ij}), B=(b_{ij})$의 덧셈, 뺄셈은 다음과 같이 정의됩니다.<br><br>\n",
    "$A+B=(a_{ij}+b_{ij})$<br>\n",
    "$A-B=(a_{ij}-b_{ij})$<br>"
   ]
  },
  {
   "cell_type": "markdown",
   "metadata": {},
   "source": [
    "처음과 일주일 후의 각 마트의 식재료 가격의 합은?"
   ]
  },
  {
   "cell_type": "code",
   "execution_count": 37,
   "metadata": {},
   "outputs": [
    {
     "data": {
      "text/html": [
       "<div>\n",
       "<style scoped>\n",
       "    .dataframe tbody tr th:only-of-type {\n",
       "        vertical-align: middle;\n",
       "    }\n",
       "\n",
       "    .dataframe tbody tr th {\n",
       "        vertical-align: top;\n",
       "    }\n",
       "\n",
       "    .dataframe thead th {\n",
       "        text-align: right;\n",
       "    }\n",
       "</style>\n",
       "<table border=\"1\" class=\"dataframe\">\n",
       "  <thead>\n",
       "    <tr style=\"text-align: right;\">\n",
       "      <th></th>\n",
       "      <th>감자</th>\n",
       "      <th>고구마</th>\n",
       "      <th>시금치</th>\n",
       "      <th>배추</th>\n",
       "    </tr>\n",
       "  </thead>\n",
       "  <tbody>\n",
       "    <tr>\n",
       "      <th>마트A</th>\n",
       "      <td>900</td>\n",
       "      <td>900</td>\n",
       "      <td>1100</td>\n",
       "      <td>2200</td>\n",
       "    </tr>\n",
       "    <tr>\n",
       "      <th>마트B</th>\n",
       "      <td>1200</td>\n",
       "      <td>800</td>\n",
       "      <td>900</td>\n",
       "      <td>2500</td>\n",
       "    </tr>\n",
       "    <tr>\n",
       "      <th>마트C</th>\n",
       "      <td>1300</td>\n",
       "      <td>1100</td>\n",
       "      <td>1300</td>\n",
       "      <td>2800</td>\n",
       "    </tr>\n",
       "  </tbody>\n",
       "</table>\n",
       "</div>"
      ],
      "text/plain": [
       "       감자   고구마   시금치    배추\n",
       "마트A   900   900  1100  2200\n",
       "마트B  1200   800   900  2500\n",
       "마트C  1300  1100  1300  2800"
      ]
     },
     "execution_count": 37,
     "metadata": {},
     "output_type": "execute_result"
    }
   ],
   "source": [
    "price1 + price2"
   ]
  },
  {
   "cell_type": "markdown",
   "metadata": {},
   "source": [
    "행렬의 덧셈, 스칼라곱에 대해 다음의 법칙이 성립합니다.<br><br>\n",
    "(1) 덧셈의 교환법칙: $A+B=B+A$<br>\n",
    "(2) 덧셈의 결합법칙: $(A+B)+C=A+(B+C)$<br>\n",
    "(3) 덧셈의 항등원: $A+O=O+A=A$<br>\n",
    "(4) 스칼라곱의 분배법칙: $c(A+B)=cA+cB$<br>"
   ]
  },
  {
   "cell_type": "markdown",
   "metadata": {},
   "source": [
    "### 1.2.2 스칼라와 벡터/행렬의 곱셈"
   ]
  },
  {
   "cell_type": "markdown",
   "metadata": {},
   "source": [
    "스칼라 값 $c$와 벡터 $a$ 혹은 행렬 $A$의 곱셈은 벡터 $a$ 혹은 행렬 $A$의 모든 성분에 스칼라 값 c를 곱한 결과와 같습니다.<br><br>\n",
    "$ca=(ca_{i})$<br>\n",
    "$cA=(ca_{ij})$<br>"
   ]
  },
  {
   "cell_type": "markdown",
   "metadata": {},
   "source": [
    "### 1.2.3 브로드캐스팅(Broadcasting)"
   ]
  },
  {
   "cell_type": "markdown",
   "metadata": {},
   "source": [
    "벡터와 스칼라간의 덧셈, 뺄셈 연산에서는 스칼라를 벡터와 동일 크기로 변환해 동일 성분간 연산을 수행됩니다.<br><br>\n",
    "$x = \\begin{bmatrix}x_1\\\\x_2\\\\x_3\\\\\\vdots\\\\x_n\\end{bmatrix} \\quad \\rightarrow \\quad \n",
    "     x - m = \\begin{bmatrix}x_1-m\\\\x_2-m\\\\x_3-m\\\\\\vdots\\\\x_n-m\\end{bmatrix}$"
   ]
  },
  {
   "cell_type": "code",
   "execution_count": 27,
   "metadata": {
    "school_cell_uuid": "0ff362ae4e0848059a379051ad5fc5b3"
   },
   "outputs": [
    {
     "data": {
      "text/plain": [
       "array([10, 20, 30, 40, 50])"
      ]
     },
     "execution_count": 27,
     "metadata": {},
     "output_type": "execute_result"
    }
   ],
   "source": [
    "x = np.array([10, 20, 30, 40, 50])\n",
    "x"
   ]
  },
  {
   "cell_type": "code",
   "execution_count": 33,
   "metadata": {
    "scrolled": true
   },
   "outputs": [
    {
     "data": {
      "text/plain": [
       "array([ 0, 10, 20, 30, 40])"
      ]
     },
     "execution_count": 33,
     "metadata": {},
     "output_type": "execute_result"
    }
   ],
   "source": [
    "x - 10 # 모든 위치에 10을 브로드 캐스팅 함"
   ]
  },
  {
   "cell_type": "code",
   "execution_count": 29,
   "metadata": {
    "school_cell_uuid": "0ff362ae4e0848059a379051ad5fc5b3"
   },
   "outputs": [],
   "source": [
    "a = np.array([10, 20, 30])\n",
    "b = np.array([10])"
   ]
  },
  {
   "cell_type": "code",
   "execution_count": 34,
   "metadata": {},
   "outputs": [
    {
     "data": {
      "text/plain": [
       "array([ 0, 10, 20])"
      ]
     },
     "execution_count": 34,
     "metadata": {},
     "output_type": "execute_result"
    }
   ],
   "source": [
    "a - b # b가 브로드 캐스팅"
   ]
  },
  {
   "cell_type": "code",
   "execution_count": 35,
   "metadata": {
    "school_cell_uuid": "0ff362ae4e0848059a379051ad5fc5b3"
   },
   "outputs": [],
   "source": [
    "A = np.array([[10, 20, 30], [40, 50, 60]])\n",
    "B = np.array([[10, 20, 30]]) # B가 브로드 캐스팅"
   ]
  },
  {
   "cell_type": "code",
   "execution_count": 36,
   "metadata": {},
   "outputs": [
    {
     "data": {
      "text/plain": [
       "array([[ 0,  0,  0],\n",
       "       [30, 30, 30]])"
      ]
     },
     "execution_count": 36,
     "metadata": {},
     "output_type": "execute_result"
    }
   ],
   "source": [
    "A - B"
   ]
  },
  {
   "cell_type": "markdown",
   "metadata": {},
   "source": [
    "### 1.2.4 전치(Transpose)"
   ]
  },
  {
   "cell_type": "markdown",
   "metadata": {},
   "source": [
    "전치는 행렬의 행과 열을 바꾸는 연산으로 행렬 $X$에 $T$ 기호를 붙여 $X^{T}$로 표기합니다."
   ]
  },
  {
   "cell_type": "code",
   "execution_count": 37,
   "metadata": {
    "school_cell_uuid": "0ff362ae4e0848059a379051ad5fc5b3"
   },
   "outputs": [],
   "source": [
    "A = np.array([[1, 2, 3], [4, 5, 6]])\n",
    "B = np.array([[7, 8, 9], [10, 11, 12]])"
   ]
  },
  {
   "cell_type": "code",
   "execution_count": 45,
   "metadata": {},
   "outputs": [
    {
     "data": {
      "text/plain": [
       "array([[1, 2, 3],\n",
       "       [4, 5, 6]])"
      ]
     },
     "execution_count": 45,
     "metadata": {},
     "output_type": "execute_result"
    }
   ],
   "source": [
    "A"
   ]
  },
  {
   "cell_type": "code",
   "execution_count": 46,
   "metadata": {
    "scrolled": true
   },
   "outputs": [
    {
     "data": {
      "text/plain": [
       "array([[ 7,  8,  9],\n",
       "       [10, 11, 12]])"
      ]
     },
     "execution_count": 46,
     "metadata": {},
     "output_type": "execute_result"
    }
   ],
   "source": [
    "B"
   ]
  },
  {
   "cell_type": "code",
   "execution_count": 47,
   "metadata": {
    "school_cell_uuid": "354a23b55f324a63b030a7665a01f619",
    "scrolled": true
   },
   "outputs": [
    {
     "data": {
      "text/plain": [
       "array([[1, 4],\n",
       "       [2, 5],\n",
       "       [3, 6]])"
      ]
     },
     "execution_count": 47,
     "metadata": {},
     "output_type": "execute_result"
    }
   ],
   "source": [
    "At = A.T\n",
    "At"
   ]
  },
  {
   "cell_type": "code",
   "execution_count": 38,
   "metadata": {
    "scrolled": true
   },
   "outputs": [
    {
     "data": {
      "text/plain": [
       "array([[ 8, 14],\n",
       "       [10, 16],\n",
       "       [12, 18]])"
      ]
     },
     "execution_count": 38,
     "metadata": {},
     "output_type": "execute_result"
    }
   ],
   "source": [
    "(A + B).T # => A.T + B.T 배분 법칙 적용 => 연산의 순서가 바뀌는 경우가 있는데 지금은 아님"
   ]
  },
  {
   "cell_type": "code",
   "execution_count": 49,
   "metadata": {},
   "outputs": [
    {
     "data": {
      "text/plain": [
       "array([[ 8, 14],\n",
       "       [10, 16],\n",
       "       [12, 18]])"
      ]
     },
     "execution_count": 49,
     "metadata": {},
     "output_type": "execute_result"
    }
   ],
   "source": [
    "A.T + B.T"
   ]
  },
  {
   "cell_type": "code",
   "execution_count": 39,
   "metadata": {},
   "outputs": [
    {
     "data": {
      "text/plain": [
       "array([ 4, 10, 18])"
      ]
     },
     "execution_count": 39,
     "metadata": {},
     "output_type": "execute_result"
    }
   ],
   "source": [
    "# +, - 동일 위치의 원소끼리 연산을 한다 => 결과 크기가 같다. *도 동일 위치의 원소끼리 연산 => 결과 크기가 같다.\n",
    "a = np.array([1, 2, 3])\n",
    "b = np.array([4, 5, 6])\n",
    "a * b"
   ]
  },
  {
   "cell_type": "markdown",
   "metadata": {},
   "source": [
    "### 1.2.4 벡터의 곱셈"
   ]
  },
  {
   "cell_type": "markdown",
   "metadata": {},
   "source": [
    "벡터(열벡터:2차원 배열, 열이 1인)의 곱셈 연산은 두 벡터 $x$와 $y$의 **차원이 동일**하고,  \n",
    "앞의 피연산자 벡터를 **행** 벡터로, 뒤의 피연산자 벡터가 **열벡터**로 하면 벡터의 곱셈 연산을 수행할 수 있습니다.<br><br>\n",
    "$x = \\begin{bmatrix}x_1\\\\x_2\\\\x_3\\\\\\vdots\\\\x_n\\end{bmatrix}$, \n",
    "$y = \\begin{bmatrix}y_1\\\\y_2\\\\y_3\\\\\\vdots\\\\y_n\\end{bmatrix} \\qquad x \\in R^{n \\times 1}, y \\in R^{n \\times 1}$<br><br>\n",
    "$x^{T}y=\\begin{bmatrix}x_1&x_2&x_3&\\cdots&x_n\\end{bmatrix}\\begin{bmatrix}y_1\\\\y_2\\\\y_3\\\\\\vdots\\\\y_n\\end{bmatrix}\n",
    "       =x_{1}y_{1}+\\cdots+x_{n}y_{n}=\\sum_{i=1}^{n}x_{i}y_{i}$<br><br>\n",
    "내적의 결과는 스칼라 값이며, 동일 성분간의 곱을 모두 합한 스칼라 값을 만듭니다."
   ]
  },
  {
   "cell_type": "markdown",
   "metadata": {},
   "source": [
    "### 앞의 행벡터의 열과 뒤의 열벡터의 행의 수가 같아야 벡터 곱셈이 가능 하다 \n",
    "- 열벡터를 행벡터로 치환(T)\n",
    "- 내적이라고 한다."
   ]
  },
  {
   "cell_type": "code",
   "execution_count": 40,
   "metadata": {},
   "outputs": [
    {
     "name": "stdout",
     "output_type": "stream",
     "text": [
      "[[1]\n",
      " [2]\n",
      " [3]]\n",
      "[[4]\n",
      " [5]\n",
      " [6]]\n"
     ]
    }
   ],
   "source": [
    "x = np.array([[1], [2], [3]]) # 3x1 열벡터\n",
    "y = np.array([[4], [5], [6]]) # 3x1 열벡터\n",
    "print(x)\n",
    "print(y)"
   ]
  },
  {
   "cell_type": "code",
   "execution_count": 41,
   "metadata": {},
   "outputs": [
    {
     "data": {
      "text/plain": [
       "array([[1, 2, 3]])"
      ]
     },
     "execution_count": 41,
     "metadata": {},
     "output_type": "execute_result"
    }
   ],
   "source": [
    "x.T # 벡터 곱을 할려면 앞벡터를 열벡터를 행 벡터로 변환"
   ]
  },
  {
   "cell_type": "code",
   "execution_count": 53,
   "metadata": {},
   "outputs": [
    {
     "data": {
      "text/plain": [
       "array([[4],\n",
       "       [5],\n",
       "       [6]])"
      ]
     },
     "execution_count": 53,
     "metadata": {},
     "output_type": "execute_result"
    }
   ],
   "source": [
    "y"
   ]
  },
  {
   "cell_type": "code",
   "execution_count": 44,
   "metadata": {},
   "outputs": [
    {
     "data": {
      "text/plain": [
       "32"
      ]
     },
     "execution_count": 44,
     "metadata": {},
     "output_type": "execute_result"
    }
   ],
   "source": [
    "(x.T @ y)[0, 0] # 벡터곱 내적 이라고 한다. [0, 0]이 붙은 이유는? => 열벡터는 2차원 이기 때문에 결과도 2차원이고 결과를 스칼라로 만들기 위해서 [0, 0]을 붙임"
   ]
  },
  {
   "cell_type": "code",
   "execution_count": 43,
   "metadata": {
    "scrolled": true
   },
   "outputs": [
    {
     "data": {
      "text/plain": [
       "32"
      ]
     },
     "execution_count": 43,
     "metadata": {},
     "output_type": "execute_result"
    }
   ],
   "source": [
    "np.dot(x.T, y)[0, 0] # 함수를 이용한 벡터곱 내적 계산"
   ]
  },
  {
   "cell_type": "markdown",
   "metadata": {},
   "source": [
    "넘파이에서는 1차원 배열끼리도 내적을 계산할 수 있습니다."
   ]
  },
  {
   "cell_type": "code",
   "execution_count": 45,
   "metadata": {},
   "outputs": [],
   "source": [
    "# 넘파이에서 열벡터가 아니어도 벡터곱 내적을 계산 될수있도록 지원 하고 있다.\n",
    "x = np.array([1, 2, 3])\n",
    "y = np.array([4, 5, 6])"
   ]
  },
  {
   "cell_type": "code",
   "execution_count": 47,
   "metadata": {},
   "outputs": [
    {
     "data": {
      "text/plain": [
       "32"
      ]
     },
     "execution_count": 47,
     "metadata": {},
     "output_type": "execute_result"
    }
   ],
   "source": [
    "x @ y # 의미론적으로 정확한 상황은 아니다. => 편의성으로 지원 해 주는 기능!!!"
   ]
  },
  {
   "cell_type": "markdown",
   "metadata": {},
   "source": [
    "#### 벡터의 내적을 이용한 가중합"
   ]
  },
  {
   "cell_type": "markdown",
   "metadata": {},
   "source": [
    "데이터 벡터 $x=[x_{1}, \\cdots, x_{n}]^{T}$이고, 가중치 벡터 $w=[w_{1}. \\cdots, w_{n}]^{T}$이면 데이터의 가중합은 다음과 같습니다.<br><br>\n",
    "$w_{1}x_{1}+ \\cdots +w_{n}x_{n}=\\sum_{i=1}^{n}w_{i}x_{i}$<br><br>\n",
    "$\\sum_{i=1}^{n}w_{i}x_{i}=\\begin{bmatrix}w_{1} & w_{2} & \\cdots & w_{n}\\end{bmatrix}\\begin{bmatrix}x_{1}\\\\x_{2}\\\\ \\vdots \\\\ x_{n}\\end{bmatrix}=w^{T}x$<br><br>\n",
    "$\\qquad\\qquad=\\begin{bmatrix}x_{1} & x_{2} & \\cdots & x_{n}\\end{bmatrix}\\begin{bmatrix}w_{1}\\\\w_{2}\\\\ \\vdots \\\\ w_{n}\\end{bmatrix}=x^{T}w$<br><br>"
   ]
  },
  {
   "cell_type": "markdown",
   "metadata": {},
   "source": [
    "마트A에서 식재료를 구입할 경우 재석이 지불해야 될 금액은?"
   ]
  },
  {
   "cell_type": "code",
   "execution_count": 48,
   "metadata": {},
   "outputs": [
    {
     "data": {
      "text/plain": [
       "array([ 500,  400,  500, 1000])"
      ]
     },
     "execution_count": 48,
     "metadata": {},
     "output_type": "execute_result"
    }
   ],
   "source": [
    "# price1_0 = price1.iloc[0, :].values\n",
    "price1_0 = price1.iloc[0, :].to_numpy()\n",
    "price1_0"
   ]
  },
  {
   "cell_type": "code",
   "execution_count": 49,
   "metadata": {},
   "outputs": [
    {
     "data": {
      "text/plain": [
       "array([2, 4, 4, 2])"
      ]
     },
     "execution_count": 49,
     "metadata": {},
     "output_type": "execute_result"
    }
   ],
   "source": [
    "# qty_0 = qty.iloc[0, :].values\n",
    "qty_0 = qty.iloc[0, :].to_numpy()\n",
    "qty_0"
   ]
  },
  {
   "cell_type": "code",
   "execution_count": 53,
   "metadata": {},
   "outputs": [
    {
     "data": {
      "text/plain": [
       "6600"
      ]
     },
     "execution_count": 53,
     "metadata": {},
     "output_type": "execute_result"
    }
   ],
   "source": [
    "price1_0 @ qty_0 # 넘파이에서는 1차원 배열끼리도 내적을 계산할 수 있습니다. 편의 기능 일 뿐!!!"
   ]
  },
  {
   "cell_type": "code",
   "execution_count": 56,
   "metadata": {},
   "outputs": [
    {
     "data": {
      "text/plain": [
       "6600"
      ]
     },
     "execution_count": 56,
     "metadata": {},
     "output_type": "execute_result"
    }
   ],
   "source": [
    "#    열벡터              T행벡터 변환  열벡터\n",
    "(price1_0.reshape(-1, 1).T @ qty_0.reshape(-1, 1))[0, 0] #<= 이 형식이 FM 표현 방법임"
   ]
  },
  {
   "cell_type": "markdown",
   "metadata": {},
   "source": [
    "#### 벡터의 내적을 이용한 가중평균"
   ]
  },
  {
   "cell_type": "markdown",
   "metadata": {},
   "source": [
    "데이터 벡터 $x=[x_{1}, \\cdots, x_{n}]^{T}$이고, 가중치 벡터 $w=[w_{1}. \\cdots, w_{n}]^{T}$이면 데이터의 가중평균은 다음과 같습니다.<br><br>\n",
    "$\\frac{w_{1}}{w_{1}+\\cdots+w_{n}}x_{1}+ \\cdots +\\frac{w_{n}}{w_{1}+\\cdots+w_{n}}x_{n}=\\sum_{i=1}^{n}\\frac{w_{n}}{w_{1}+\\cdots+w_{n}}x_{i}$<br><br>\n",
    "$\\sum_{i=1}^{n}\\frac{w_{n}}{w_{1}+\\cdots+w_{n}}x_{i}=\\begin{bmatrix}\\frac{w_{1}}{w_{1}+\\cdots+w_{n}} & \\frac{w_{2}}{w_{1}+\\cdots+w_{n}} & \\cdots & \\frac{w_{n}}{w_{1}+\\cdots+w_{n}}\\end{bmatrix}\\begin{bmatrix}x_{1}\\\\x_{2}\\\\ \\vdots \\\\ x_{n}\\end{bmatrix}$<br><br>"
   ]
  },
  {
   "cell_type": "code",
   "execution_count": 57,
   "metadata": {},
   "outputs": [],
   "source": [
    "#             가중치           데이터"
   ]
  },
  {
   "cell_type": "markdown",
   "metadata": {},
   "source": [
    "#### 벡터의 내적을 이용한 유사도(Similarity)"
   ]
  },
  {
   "cell_type": "markdown",
   "metadata": {},
   "source": [
    "유사도는 두 벡터가 닮은 정도를 정량적으로 나타낸 값으로,   \n",
    "두 벡터가 비슷한 경우에는 유사도가 커지고 비슷하지 않은 경우에는 유사도가 작아집니다.  \n",
    "얼만큼 유사 한지 따지는 지수는 아니다. 상대적인 값임, 코사인 유사도 0~1 사이 값으로 측정 하는 방법이 있음"
   ]
  },
  {
   "cell_type": "code",
   "execution_count": 62,
   "metadata": {},
   "outputs": [
    {
     "data": {
      "image/png": "[encoded data removed]",
      "text/plain": [
       "<Figure size 648x648 with 8 Axes>"
      ]
     },
     "metadata": {},
     "output_type": "display_data"
    }
   ],
   "source": [
    "from sklearn.datasets import load_digits\n",
    "import matplotlib.gridspec as gridspec\n",
    "\n",
    "digits = load_digits()\n",
    "d1 = digits.images[0]  # 0 이미지, 2차원 데이터\n",
    "d2 = digits.images[10] # 0 이미지\n",
    "d3 = digits.images[1]  # 1 이미지\n",
    "d4 = digits.images[11] # 1 이미지\n",
    "v1 = d1.reshape(64, 1) # 열벡터로 변환\n",
    "v2 = d2.reshape(64, 1)\n",
    "v3 = d3.reshape(64, 1)\n",
    "v4 = d4.reshape(64, 1)\n",
    "\n",
    "plt.figure(figsize=(9, 9))\n",
    "gs = gridspec.GridSpec(1, 8, height_ratios=[1],\n",
    "                       width_ratios=[9, 1, 9, 1, 9, 1, 9, 1])\n",
    "for i in range(4):\n",
    "    plt.subplot(gs[2 * i])\n",
    "    plt.imshow(eval(\"d\" + str(i + 1)), aspect=1, cmap=plt.cm.bone_r)\n",
    "    plt.grid(False)\n",
    "    plt.xticks([])\n",
    "    plt.yticks([])\n",
    "    plt.title(\"image {}\".format(i + 1))\n",
    "    plt.subplot(gs[2 * i + 1])\n",
    "    plt.imshow(eval(\"v\" + str(i + 1)), aspect=0.25, cmap=plt.cm.bone_r)\n",
    "    plt.grid(False)\n",
    "    plt.xticks([])\n",
    "    plt.yticks([])\n",
    "    plt.title(\"vector {}\".format(i + 1))\n",
    "plt.tight_layout()\n",
    "plt.show()"
   ]
  },
  {
   "cell_type": "code",
   "execution_count": 63,
   "metadata": {
    "scrolled": true
   },
   "outputs": [
    {
     "data": {
      "text/plain": [
       "(3064.0, 3661.0)"
      ]
     },
     "execution_count": 63,
     "metadata": {},
     "output_type": "execute_result"
    }
   ],
   "source": [
    "(v1.T @ v2)[0][0], (v3.T @ v4)[0][0] # 0과 0 이미지와 1과 1 이미지의 내적값"
   ]
  },
  {
   "cell_type": "code",
   "execution_count": 64,
   "metadata": {},
   "outputs": [
    {
     "data": {
      "text/plain": [
       "(1866.0, 1883.0, 2421.0, 2479.0)"
      ]
     },
     "execution_count": 64,
     "metadata": {},
     "output_type": "execute_result"
    }
   ],
   "source": [
    "(v1.T @ v3)[0][0], (v1.T @ v4)[0][0], (v2.T @ v3)[0][0], (v2.T @ v4)[0][0] # 0과 1 이미지와 1과 0 이미지의 내적값은 상대적으로 작음 "
   ]
  },
  {
   "cell_type": "markdown",
   "metadata": {},
   "source": [
    "#### 벡터의 내적을 이용한 제곱합"
   ]
  },
  {
   "cell_type": "markdown",
   "metadata": {},
   "source": [
    "데이터의 분산 또는 표준편차를 구하는 경우 각각의 데이터에서 평균을 뺀 값을 제곱한 후 이를 모두 더한 제곱합을 계산하는데 이 때도 벡터의 내적을 사용합니다.<br><br>\n",
    "$(x-m)^{T}(x-m)=\\begin{bmatrix}x_{1}-m & x_{2}-m & \\cdots x_{n}-m\\end{bmatrix} \\begin{bmatrix}x_{1}-m \\\\ x_{2}-m \\\\ \\vdots \\\\ x_{n}-m\\end{bmatrix}=\\sum_{i=1}^{n}(x_{i}-m)^{2}$"
   ]
  },
  {
   "cell_type": "markdown",
   "metadata": {},
   "source": [
    "### 1.2.5 행렬의 곱셈"
   ]
  },
  {
   "cell_type": "markdown",
   "metadata": {},
   "source": [
    "$A=(a_{ij})$는 $m \\times p$ 행렬, $B=(b_{ij})$는 $p \\times n$ 행렬이라 할 때, 두 행렬의 곱 $AB=(c_{ij})$는 $m \\times n$ 행렬이고 $c_{ij}$는 다음을 만족합니다.<br><br>\n",
    "$c_{ij}=a_{i1}b_{1j}+a_{i2}b_{2j}\\cdots +a_{ip}b_{pj}= \\sum_{k=1}^{p} a_{ik}b_{kj}\\hspace{1cm}(1\\le i\\le m, 1\\le j\\le n)$<br>"
   ]
  },
  {
   "cell_type": "code",
   "execution_count": 59,
   "metadata": {},
   "outputs": [],
   "source": [
    "# cij는 성분(i,j)에 위치하는 성분, a는 열이 바뀌고 b는 행이 바뀌고 있다"
   ]
  },
  {
   "cell_type": "code",
   "execution_count": 65,
   "metadata": {},
   "outputs": [],
   "source": [
    "A = np.array([[1, 2, 3], [4, 5, 6]])\n",
    "B = np.array([[1, 2], [3, 4], [5, 6]])"
   ]
  },
  {
   "cell_type": "code",
   "execution_count": 66,
   "metadata": {},
   "outputs": [
    {
     "data": {
      "text/plain": [
       "array([[1, 2, 3],\n",
       "       [4, 5, 6]])"
      ]
     },
     "execution_count": 66,
     "metadata": {},
     "output_type": "execute_result"
    }
   ],
   "source": [
    "A"
   ]
  },
  {
   "cell_type": "code",
   "execution_count": 67,
   "metadata": {},
   "outputs": [
    {
     "data": {
      "text/plain": [
       "array([[1, 2],\n",
       "       [3, 4],\n",
       "       [5, 6]])"
      ]
     },
     "execution_count": 67,
     "metadata": {},
     "output_type": "execute_result"
    }
   ],
   "source": [
    "B"
   ]
  },
  {
   "cell_type": "code",
   "execution_count": 61,
   "metadata": {},
   "outputs": [],
   "source": [
    "# A = 2x3, B = 3x2 => 2x2로 계산된다.\n",
    "# 앞의 행벡터의 길이와 뒤의 열벡터의 길이가 같이 안으면 행렬곱이 이루어 지지 않는다."
   ]
  },
  {
   "cell_type": "code",
   "execution_count": 68,
   "metadata": {},
   "outputs": [
    {
     "data": {
      "text/plain": [
       "array([[22, 28],\n",
       "       [49, 64]])"
      ]
     },
     "execution_count": 68,
     "metadata": {},
     "output_type": "execute_result"
    }
   ],
   "source": [
    "C = A @ B\n",
    "C"
   ]
  },
  {
   "cell_type": "markdown",
   "metadata": {},
   "source": [
    "마트A, 마트B, 마트C에서 재석과 세호가 식재료를 구입할 때 드는 비용은?"
   ]
  },
  {
   "cell_type": "code",
   "execution_count": 69,
   "metadata": {
    "scrolled": true
   },
   "outputs": [
    {
     "data": {
      "text/html": [
       "<div>\n",
       "<style scoped>\n",
       "    .dataframe tbody tr th:only-of-type {\n",
       "        vertical-align: middle;\n",
       "    }\n",
       "\n",
       "    .dataframe tbody tr th {\n",
       "        vertical-align: top;\n",
       "    }\n",
       "\n",
       "    .dataframe thead th {\n",
       "        text-align: right;\n",
       "    }\n",
       "</style>\n",
       "<table border=\"1\" class=\"dataframe\">\n",
       "  <thead>\n",
       "    <tr style=\"text-align: right;\">\n",
       "      <th></th>\n",
       "      <th>감자</th>\n",
       "      <th>고구마</th>\n",
       "      <th>시금치</th>\n",
       "      <th>배추</th>\n",
       "    </tr>\n",
       "  </thead>\n",
       "  <tbody>\n",
       "    <tr>\n",
       "      <th>마트A</th>\n",
       "      <td>500</td>\n",
       "      <td>400</td>\n",
       "      <td>500</td>\n",
       "      <td>1000</td>\n",
       "    </tr>\n",
       "    <tr>\n",
       "      <th>마트B</th>\n",
       "      <td>700</td>\n",
       "      <td>500</td>\n",
       "      <td>400</td>\n",
       "      <td>1200</td>\n",
       "    </tr>\n",
       "    <tr>\n",
       "      <th>마트C</th>\n",
       "      <td>600</td>\n",
       "      <td>700</td>\n",
       "      <td>600</td>\n",
       "      <td>1300</td>\n",
       "    </tr>\n",
       "  </tbody>\n",
       "</table>\n",
       "</div>"
      ],
      "text/plain": [
       "      감자  고구마  시금치    배추\n",
       "마트A  500  400  500  1000\n",
       "마트B  700  500  400  1200\n",
       "마트C  600  700  600  1300"
      ]
     },
     "execution_count": 69,
     "metadata": {},
     "output_type": "execute_result"
    }
   ],
   "source": [
    "price1 # 3x4"
   ]
  },
  {
   "cell_type": "code",
   "execution_count": 70,
   "metadata": {},
   "outputs": [
    {
     "data": {
      "text/html": [
       "<div>\n",
       "<style scoped>\n",
       "    .dataframe tbody tr th:only-of-type {\n",
       "        vertical-align: middle;\n",
       "    }\n",
       "\n",
       "    .dataframe tbody tr th {\n",
       "        vertical-align: top;\n",
       "    }\n",
       "\n",
       "    .dataframe thead th {\n",
       "        text-align: right;\n",
       "    }\n",
       "</style>\n",
       "<table border=\"1\" class=\"dataframe\">\n",
       "  <thead>\n",
       "    <tr style=\"text-align: right;\">\n",
       "      <th></th>\n",
       "      <th>감자</th>\n",
       "      <th>고구마</th>\n",
       "      <th>시금치</th>\n",
       "      <th>배추</th>\n",
       "    </tr>\n",
       "  </thead>\n",
       "  <tbody>\n",
       "    <tr>\n",
       "      <th>재석</th>\n",
       "      <td>2</td>\n",
       "      <td>4</td>\n",
       "      <td>4</td>\n",
       "      <td>2</td>\n",
       "    </tr>\n",
       "    <tr>\n",
       "      <th>세호</th>\n",
       "      <td>3</td>\n",
       "      <td>5</td>\n",
       "      <td>3</td>\n",
       "      <td>1</td>\n",
       "    </tr>\n",
       "  </tbody>\n",
       "</table>\n",
       "</div>"
      ],
      "text/plain": [
       "    감자  고구마  시금치  배추\n",
       "재석   2    4    4   2\n",
       "세호   3    5    3   1"
      ]
     },
     "execution_count": 70,
     "metadata": {},
     "output_type": "execute_result"
    }
   ],
   "source": [
    "qty # 2x4"
   ]
  },
  {
   "cell_type": "code",
   "execution_count": 62,
   "metadata": {},
   "outputs": [],
   "source": [
    "# 3x4, 2x4 기본적으로 길이가 안 맞아 행렬곱이 안돼지만 전치를 이용해서 행렬곱을 행 할 수 있다."
   ]
  },
  {
   "cell_type": "code",
   "execution_count": 71,
   "metadata": {},
   "outputs": [
    {
     "data": {
      "text/html": [
       "<div>\n",
       "<style scoped>\n",
       "    .dataframe tbody tr th:only-of-type {\n",
       "        vertical-align: middle;\n",
       "    }\n",
       "\n",
       "    .dataframe tbody tr th {\n",
       "        vertical-align: top;\n",
       "    }\n",
       "\n",
       "    .dataframe thead th {\n",
       "        text-align: right;\n",
       "    }\n",
       "</style>\n",
       "<table border=\"1\" class=\"dataframe\">\n",
       "  <thead>\n",
       "    <tr style=\"text-align: right;\">\n",
       "      <th></th>\n",
       "      <th>재석</th>\n",
       "      <th>세호</th>\n",
       "    </tr>\n",
       "  </thead>\n",
       "  <tbody>\n",
       "    <tr>\n",
       "      <th>마트A</th>\n",
       "      <td>6600</td>\n",
       "      <td>6000</td>\n",
       "    </tr>\n",
       "    <tr>\n",
       "      <th>마트B</th>\n",
       "      <td>7400</td>\n",
       "      <td>7000</td>\n",
       "    </tr>\n",
       "    <tr>\n",
       "      <th>마트C</th>\n",
       "      <td>9000</td>\n",
       "      <td>8400</td>\n",
       "    </tr>\n",
       "  </tbody>\n",
       "</table>\n",
       "</div>"
      ],
      "text/plain": [
       "       재석    세호\n",
       "마트A  6600  6000\n",
       "마트B  7400  7000\n",
       "마트C  9000  8400"
      ]
     },
     "execution_count": 71,
     "metadata": {},
     "output_type": "execute_result"
    }
   ],
   "source": [
    "price1 @ qty.T # np.dot(price1, qty.T),  np.transpose(qty)"
   ]
  },
  {
   "cell_type": "markdown",
   "metadata": {},
   "source": [
    "행렬의 곱셈에 대해 다음의 법칙이 성립합니다. (**교환법칙은 성립하지 않습니다**. $AB \\neq BA$)<br><br>\n",
    "(1) 곱셈의 **결합법칙**: $(AB)C=A(BC)$<br>\n",
    "(2) 곱셈의 **분배법칙**: $A(B+C)=AB+AC, (A+B)C = AC + BC$<br>"
   ]
  },
  {
   "cell_type": "code",
   "execution_count": 64,
   "metadata": {},
   "outputs": [],
   "source": [
    "A = np.array([[1, 2], [3, 4]])\n",
    "B = np.array([[5, 6], [7, 8]])\n",
    "C = np.array([[9, 10], [11, 12]])"
   ]
  },
  {
   "cell_type": "code",
   "execution_count": 73,
   "metadata": {
    "scrolled": true
   },
   "outputs": [
    {
     "data": {
      "text/plain": [
       "array([[19, 22],\n",
       "       [43, 50]])"
      ]
     },
     "execution_count": 73,
     "metadata": {},
     "output_type": "execute_result"
    }
   ],
   "source": [
    "A @ B"
   ]
  },
  {
   "cell_type": "code",
   "execution_count": 74,
   "metadata": {},
   "outputs": [
    {
     "data": {
      "text/plain": [
       "array([[23, 34],\n",
       "       [31, 46]])"
      ]
     },
     "execution_count": 74,
     "metadata": {},
     "output_type": "execute_result"
    }
   ],
   "source": [
    "B @ A"
   ]
  },
  {
   "cell_type": "code",
   "execution_count": 75,
   "metadata": {
    "scrolled": true
   },
   "outputs": [
    {
     "data": {
      "text/plain": [
       "array([[ 50,  56],\n",
       "       [114, 128]])"
      ]
     },
     "execution_count": 75,
     "metadata": {},
     "output_type": "execute_result"
    }
   ],
   "source": [
    "A @ (B + C)"
   ]
  },
  {
   "cell_type": "code",
   "execution_count": 76,
   "metadata": {},
   "outputs": [
    {
     "data": {
      "text/plain": [
       "array([[ 50,  56],\n",
       "       [114, 128]])"
      ]
     },
     "execution_count": 76,
     "metadata": {},
     "output_type": "execute_result"
    }
   ],
   "source": [
    "A @ B + A @ C"
   ]
  },
  {
   "cell_type": "code",
   "execution_count": 77,
   "metadata": {},
   "outputs": [
    {
     "data": {
      "text/plain": [
       "array([[142, 156],\n",
       "       [222, 244]])"
      ]
     },
     "execution_count": 77,
     "metadata": {},
     "output_type": "execute_result"
    }
   ],
   "source": [
    "(A + B) @ C"
   ]
  },
  {
   "cell_type": "code",
   "execution_count": 78,
   "metadata": {},
   "outputs": [
    {
     "data": {
      "text/plain": [
       "array([[142, 156],\n",
       "       [222, 244]])"
      ]
     },
     "execution_count": 78,
     "metadata": {},
     "output_type": "execute_result"
    }
   ],
   "source": [
    "A @ C + B @ C"
   ]
  },
  {
   "cell_type": "code",
   "execution_count": 65,
   "metadata": {
    "scrolled": true
   },
   "outputs": [
    {
     "data": {
      "text/plain": [
       "array([[19, 43],\n",
       "       [22, 50]])"
      ]
     },
     "execution_count": 65,
     "metadata": {},
     "output_type": "execute_result"
    }
   ],
   "source": [
    "(A @ B).T # 전치연산과 곱셈의 경우 분배법칙이 성립하나 곱셈의 순서가 바뀐다는 점에 주의\n",
    "# 행렬 합일때는 A.T + B.T 였으나 곱셈에서는 순서가 바뀐다는 점!!!"
   ]
  },
  {
   "cell_type": "code",
   "execution_count": 80,
   "metadata": {},
   "outputs": [
    {
     "data": {
      "text/plain": [
       "array([[19, 43],\n",
       "       [22, 50]])"
      ]
     },
     "execution_count": 80,
     "metadata": {},
     "output_type": "execute_result"
    }
   ],
   "source": [
    "B.T @ A.T "
   ]
  },
  {
   "cell_type": "code",
   "execution_count": 67,
   "metadata": {},
   "outputs": [
    {
     "data": {
      "text/plain": [
       "array([[23, 31],\n",
       "       [34, 46]])"
      ]
     },
     "execution_count": 67,
     "metadata": {},
     "output_type": "execute_result"
    }
   ],
   "source": [
    "A.T @ B.T # 순서를 안바꾸면 결과가 틀려 진다!!!"
   ]
  },
  {
   "cell_type": "markdown",
   "metadata": {},
   "source": [
    "### 1.2.5 특수한 벡터와 행렬"
   ]
  },
  {
   "cell_type": "markdown",
   "metadata": {},
   "source": [
    "#### 영벡터, 영행렬"
   ]
  },
  {
   "cell_type": "markdown",
   "metadata": {},
   "source": [
    "모든 성분이 0인 벡터와 행렬을 영벡터, 영행렬이라 부릅니다.<br><br>\n",
    "$\\begin{bmatrix}0 \\\\ 0\\end{bmatrix}$,\n",
    "$\\begin{bmatrix}0 & 0\\\\0 & 0\\end{bmatrix}$,\n",
    "$\\begin{bmatrix}0 & 0\\\\0 & 0\\\\0 & 0\\end{bmatrix}$,\n",
    "$\\begin{bmatrix}0 & 0 & 0\\\\0 & 0 & 0\\\\0 & 0 & 0\\end{bmatrix}$"
   ]
  },
  {
   "cell_type": "code",
   "execution_count": 81,
   "metadata": {
    "scrolled": true
   },
   "outputs": [
    {
     "data": {
      "text/plain": [
       "array([[0.],\n",
       "       [0.],\n",
       "       [0.]])"
      ]
     },
     "execution_count": 81,
     "metadata": {},
     "output_type": "execute_result"
    }
   ],
   "source": [
    "np.zeros((3, 1)) # 영벡터 생성"
   ]
  },
  {
   "cell_type": "markdown",
   "metadata": {},
   "source": [
    "#### 일벡터, 일행렬"
   ]
  },
  {
   "cell_type": "markdown",
   "metadata": {},
   "source": [
    "모든 성분이 1인 벡터와 행렬을 일벡터, 일행렬이라 부릅니다.<br><br>\n",
    "$\\begin{bmatrix}1 \\\\ 1\\end{bmatrix}$,\n",
    "$\\begin{bmatrix}1 & 1\\\\1 & 1\\end{bmatrix}$,\n",
    "$\\begin{bmatrix}1 & 1\\\\1 & 1\\\\1 & 1\\end{bmatrix}$,\n",
    "$\\begin{bmatrix}1 & 1 & 1\\\\1 & 1 & 1\\\\1 & 1 & 1\\end{bmatrix}$"
   ]
  },
  {
   "cell_type": "code",
   "execution_count": 82,
   "metadata": {},
   "outputs": [
    {
     "data": {
      "text/plain": [
       "array([[1.],\n",
       "       [1.],\n",
       "       [1.]])"
      ]
     },
     "execution_count": 82,
     "metadata": {},
     "output_type": "execute_result"
    }
   ],
   "source": [
    "np.ones((3, 1)) # 일벡터 생성"
   ]
  },
  {
   "cell_type": "markdown",
   "metadata": {},
   "source": [
    "#### 대각행렬"
   ]
  },
  {
   "cell_type": "markdown",
   "metadata": {},
   "source": [
    "모든 비대각 성분이 0인 행렬을 대각행렬이라 부릅니다. 이 때 대각 성분은 0이든 아니든 상관이 없으며 반드시 정방행렬일 필요 또한 없습니다.<br><br>\n",
    "$\\begin{bmatrix}d_{1} & 0\\\\0 & d_{2}\\end{bmatrix}$,\n",
    "$\\begin{bmatrix}d_{1} & 0\\\\0 & d_{2}\\\\0 & 0\\end{bmatrix}$,\n",
    "$\\begin{bmatrix}d_{1} & 0 & 0\\\\0 & d_{2} & 0\\\\0 & 0 & d_{3}\\end{bmatrix}$"
   ]
  },
  {
   "cell_type": "code",
   "execution_count": 83,
   "metadata": {
    "school_cell_uuid": "31b719cb654a4b24ad9668cc69e61e06",
    "scrolled": true
   },
   "outputs": [
    {
     "data": {
      "text/plain": [
       "array([[1, 0, 0],\n",
       "       [0, 2, 0],\n",
       "       [0, 0, 3]])"
      ]
     },
     "execution_count": 83,
     "metadata": {},
     "output_type": "execute_result"
    }
   ],
   "source": [
    "np.diag([1, 2, 3]) # 대각 정방행렬을 생성"
   ]
  },
  {
   "cell_type": "markdown",
   "metadata": {},
   "source": [
    "#### 항등행렬"
   ]
  },
  {
   "cell_type": "markdown",
   "metadata": {},
   "source": [
    "대각행렬 중 모든 대각성분이 1인 대각행렬을 항등행렬이라고 하며, 다음을 만족하는 정사각행렬 $I$을 항등행렬(identity matrix)이라 정의합니다.<br><br>\n",
    "$I=\\begin{bmatrix}\n",
    "1 & 0 & \\cdots & 0\\\\\n",
    "0 & 1 & \\cdots & 0\\\\\n",
    "\\vdots & \\vdots & \\ddots & \\vdots \\\\\n",
    "0 & 0 & \\cdots & 1\n",
    "\\end{bmatrix}$<br><br>\n",
    "행렬 $A$와 항등행렬 $I$사이에는 $AI=IA=A$가 성립합니다."
   ]
  },
  {
   "cell_type": "code",
   "execution_count": 68,
   "metadata": {},
   "outputs": [],
   "source": [
    "# 항등행렬은 곱셈에 대한 항등원이 성립 한다."
   ]
  },
  {
   "cell_type": "code",
   "execution_count": 84,
   "metadata": {
    "school_cell_uuid": "a7ccde9759da483cb0de2d00d727501e",
    "scrolled": true
   },
   "outputs": [
    {
     "data": {
      "text/plain": [
       "array([[1., 0., 0.],\n",
       "       [0., 1., 0.],\n",
       "       [0., 0., 1.]])"
      ]
     },
     "execution_count": 84,
     "metadata": {},
     "output_type": "execute_result"
    }
   ],
   "source": [
    "np.identity(3)"
   ]
  },
  {
   "cell_type": "code",
   "execution_count": 85,
   "metadata": {
    "school_cell_uuid": "53ddcb3245394dc39475ebb5bb056dcd"
   },
   "outputs": [
    {
     "data": {
      "text/plain": [
       "array([[1., 0., 0., 0.],\n",
       "       [0., 1., 0., 0.],\n",
       "       [0., 0., 1., 0.],\n",
       "       [0., 0., 0., 1.]])"
      ]
     },
     "execution_count": 85,
     "metadata": {},
     "output_type": "execute_result"
    }
   ],
   "source": [
    "np.eye(4)"
   ]
  },
  {
   "cell_type": "markdown",
   "metadata": {},
   "source": [
    "행렬 $A=\\begin{bmatrix}1 & 3\\\\2 & -1\\end{bmatrix}$ 와 $I=\\begin{bmatrix}1 & 0\\\\0 & 1\\end{bmatrix}$ 의 $AI$와 $IA$는?"
   ]
  },
  {
   "cell_type": "code",
   "execution_count": 69,
   "metadata": {},
   "outputs": [],
   "source": [
    "# 곱셈행렬에서 항등이 성립이 안돼나 항등행렬에서는 예외로 성립이 됀다"
   ]
  },
  {
   "cell_type": "code",
   "execution_count": 86,
   "metadata": {},
   "outputs": [],
   "source": [
    "A = np.array([[1, 3], [2, -1]])\n",
    "I = np.array([[1, 0], [0, 1]])"
   ]
  },
  {
   "cell_type": "code",
   "execution_count": 87,
   "metadata": {},
   "outputs": [
    {
     "data": {
      "text/plain": [
       "array([[ 1,  3],\n",
       "       [ 2, -1]])"
      ]
     },
     "execution_count": 87,
     "metadata": {},
     "output_type": "execute_result"
    }
   ],
   "source": [
    "A @ I"
   ]
  },
  {
   "cell_type": "code",
   "execution_count": 88,
   "metadata": {
    "scrolled": true
   },
   "outputs": [
    {
     "data": {
      "text/plain": [
       "array([[ 1,  3],\n",
       "       [ 2, -1]])"
      ]
     },
     "execution_count": 88,
     "metadata": {},
     "output_type": "execute_result"
    }
   ],
   "source": [
    "I @ A"
   ]
  },
  {
   "cell_type": "markdown",
   "metadata": {},
   "source": [
    "### 1.2.6 선형조합(linear combination)"
   ]
  },
  {
   "cell_type": "markdown",
   "metadata": {},
   "source": [
    "벡터와 행렬에 스칼라 값을 곱한 후 더하거나 뺀 것을 벡터/행렬의 선형조합이라고 합니다. 벡터나 행렬을 선형조합해도 크기는 변하지 않습니다.<br><br>\n",
    "$c_{1}x_{1}+c_{2}x_{2}+\\cdots+c_{n}x_{n}=x$<br>\n",
    "$c_{1}A_{1}+c_{2}A_{2}+\\cdots+c_{n}A_{n}=A$"
   ]
  },
  {
   "cell_type": "markdown",
   "metadata": {},
   "source": [
    "#### 열 벡터의 선형조합"
   ]
  },
  {
   "cell_type": "markdown",
   "metadata": {},
   "source": [
    "행렬 $X$와 벡터 $w$의 곱은 행렬 $X$를 이루는 열 벡터 $c_{1}, c_{2}, \\cdots, c_{n}$에 곱하는 벡터 $w$의 각 성분 $w_{1}, w_{2}, \\cdots, w_{n}$으로 선형조합한 결과 벡터와 같습니다.<br><br>\n",
    "$Xw=\\begin{bmatrix}c_{1} & c_{2} & \\cdots & c_{n}\\end{bmatrix}\\begin{bmatrix}w_{1}\\\\w_{2}\\\\ \\vdots \\\\ w_{n}\\end{bmatrix}=w_{1}c_{1}+ \\cdots +w_{n}c_{n}$<br><br>"
   ]
  },
  {
   "cell_type": "markdown",
   "metadata": {},
   "source": [
    "두 이미지 벡터의 선형조합은 모핑(morphing)과 같은 효과를 제공합니다. "
   ]
  },
  {
   "cell_type": "code",
   "execution_count": 89,
   "metadata": {},
   "outputs": [
    {
     "data": {
      "image/png": "[encoded data removed]",
      "text/plain": [
       "<Figure size 432x288 with 3 Axes>"
      ]
     },
     "metadata": {},
     "output_type": "display_data"
    }
   ],
   "source": [
    "from sklearn.datasets import fetch_olivetti_faces\n",
    "\n",
    "faces = fetch_olivetti_faces()\n",
    "\n",
    "f, ax = plt.subplots(1, 3)\n",
    "\n",
    "ax[0].imshow(faces.images[6], cmap=plt.cm.bone)\n",
    "ax[0].grid(False)\n",
    "ax[0].set_xticks([])\n",
    "ax[0].set_yticks([])\n",
    "ax[0].set_title(\"image 1: $x_1$\")\n",
    "\n",
    "ax[1].imshow(faces.images[10], cmap=plt.cm.bone)\n",
    "ax[1].grid(False)\n",
    "ax[1].set_xticks([])\n",
    "ax[1].set_yticks([])\n",
    "ax[1].set_title(\"image 2: $x_2$\")\n",
    "\n",
    "new_face = 0.7 * faces.images[6] + 0.3 * faces.images[10]\n",
    "ax[2].imshow(new_face, cmap=plt.cm.bone)\n",
    "ax[2].grid(False)\n",
    "ax[2].set_xticks([])\n",
    "ax[2].set_yticks([])\n",
    "ax[2].set_title(\"image 3: $0.7x_1 + 0.3x_2$\")\n",
    "\n",
    "plt.show()"
   ]
  },
  {
   "cell_type": "markdown",
   "metadata": {},
   "source": [
    "벡터 하나의 가중합은 $w^{T}x$는 $x^{T}w$로 표시할 수 있습니다. (벡터는 교화법칙 성립)    \n",
    "그렇다면 선형회귀모델과 같이 여러 개의 벡터 $x_{1}, \\cdots, x_{n}$ 모두에 대해 예측 값 $y_{1}, \\cdots, y_{n}$를 한 번에 계산하고자 한다면 행렬 $X$를 사용해 $\\hat{y}=Xw$로 간단히 표시할 수 있습니다.<br><br>\n",
    "$\\hat{y}=\\begin{bmatrix}\\hat{y_{1}} \\\\ \\hat{y_{2}} \\\\ \\vdots \\\\ \\hat{y_{n}}\\end{bmatrix}\n",
    "        =\\begin{bmatrix}\n",
    "          w_{1}x_{11} + w_{2}x_{12} \\cdots + w_{n}x_{1n} \\\\\n",
    "          w_{1}x_{21} + w_{2}x_{22} \\cdots + w_{n}x_{2n} \\\\\n",
    "          \\qquad \\vdots \\\\\n",
    "          w_{1}x_{m1} + w_{2}x_{m2} \\cdots + w_{n}x_{mn} \\\\\n",
    "         \\end{bmatrix}\n",
    "        =\\begin{bmatrix}\n",
    "          x_{11} & x_{12} & \\cdots & x_{1n} \\\\\n",
    "          x_{21} & x_{22} & \\cdots & x_{2n} \\\\\n",
    "          \\vdots & \\vdots & \\ddots & \\vdots \\\\\n",
    "          x_{m1} & x_{m2} & \\cdots & x_{mn} \\\\\n",
    "         \\end{bmatrix}\n",
    "         \\begin{bmatrix}\n",
    "          w_{1} \\\\ w_{2} \\\\ \\vdots \\\\ w_{n}\n",
    "         \\end{bmatrix}\n",
    "        =\\begin{bmatrix}\n",
    "          x_{1}^{T} \\\\ x_{2}^{T} \\\\ \\vdots \\\\ x_{m}^{T}\n",
    "         \\end{bmatrix}\n",
    "         \\begin{bmatrix}\n",
    "          w_{1} \\\\ w_{2} \\\\ \\vdots \\\\ w_{n}\n",
    "         \\end{bmatrix}  \n",
    "        =Xw$"
   ]
  },
  {
   "cell_type": "markdown",
   "metadata": {
    "tags": []
   },
   "source": [
    "#### 잔차(Residuals)"
   ]
  },
  {
   "cell_type": "markdown",
   "metadata": {},
   "source": [
    "잔차란 선형회귀 모델에서 예측값 $\\hat{y_{i}}$과 실제값 $y_{i}$의 차이를 의미하며 모든 벡터에 대해 구하면 잔차 벡터 $e_{i}$가 됩니다.<br><br>\n",
    "$e_{i}=y_{i}-\\hat{y_{i}}=y_{i}-w^{T}x_{i}$<br><br>\n",
    "$e=\\begin{bmatrix}e_{1} \\\\ e_{2} \\\\ \\vdots \\\\ e_{m}\\end{bmatrix}\n",
    "  =\\begin{bmatrix}y_{1} \\\\ y_{2} \\\\ \\vdots \\\\ y_{m}\\end{bmatrix}-\n",
    "   \\begin{bmatrix}x_{1}^{T}w \\\\ x_{2}^{T}w \\\\ \\vdots \\\\ x_{m}^{T}w\\end{bmatrix}\n",
    "  =y-Xw$"
   ]
  },
  {
   "cell_type": "markdown",
   "metadata": {},
   "source": [
    "#### 잔차 제곱합(Residual Sum of Squares)"
   ]
  },
  {
   "cell_type": "markdown",
   "metadata": {},
   "source": [
    "잔차의 크기는 잔차 벡터의 각 원소를 제곱한 후 이를 모두 합한 잔차 제곱합을 이용해 구합니다.<br><br>\n",
    "$\\sum_{i=1}^{n}e_{i}^{2}=\\sum_{i=1}^{n}(y_{i}-w^{T}x_{i})^{2}=e^{T}e=(y-Xw)^{T}(y-Xw)=y^{T}y-y^{T}Xw-w^{T}X^{T}y+w^{T}X^{T}Xw$<br><br>"
   ]
  },
  {
   "cell_type": "markdown",
   "metadata": {},
   "source": [
    "#### 벡터의 이차형식(Quadratic Form)"
   ]
  },
  {
   "cell_type": "markdown",
   "metadata": {},
   "source": [
    "벡터의 이차형식이란 어떤 벡터와 정사각행렬이 '행벡터x정사각행렬x열벡터' 형식으로 되어있는 것을 말합니다.<br>\n",
    "위의 잔차 제곱합의 마지막 항 $w^{T}X^{T}Xw$에서 $X^{T}X$는 정방행렬이 되므로 이 정방행렬을 $A$라 하면 마지막항은 $w^{T}Aw$와 같은 형태가 됩니다.<br><br>\n",
    "$x^{T}Ax=\\begin{bmatrix}\n",
    "          x_{1} & x_{2} & \\cdots & x_{n}\n",
    "         \\end{bmatrix}\n",
    "         \\begin{bmatrix}\n",
    "          a_{11} & a_{12} & \\cdots & a_{1n} \\\\\n",
    "          a_{21} & a_{22} & \\cdots & a_{2n} \\\\\n",
    "          \\vdots & \\vdots & \\ddots & \\vdots \\\\\n",
    "          a_{n1} & a_{n2} & \\cdots & a_{nn}\n",
    "         \\end{bmatrix}\n",
    "         \\begin{bmatrix}\n",
    "          x_{1} \\\\ x_{2} \\\\ \\vdots \\\\ x_{n}\n",
    "         \\end{bmatrix}\n",
    "        =\\sum_{i=1}^{n}\\sum_{j=1}^{n}a_{ij}x_{i}x_{j}$<br><br>\n",
    "$i$, $j$에 대해 가능한 모든 쌍의 조합을 구한 다음 $i$, $j$에 해당하는 원소 $x_{i}$, $x_{j}$를 가중치 $a_{ij}$와 같이 곱한 값 $a_{ij}x_{i}x_{j}$의 총합이 됩니다."
   ]
  },
  {
   "cell_type": "code",
   "execution_count": 70,
   "metadata": {},
   "outputs": [],
   "source": [
    "# XtX 정방행렬\n",
    "# 행벡터 x 정방행렬 x 열벡터 = "
   ]
  },
  {
   "cell_type": "code",
   "execution_count": 72,
   "metadata": {},
   "outputs": [
    {
     "data": {
      "text/plain": [
       "array([1, 2, 3])"
      ]
     },
     "execution_count": 72,
     "metadata": {},
     "output_type": "execute_result"
    }
   ],
   "source": [
    "x = np.array([1, 2, 3])\n",
    "x"
   ]
  },
  {
   "cell_type": "code",
   "execution_count": 73,
   "metadata": {},
   "outputs": [
    {
     "data": {
      "text/plain": [
       "array([[1, 2, 3],\n",
       "       [4, 5, 6],\n",
       "       [7, 8, 9]])"
      ]
     },
     "execution_count": 73,
     "metadata": {},
     "output_type": "execute_result"
    }
   ],
   "source": [
    "A = np.arange(1, 10).reshape(3, 3)\n",
    "A"
   ]
  },
  {
   "cell_type": "code",
   "execution_count": 74,
   "metadata": {},
   "outputs": [
    {
     "data": {
      "text/plain": [
       "228"
      ]
     },
     "execution_count": 74,
     "metadata": {},
     "output_type": "execute_result"
    }
   ],
   "source": [
    "x.T @ A @ x # 결과가 스칼라로 변환 됀다. 벡터의 이차형식의 특징이다."
   ]
  },
  {
   "cell_type": "markdown",
   "metadata": {},
   "source": [
    "## 1.3 행렬의 특징"
   ]
  },
  {
   "cell_type": "markdown",
   "metadata": {},
   "source": [
    "### 1.3.1 노름(Norm)"
   ]
  },
  {
   "cell_type": "markdown",
   "metadata": {},
   "source": [
    "n차원의 공간에서 벡터 $x=(x_{1}, x_{2}, \\cdots, x_{n})$의 크기인 2-노름(2-norm)은 다음과 같이 정의합니다.<br><br>\n",
    "$\\lVert x \\rVert=\\lVert x \\rVert _{2}=\\sqrt{x_{1}^{2}+x_{1}^{2}+\\cdots+x_{n}^{2}}$<br><br>\n",
    "벡터의 노름에서 중요한 성질은 벡터의 노름의 제곱이 벡터의 제곱합과 같다는 것입니다.<br><br>\n",
    "$\\lVert x \\rVert^{2}=\\sum_{i=1}^{n}x_{i}^{2}=x^{T}x$<br><br>\n",
    "노름은 항상 0보다 크거나 같으므로 **노름을 최소화하**는 것은 **벡터의 제곱합을 최소화하**는 것과 같습니다.<br>\n",
    "**데이터 과학에서 2-노름은 주어진 알고리즘의 수렴 여부를 결정할 때 주로 사용합니다.** 인공지능의 많은 알고리즘에서 학습은 비용함수의 최솟값을 찾는 과정이고, 이 때 반복법을 이용해서 최솟값을 찾는 경우가 많습니다.<br><br>\n",
    "반복법은 초깃값을 $x_{0}$로부터 특정한 방향을 나타내는 벡터 열 $d_{n}$과 $n=0, 1, 2, \\cdots$에 대해 점화식 $x_{n+1}=x_{n}+\\eta d_{n}$(단, $\\eta$는 상수)로 주어진 함수를 최소로 만드는 $x$를 찾는 방법입니다. 여기서 특정한 방향 $d_{n}$은 주어진 함수가 감소하는 방향으로 설정합니다.<br><br>\n",
    "아래 그림과 같이 초깃값 $x_{0}$가 주어졌을 때, 함수의 최솟값은 $x_{0}$의 오른쪽에 있으므로 적절한 $\\eta$에 대해 오른쪽 방향으로 진행한 값을 $x_{1}$이라고 할 수 있습니다. 이와 같은 방법을 계속 진행하면 $x_{1}, x_{2}. \\cdots, x_{n}$을 얻을 수 있고, $x_{n}$과 $x_{n+1}$ 사이의 거리가 거의 없어지는 순간에 주어진 비용함수의 최솟값에 도달했다고 간주하고 반복을 멈춥니다. "
   ]
  },
  {
   "cell_type": "markdown",
   "metadata": {},
   "source": [
    "![반복법](./반복법.png)"
   ]
  },
  {
   "cell_type": "markdown",
   "metadata": {},
   "source": [
    "벡터 역시 행렬로 정의할 수 있으므로 모든 크기의 행렬에 대해서도 노름을 정의할 수 있습니다.\n",
    "행렬의 노름은 다음의 정의를 따릅니다.<br><br>\n",
    "$\\lVert A \\rVert=\\lVert A \\rVert _{2}=\\sqrt{\\sum_{i=1}^{n}\\sum_{j=1}^{m}a_{ij}^{2}}$<br><br>\n",
    "$n \\times m$의 행렬 $A$의 노름의 제곱 $\\lVert A \\rVert ^{2}$은 그 행렬을 이루는 행 벡터 $r_{i}$의 노름의 제곱 합 또는 열 벡터 $c_{j}$의 노름의 제곱 합과 같습니다.<br><br>\n",
    "$\\lVert A \\rVert^{2}=\\sum_{i=1}^{n}\\lVert r_{i} \\rVert ^{2}=\\sum_{j=1}^{m}\\lVert c_{j} \\rVert ^{2}$<br><br>"
   ]
  },
  {
   "cell_type": "code",
   "execution_count": 93,
   "metadata": {},
   "outputs": [
    {
     "data": {
      "text/plain": [
       "array([[-4, -3, -2],\n",
       "       [-1,  0,  1],\n",
       "       [ 2,  3,  4]])"
      ]
     },
     "execution_count": 93,
     "metadata": {},
     "output_type": "execute_result"
    }
   ],
   "source": [
    "A = (np.arange(9) - 4).reshape((3, 3))\n",
    "A"
   ]
  },
  {
   "cell_type": "code",
   "execution_count": 94,
   "metadata": {
    "scrolled": true
   },
   "outputs": [
    {
     "data": {
      "text/plain": [
       "7.745966692414834"
      ]
     },
     "execution_count": 94,
     "metadata": {},
     "output_type": "execute_result"
    }
   ],
   "source": [
    "np.linalg.norm(A)"
   ]
  },
  {
   "cell_type": "markdown",
   "metadata": {},
   "source": [
    "### 1.3.2 대각합(Trace)"
   ]
  },
  {
   "cell_type": "markdown",
   "metadata": {},
   "source": [
    "대각합은 정방행렬에 대해서만 정의되며, 대각원소의 합으로 계산됩니다.<br><br>\n",
    "$tr(A)=a_{11}+a_{22}+\\cdots+a_{nn}=\\sum_{i=1}^{n}a_{ii}$<br><br>\n",
    "$n$차원의 항등행렬의 대각합은 $n$입니다.<br><br>\n",
    "$tr(I_{n})=n$<br>"
   ]
  },
  {
   "cell_type": "markdown",
   "metadata": {},
   "source": [
    "행렬 $A, B, C$와 스칼라값 $c$에 대해서 대각합은 다음과 같은 특징을 가집니다.<br><br>\n",
    "$tr(cA)=c\\ tr(A)$<br>\n",
    "$tr(A^{T})=tr(A)$<br>\n",
    "$tr(A+B)=tr(A)+tr(B)$<br>\n",
    "$tr(AB)=tr(BA)$<br>\n",
    "$tr(ABC)=tr(BCA)=tr(CBA)$<br><br>\n",
    "마지막 공식을 트레이스 트릭(trace trick)이라고 하는데 이차형식의 트레이스 공식은 다음과 같습니다.<br><br> $tr(x^{T}Ax)=tr(Axx^{T})=tr(xx^{T}A)$<br><br>\n",
    "이차형식은 스칼라값이기 때문에 대각합을 취해도 원래의 값과 같습니다."
   ]
  },
  {
   "cell_type": "code",
   "execution_count": 95,
   "metadata": {},
   "outputs": [
    {
     "data": {
      "text/plain": [
       "3.0"
      ]
     },
     "execution_count": 95,
     "metadata": {},
     "output_type": "execute_result"
    }
   ],
   "source": [
    "np.trace(np.eye(3))"
   ]
  },
  {
   "cell_type": "markdown",
   "metadata": {},
   "source": [
    "### 1.3.3 역행렬(inverse matrix)과 행렬식(determinant)"
   ]
  },
  {
   "cell_type": "markdown",
   "metadata": {},
   "source": [
    "$n \\times n$ 정사각행렬 $A$에 대해 $AB=I_{n}=BA$를 만족하는 $n \\times n$ 정사각행렬 $B$가 존재할 때, $B$를 $A$의 역행렬이라고 합니다. 이때, $B$를 $A^{-1}$로 표기합니다.<br><br>\n",
    "$AA^{-1}=A^{-1}A=I_{n}$<br><br>\n",
    "모든 행렬에 역행렬이 존재하는 것은 아니며, 역행렬이 존재하는 행렬을 가역행렬(invertible/nonsingular matrix), 역행렬이 존재하지 않는 행렬을 비가역행렬(singular matrix)이라 합니다. 특히, 가역행렬은 정사각행렬에서만 정의할 수 있습니다. <br><br>\n",
    "$n \\times n$ 정사각행렬 $A, B$가 가역행렬이고 0이 아닌 실수 $c$와 음이 아닌 정수 $k$에 대해서 다음이 성립합니다.<br><br>\n",
    "(1) $(A^{-1})^{-1}=A$<br>\n",
    "(2) $(AB)^{-1}=B^{-1}A^{-1}$<br>\n",
    "(3) $(cA)^{-1}=\\frac{1}{c}A^{-1}$<br>\n",
    "(4) $(A^{k})^{-1}=(A^{-1})^{k}$<br><br>\n",
    "$2 \\times 2$ 정사각행렬 $A=\\begin{bmatrix}a & b \\\\ c & d \\end{bmatrix}$에 대하여 역행렬 $A^{-1}$는 다음과 같습니다.<br><br>\n",
    "$A^{-1}=\\frac{1}{ad-bc}\\begin{bmatrix}d & -b\\\\-c & a\\end{bmatrix}$<br><br>\n",
    "만약, $2 \\times 2$ 정사각행렬 $A$가 $ad-bc=0$을 만족하면 주어진 행렬 $A$의 역행렬은 존재하지 않습니다.<br>"
   ]
  },
  {
   "cell_type": "markdown",
   "metadata": {},
   "source": [
    "식 $ad-bc=0$와 같이 역행렬의 존재 유무를 결정하는 식을 행렬식이라고 합니다.<br>\n",
    "정사각행렬 $A$의 행렬식은 $det(A), detA, \\lvert A \\rvert$로 표기합니다. <br><br>\n",
    "$n \\times n$ 정사각행렬 $A$에 대하여 $A$의 $i$행과 $j$열을 제거해 얻은 행렬을 $A_{ij}$라 합시다. 예를 들면, <br><br>\n",
    "$A=\\begin{bmatrix}3 & -1 & -1 & 0 \\\\ -1 & 4 & 0 & -1 \\\\ -1 & 0 & 4 & -1 \\\\ 0 & -1 & -1 & 3 \\\\ \\end{bmatrix}$ 일 경우,<br><br>\n",
    "$A_{11}=\\begin{bmatrix}4 & 0 & -1 \\\\ 0 & 4 & -1 \\\\ -1 & -1 & 3 \\\\ \\end{bmatrix}$,\n",
    "$A_{23}=\\begin{bmatrix}3 & -1 & 0 \\\\ -1 & 0 & -1 \\\\ 0 & -1 & 3 \\\\ \\end{bmatrix}$<br><br>\n",
    "이렇게 정의한 $A_{ij}$를 이용한 행렬 $A$의 행렬식은 다음과 같이 정의됩니다.<br><br>\n",
    "$n \\times n$ 정사각행렬 $A=(a_{ij})$에 대하여 $A$의 행렬식 $detA$는 다음과 같이 정의됩니다.<br><br>\n",
    "$detA=\\sum_{j=1}^{n}(-1)^{i+j}detA_{ij}=\\sum_{i=1}^{n}(-1)^{i+j}detA_{ij}$<br><br>\n",
    "(단, $1 \\times 1$ 행렬 $A=[a]$의 행렬식은 $a$입니다.)<br><br>\n",
    "$(-1)^{i+j}detA_{ij}$를 행렬 $A$의 여인수(cofactor)라 부르며 $C_{ij}$로 표기하면<br><br>\n",
    "$detA=\\sum_{j=1}^{n}a_{ij}C_{ij}=\\sum_{i=1}^{n}a_{ij}C_{ij}$<br><br>\n",
    "행렬식에서 중요한 것은 임의의 행을 기준으로 계산을 해도, 임의의 열을 기준으로 계산을 해도 행렬식 $detA$의 값은 같다는 것입니다.<br>\n",
    "행렬식은 여인수와 성분을 곱한 다음 더하여 구하므로, 0이 많은 행 또는 열을 기준으로 계산하면 소거되는 항이 많아 계산하기 편리합니다."
   ]
  },
  {
   "cell_type": "markdown",
   "metadata": {},
   "source": [
    "행렬식의 정의를 바탕으로 $ad-bc$가 $2 \\times 2$ 행렬의 행렬식임을 확인해 봅시다.<br><br>\n",
    "행렬 $A$의 1행을 기준으로 행렬식을 전개해 봅니다.<br><br>\n",
    "$detA=\\sum_{j=1}^{2}a_{1j}(-1)^{1+j}detA_{1j}=adetA_{11}-bdetA_{12}=ad-bc$<br><br>\n",
    "따라서, $2 \\times 2$ 행렬 $A$의 행렬식 $detA$는 $ad-bc$입니다."
   ]
  },
  {
   "cell_type": "markdown",
   "metadata": {},
   "source": [
    "$3 \\times 3$ 행렬 $A=\\begin{bmatrix}8 & 1 & 6\\\\3 & 5 & 7\\\\4 & 9 & 2\\end{bmatrix}$ 의 행렬식 $detA$를 구해봅시다.<br><br>\n",
    "$detA=\\sum_{i=1}^{3}a_{i2}C_{i2}=(-1)^{1+2}1det\\begin{bmatrix}3 & 7\\\\4 & 2\\end{bmatrix}+(-1)^{2+2}5det\\begin{bmatrix}8 & 6\\\\3 & 7\\end{bmatrix}+(-1)^{3+2}9det\\begin{bmatrix}8 & 6\\\\3 & 7\\end{bmatrix}$<br><br>\n",
    "$= -1(-22)+5(-8)-9(38)$<br><br>\n",
    "$=-360$"
   ]
  },
  {
   "cell_type": "markdown",
   "metadata": {},
   "source": [
    "$n \\times n$ 가역행렬 $A=(a_{ij})$에 대하여 역행렬 $A^{-1}$는 다음과 같습니다.<br><br>\n",
    "$A^{-1}=\n",
    "\\frac{1}{detA}\n",
    "\\begin{bmatrix}\n",
    "C_{11} & C_{21} & \\cdots & C_{n1}\\\\\n",
    "C_{12} & C_{22} & \\cdots & C_{n2}\\\\\n",
    "\\vdots & \\vdots & \\ddots & \\vdots \\\\\n",
    "C_{1n} & C_{2n} & \\cdots & C_{nn}\n",
    "\\end{bmatrix}$<br><br>\n",
    "여기서 $C_{ij}$는 행렬 $A$의 (i, j)번째 여인자이고, $detA$는 $A$의 행렬식입니다."
   ]
  },
  {
   "cell_type": "code",
   "execution_count": 75,
   "metadata": {},
   "outputs": [],
   "source": [
    "# 행렬에서 나눗셈 연산은 할 수 없다. -> 역행렬을 사용(역행렬에 필요 한 것은 행렬식이다)"
   ]
  },
  {
   "cell_type": "code",
   "execution_count": 96,
   "metadata": {},
   "outputs": [
    {
     "data": {
      "text/plain": [
       "-9.51619735392994e-16"
      ]
     },
     "execution_count": 96,
     "metadata": {},
     "output_type": "execute_result"
    }
   ],
   "source": [
    "A = np.array([[1, 2, 3], [4, 5, 6], [7, 8, 9]])\n",
    "# 행렬식 구하는 함수\n",
    "np.linalg.det(A)"
   ]
  },
  {
   "cell_type": "code",
   "execution_count": 97,
   "metadata": {
    "scrolled": true
   },
   "outputs": [
    {
     "data": {
      "text/plain": [
       "array([[1, 1, 0],\n",
       "       [0, 1, 1],\n",
       "       [1, 1, 1]])"
      ]
     },
     "execution_count": 97,
     "metadata": {},
     "output_type": "execute_result"
    }
   ],
   "source": [
    "A = np.array([[1, 1, 0], [0, 1, 1], [1, 1, 1]])\n",
    "A"
   ]
  },
  {
   "cell_type": "code",
   "execution_count": 98,
   "metadata": {
    "scrolled": true
   },
   "outputs": [
    {
     "data": {
      "text/plain": [
       "array([[ 0., -1.,  1.],\n",
       "       [ 1.,  1., -1.],\n",
       "       [-1.,  0.,  1.]])"
      ]
     },
     "execution_count": 98,
     "metadata": {},
     "output_type": "execute_result"
    }
   ],
   "source": [
    "Ainv = np.linalg.inv(A)\n",
    "Ainv"
   ]
  },
  {
   "cell_type": "code",
   "execution_count": 99,
   "metadata": {},
   "outputs": [
    {
     "data": {
      "text/plain": [
       "array([[1., 0., 0.],\n",
       "       [0., 1., 0.],\n",
       "       [0., 0., 1.]])"
      ]
     },
     "execution_count": 99,
     "metadata": {},
     "output_type": "execute_result"
    }
   ],
   "source": [
    "A @ Ainv"
   ]
  },
  {
   "cell_type": "markdown",
   "metadata": {},
   "source": [
    "## 1.4 선형 연립방정식(system of linear equations)"
   ]
  },
  {
   "cell_type": "markdown",
   "metadata": {},
   "source": [
    "### 1.4.1 선형 연립방정식"
   ]
  },
  {
   "cell_type": "markdown",
   "metadata": {},
   "source": [
    "$\n",
    "x+y+z+u+v=1\\\\\n",
    "x+2y+3z+4u+5v=2\\\\\n",
    "x+3y+6z+10u+15v=3\\\\\n",
    "x+4y+10z+20u+35v=4\\\\\n",
    "x+5y+15z+35u+70v=5\n",
    "$"
   ]
  },
  {
   "cell_type": "markdown",
   "metadata": {},
   "source": [
    "$A=\\begin{bmatrix}\n",
    "1 & 1 & 1 & 1 & 1\\\\\n",
    "1 & 2 & 3 & 4 & 5\\\\\n",
    "1 & 3 & 6 & 10 & 15\\\\\n",
    "1 & 4 & 10 & 20 & 35\\\\\n",
    "1 & 5 & 15 & 35 & 90\n",
    "\\end{bmatrix}$\n",
    "$x=\\begin{bmatrix}x\\\\y\\\\z\\\\u\\\\v\\end{bmatrix}$\n",
    "$b=\\begin{bmatrix}1\\\\2\\\\3\\\\4\\\\5\\end{bmatrix}$<br><br>\n",
    "$Ax=b$<br>\n",
    "$A$가 가역행렬일 경우 $x=A^{-1}b$으로 근 $x$를 구할 수 있습니다."
   ]
  },
  {
   "cell_type": "code",
   "execution_count": null,
   "metadata": {},
   "outputs": [],
   "source": [
    "# 가역행렬이면 역행렬을 구 할 수 있다. \n",
    "# 가역행렬 조건은 : 정방행렬, detA (numpy det 함수이용)"
   ]
  },
  {
   "cell_type": "markdown",
   "metadata": {},
   "source": [
    "### 1.4.2 가우스 소거법(Gaussian elimination)"
   ]
  },
  {
   "cell_type": "markdown",
   "metadata": {},
   "source": [
    "가우스 소거법은 **전진 소거(forward elimination) 대입법**을 활용한 역대입(back substitution)으로 주어진 선형 연립방정식의 해를 구하는 방법입니다."
   ]
  },
  {
   "cell_type": "markdown",
   "metadata": {},
   "source": [
    "$x_{1}, x_{2}, \\cdots, x_{n}$에 대한 선형 연립방정식의 근은 가우스 소거법으로 구할 수 있습니다.<br><br>\n",
    "$a_{11}x_{1}+a_{12}x_{2}+\\cdots+a_{1n}x_{n}=b_{1}$<br>\n",
    "$a_{21}x_{1}+a_{22}x_{2}+\\cdots+a_{2n}x_{n}=b_{2}$<br>\n",
    "$\\qquad\\qquad\\qquad\\vdots$<br>\n",
    "$a_{n1}x_{1}+a_{n2}x_{2}+\\cdots+a_{nn}x_{n}=b_{n}$<br><br>\n",
    "첫 번째 방정식을 피벗 방정식(pivot equation), $x_{1}$의 계수인 $a_{11}$을 첫 번째 피벗 성분(pivot element)이라 합니다.<br>\n",
    "피벗 방정식과 피벗 성분은 변수를 하나씩 소거할 때마다 바뀝니다.<br><br>\n",
    "**전진소거**: 가감법을 통해 위의 식에서 $x_{1}, x_{2}, \\cdots, x_{n-1}$의 계수들을 차례대로 소거해 상삼각 형태로 만듭니다.<br><br>\n",
    "$a_{11}x_{1}+a_{12}x_{2}+\\cdots+a_{1n}x_{n}=b_{1}$<br>\n",
    "$\\qquad\\quad a^{'}_{22}x_{2}+\\cdots+a^{'}_{2n}x_{n}=b^{'}_{2}$<br>\n",
    "$\\qquad\\qquad\\qquad\\qquad\\quad\\vdots$<br>\n",
    "$\\qquad\\qquad\\qquad\\qquad a^{'}_{nn}x^{'}_{n}=b^{'}_{n}$<br><br>\n",
    "**역대입**: 전진소거로 만든 상삼걱 형태의 맨 아래 방정식부터 대입법을 통해 $x_{n}, x_{n-1}, \\cdots, x_{1}$을 차례대로 구합니다.<br><br>"
   ]
  },
  {
   "cell_type": "code",
   "execution_count": 76,
   "metadata": {},
   "outputs": [],
   "source": [
    "# 정방행렬이 전재이다. an * xn"
   ]
  },
  {
   "cell_type": "markdown",
   "metadata": {},
   "source": [
    "미지수가 3개인 선형 연립방정식을 가우스 소거법으로 풀어봅시다.  \n",
    "변수가 3개 이면 방정식도 3개 이어야 한다. <br><br>\n",
    "$\\ \\ \\ 2x_{1}-\\ \\ x_{2}+\\ \\ x_{3}=2$<br>\n",
    "$\\ \\ \\ 6x_{1}+\\ \\ x_{2}+2x_{3}=1$<br>\n",
    "$-4x_{1}+6x_{2}+2x_{3}=1$<br>"
   ]
  },
  {
   "cell_type": "markdown",
   "metadata": {},
   "source": [
    "#### 전진소거"
   ]
  },
  {
   "cell_type": "markdown",
   "metadata": {},
   "source": [
    "목적은 $x_{1}$ 과 $x_{2}$를 차례대로 소거하는 것입니다.<br>\n",
    "우선 두 번째, 세 번째 선형 연립방정식에서 $x_{1}$을 없앱니다.<br>\n",
    "첫 번째 방정식에서 3을 곱한 다음 두 번째 방정식에서 이를 빼고,   \n",
    "첫 번째 방정식에 2를 곱한 다음 세 번째 방정식에서 이를 더하면 $x_{1}$을 제거한 선형 연립방정식을 얻습니다.<br><br>\n",
    "$(6x_{1}-3x_{2}+3x_{3}=6)-(-6x_{1}+x_{2}+2x_{3}=1) => 4x_{2}-x_{3}=-5$<br>\n",
    "$(4x_{1}-2x_{2}+2x_{3}=4)+(-4x_{1}+6x_{2}+2x_{3}=1) => 4x_{2}+4x_{3}=5$<br><br>\n",
    "다음은 첫 번째 유도 방정식에서 두 번째 유도 방정식을 빼 $x_{2}$를 소거합니다.<br><br>\n",
    "$(4x_{2}+4x_{3}=5)-(4x_{2}-x_{3}=-5)=>5x_{3}=10$ <br><br>\n",
    "전진소거를 마무리하면 상삼각(upper triangle)형태의 최종 연립방정식을 얻게 됩니다.  \n",
    "즉 전진소거는 주어진 선형 연립방정식을 상삼각 형태로 정리하는 과정입니다.<br><br>\n",
    "$2x_{1}-\\ \\ x_{2}+x_{3}=\\ \\ 2$<br>\n",
    "$\\qquad\\ \\ 4x_{2}-x_{3}=-5$<br>\n",
    "$\\qquad\\qquad\\ \\ 5x_{3}=10$"
   ]
  },
  {
   "cell_type": "markdown",
   "metadata": {},
   "source": [
    "#### 역대입"
   ]
  },
  {
   "cell_type": "markdown",
   "metadata": {},
   "source": [
    "상삼각 형태로 정리한 식을 푸는 것이 역대입입니다.<br><br>\n",
    "$x_{3}=2$<br>\n",
    "$x_{2}=-\\frac{3}{4}$<br>\n",
    "$x_{1}=-\\frac{3}{8}$<br>"
   ]
  },
  {
   "cell_type": "markdown",
   "metadata": {},
   "source": [
    "### 1.4.3 미지수와 방정식의 수"
   ]
  },
  {
   "cell_type": "markdown",
   "metadata": {},
   "source": [
    "연립방정식은 다음의 세 종류가 있을 수 있습니다.<br><br>\n",
    "1)방정식의 수가 미지수의 수와 같다. ($n=m$)<br>\n",
    "2)방정식의 수가 미지수의 수보다 적다. ($n<m$) <=(무수히 많은 해가 존재 할 수 있다)<br>\n",
    "3)방정식의 수가 미지수의 수보다 많다. ($n>m$) <=(만족하는 해가 없을 수가 있다)<br>"
   ]
  },
  {
   "cell_type": "markdown",
   "metadata": {},
   "source": [
    "2)의 경우 무수히 많은 해가 존재할 수 있으며, 3)의 경우는 모든 조건을 만족하는 해가 없을 수 있습니다.  \n",
    "\n",
    "선형예측모델을 구하는 문제는 계수행렬이 특징행렬 $X$, 미지수벡터가 가중치벡터 $w$인 선형 연립방정식 문제입니다.  \n",
    "일반적으로 데이터 수는 입력차원보다 크므로 3)과 같은 경우에 해당합니다.  \n",
    "이 때는 선형 연립방정식의 해가 존재하지 않을 수 있으므로 선형 연립방정식을 푸는 방식으로는 선형예측모델의 가중치벡터를 구할 수 없습니다. <br> "
   ]
  },
  {
   "cell_type": "markdown",
   "metadata": {},
   "source": [
    "#### 최소자승문제 (최소제곱법)"
   ]
  },
  {
   "cell_type": "markdown",
   "metadata": {},
   "source": [
    "$x_{1}+x_{2}\\quad\\ \\ \\ \\ \\ \\ =2$<br>\n",
    "$\\quad\\ \\ \\ \\ x_{2}+\\ \\ x_{3}=2$<br>\n",
    "$x_{1}+x_{2}+\\ \\ x_{3}=3$<br>\n",
    "$x_{1}+x_{2}+2x_{3}=4.1$<br><br>\n",
    "이 마지막 연립방정식의 해는 존재하지 않는다 그래서 최소자승법을 이용해서 접근!!!<br><br>\n",
    "양변이 반드시 정확히 같지 않아도 된다면, $x_{1}=x_{2}=x_{3}=1$을 방정식에 대입하면 다음과 같은 결과를 볼 수 있습니다.<br><br>\n",
    "$x_{1}+x_{2}\\quad\\ \\ \\ \\ \\ \\ =2$<br>\n",
    "$\\quad\\ \\ \\ \\ x_{2}+\\ \\ x_{3}=2$<br>\n",
    "$x_{1}+x_{2}+\\ \\ x_{3}=3$<br>\n",
    "$x_{1}+x_{2}+2x_{3}=4 \\approx 4.1$<br><br>\n",
    "선형예측모델에서 좌변을 예측값, 우변을 목푯값이라고 하면 상당히 비슷하게 예측한 값이라고 할 수 있습니다.<br><br>\n",
    "미지수보다 방정식의 수가 많아서 선형 연립바정식의 문제로 풀 수 없는 문제는 좌변과 우변의 차이를 최소화하는 문제로 바꾸어 풀 수 있습니다.<br> \n",
    "예측값과 목푯값의 차이를 잔차($e=Ax-b$)라고 하며, 잔차는 벡터이므로 최소자승문제는 벡터의 크기 중 벡터의 노름을 최소화하는 문제를 푸는 것입니다.  \n",
    "노름을 최소화하는 것은 노름의 제곱을 최소화하는 것과 같으므로 **잔차제곱합이 노름의 제곱**이 됩니다.<br><br>\n",
    "$e^{T}e=\\lVert e \\rVert^{2}=(Ax-b)^{T}(Ax-b)$<br><br>\n",
    "이 값을 최소화하는 $x$값의 수식은 다음과 같습니다.<br><br>\n",
    "$x=\\arg\\underset{x}{\\min}e^{T}e=\\arg\\underset{x}{\\min}(Ax-b)^{T}(Ax-b)$<br><br>"
   ]
  },
  {
   "cell_type": "code",
   "execution_count": 77,
   "metadata": {},
   "outputs": [
    {
     "data": {
      "text/plain": [
       "array([[1, 1, 0],\n",
       "       [0, 1, 1],\n",
       "       [1, 1, 1],\n",
       "       [1, 1, 2]])"
      ]
     },
     "execution_count": 77,
     "metadata": {},
     "output_type": "execute_result"
    }
   ],
   "source": [
    "A = np.array([[1, 1, 0], [0, 1, 1], [1, 1, 1], [1, 1, 2]])\n",
    "A #  linear equation"
   ]
  },
  {
   "cell_type": "code",
   "execution_count": 79,
   "metadata": {},
   "outputs": [
    {
     "data": {
      "text/plain": [
       "array([[2],\n",
       "       [2],\n",
       "       [3],\n",
       "       [4]])"
      ]
     },
     "execution_count": 79,
     "metadata": {},
     "output_type": "execute_result"
    }
   ],
   "source": [
    "# b = np.array([[2], [2], [3], [4.1]])\n",
    "b = np.array([2, 2, 3, 4]).reshape(4, 1)\n",
    "b # target vector"
   ]
  },
  {
   "cell_type": "code",
   "execution_count": 80,
   "metadata": {},
   "outputs": [
    {
     "data": {
      "text/plain": [
       "array([[ 0.33333333, -1.        ,  0.33333333,  0.33333333],\n",
       "       [ 0.5       ,  1.        ,  0.        , -0.5       ],\n",
       "       [-0.5       ,  0.        ,  0.        ,  0.5       ]])"
      ]
     },
     "execution_count": 80,
     "metadata": {},
     "output_type": "execute_result"
    }
   ],
   "source": [
    "# 정규방정식 : 비용함수 (잔차의 제곱합을 최소로하는 값을 찾기위한 해석적 방법)\n",
    "Apinv = np.linalg.inv(A.T @ A) @ A.T\n",
    "Apinv"
   ]
  },
  {
   "cell_type": "code",
   "execution_count": 81,
   "metadata": {},
   "outputs": [
    {
     "data": {
      "text/plain": [
       "array([[1.],\n",
       "       [1.],\n",
       "       [1.]])"
      ]
     },
     "execution_count": 81,
     "metadata": {},
     "output_type": "execute_result"
    }
   ],
   "source": [
    "# 계수를 구함\n",
    "x = Apinv @ b\n",
    "x"
   ]
  },
  {
   "cell_type": "code",
   "execution_count": 82,
   "metadata": {},
   "outputs": [
    {
     "data": {
      "text/plain": [
       "array([[2.],\n",
       "       [2.],\n",
       "       [3.],\n",
       "       [4.]])"
      ]
     },
     "execution_count": 82,
     "metadata": {},
     "output_type": "execute_result"
    }
   ],
   "source": [
    "# 예측 값을 구함 \n",
    "A @ x"
   ]
  },
  {
   "cell_type": "code",
   "execution_count": 105,
   "metadata": {},
   "outputs": [
    {
     "data": {
      "text/plain": [
       "array([[1.03333333],\n",
       "       [0.95      ],\n",
       "       [1.05      ]])"
      ]
     },
     "execution_count": 105,
     "metadata": {},
     "output_type": "execute_result"
    }
   ],
   "source": [
    "# 넘파이에서 함수로 제공. 한번에 계수와 예측값을 한번에 구할 수 있다.\n",
    "# x     : 예측값\n",
    "# resid : 계수, 잔차\n",
    "# rank  : \n",
    "# s     : \n",
    "x, resid, rank, s = np.linalg.lstsq(A, b)\n",
    "x"
   ]
  },
  {
   "cell_type": "code",
   "execution_count": 106,
   "metadata": {},
   "outputs": [
    {
     "name": "stdout",
     "output_type": "stream",
     "text": [
      "[0.00166667]\n",
      "0.0016666666666666698\n"
     ]
    }
   ],
   "source": [
    "print(resid) \n",
    "print(np.linalg.norm(A @ x - b) ** 2)"
   ]
  },
  {
   "cell_type": "code",
   "execution_count": null,
   "metadata": {},
   "outputs": [],
   "source": []
  }
 ],
 "metadata": {
  "interpreter": {
   "hash": "ef7f9a8012d9131766e31894c279374cc63c73121ed4db3b9e67a294a4bf0e74"
  },
  "kernelspec": {
   "display_name": "test",
   "language": "python",
   "name": "test"
  },
  "language_info": {
   "codemirror_mode": {
    "name": "ipython",
    "version": 3
   },
   "file_extension": ".py",
   "mimetype": "text/x-python",
   "name": "python",
   "nbconvert_exporter": "python",
   "pygments_lexer": "ipython3",
   "version": "3.8.13"
  },
  "latex_envs": {
   "LaTeX_envs_menu_present": true,
   "autoclose": false,
   "autocomplete": true,
   "bibliofile": "biblio.bib",
   "cite_by": "apalike",
   "current_citInitial": 1,
   "eqLabelWithNumbers": true,
   "eqNumInitial": 1,
   "hotkeys": {
    "equation": "Ctrl-E",
    "itemize": "Ctrl-I"
   },
   "labels_anchors": false,
   "latex_user_defs": false,
   "report_style_numbering": false,
   "user_envs_cfg": false
  },
  "toc": {
   "base_numbering": 1,
   "nav_menu": {},
   "number_sections": false,
   "sideBar": true,
   "skip_h1_title": false,
   "title_cell": "Table of Contents",
   "title_sidebar": "Contents",
   "toc_cell": false,
   "toc_position": {},
   "toc_section_display": true,
   "toc_window_display": false
  }
 },
 "nbformat": 4,
 "nbformat_minor": 4
}
