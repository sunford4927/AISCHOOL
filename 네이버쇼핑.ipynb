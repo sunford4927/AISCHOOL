{
 "cells": [
  {
   "cell_type": "code",
   "execution_count": 2,
   "id": "57ff9b31-f83c-4c63-9d8c-c9ace0cff66f",
   "metadata": {},
   "outputs": [
    {
     "name": "stdout",
     "output_type": "stream",
     "text": [
      "Apple 아이폰 13 256GB [자급제] 1,130,000원 https://cr.shopping.naver.com/adcr.nhn?x=YuL0MxmBD7Nw2BCigqgP%2B%2F%2F%2F%2Fw%3D%3Ds7veDsz1djLLeEwL%2FrYaxZd%2Fyb0yWz%2BSHAa%2F9MKF1s2AbsBKbbjTB%2BBCjsLv6tz%2BjlBLHKK756koE9toB6Iu99DD4MrOQJ5qNuingZYrK8QgUmvJpgP5soOAaW45jJTkX%2FO1lE63jtScLiSlCOSL0yEgAn8lD2%2BxrgblrBqYwPdWug%2B9sjA7rHdeMLkY%2BwIMUQUzDYPs6sIAQ2akrCEq2IDQZD6UDT51Dg8nNb9lI8fV%2BFLPJmN7kd5F0maTGsL0c5ylRHzgdK3XDDNp%2F%2BT6%2FkTzjQJjaKBBuB5s%2BUphN%2FKmk6v2w9jBqMGR4TTsgYaQnlII%2ByYYqWVu3SSXxcjEJdJ0ZsF4JVpx4pXwp8tRalRNqLzcRVswO%2FNXTrA15l4GNbF4OZVL2Q%2FcwuxYvViSTh0PddSuWrw2n2TgdroUT%2BYCcPfwzF9ktWcxdrcTtO8KUh7eRXhvx%2B18MP%2FzLgC0qJUpI4PyUhwN6R7rFKOqZdQslDv77rgQoH8LCOsgmhGGjYvI8NZGDKVgT3owfgSQvZm20mBzbmRIpcidYkm02S9sNauEcRynSn%2F8orOK7nc904PJAKTNY1uUg7BKh%2B%2FGUgz48WYg2WnFU%2FXpjtD9tUZ5WhZ3SMHTcLlpircdRzUgq1JIslBmdxaTx7xO1%2BPPoWw%3D%3D&nvMid=29029192591&catId=50001519\n",
      "Apple 아이폰 13 프로 256GB [자급제] 1,394,760원 https://cr.shopping.naver.com/adcr.nhn?x=vW1ZdTsVrjM9ojw%2ByKZCw%2F%2F%2F%2Fw%3D%3Ds91j%2FCcsyHuL1DSELCR3GE3IN0Ejz7F3D6m4OnECupTEbsBKbbjTB%2BBCjsLv6tz%2BjsTE53rr3vuLxXDT%2BtnNTEtneSzocuusHwnhLU%2BiMM8EUmvJpgP5soOAaW45jJTkX%2FO1lE63jtScLiSlCOSL0yEgAn8lD2%2BxrgblrBqYwPdWug%2B9sjA7rHdeMLkY%2BwIMUBoJ3D2%2FUDVKv9Br5lu%2FNPDQZD6UDT51Dg8nNb9lI8fV%2BFLPJmN7kd5F0maTGsL0c5ylRHzgdK3XDDNp%2F%2BT6%2FkTzjQJjaKBBuB5s%2BUphN%2FKmk6v2w9jBqMGR4TTsgYaQnlII%2ByYYqWVu3SSXxcjEJdOiHnbBEGkSSw6D9rwxFmuJqLzcRVswO%2FNXTrA15l4GNbF4OZVL2Q%2FcwuxYvViSTh0E9aMCpk%2FCUyAqM9nV%2BMhucPfwzF9ktWcxdrcTtO8KUh7eRXhvx%2B18MP%2FzLgC0qJXTg%2FsEJVpHzqP6kybO7iXl1I8EDCh5n2RBrPUf%2BYM4BX8a%2FHvPOPEuDd1Ce%2FzZYNfQjfdVLKsO%2Bcp43QfUiJ1nCtmbLQ3udOmJMEKGUTJNlfv4pYkwV6e5PPw6oe0n9AA7ij1c3lVhmGZNBqCTl5F5WhZ3SMHTcLlpircdRzUgq1JIslBmdxaTx7xO1%2BPPoWw%3D%3D&nvMid=29030492586&catId=50001519\n",
      "Apple 아이폰 13 프로 128GB [자급제] 1,292,150원 https://cr.shopping.naver.com/adcr.nhn?x=w4JJIQrfIpdtepj745Ig%2F%2F%2F%2F%2Fw%3D%3DsaOG72eAo64YjiS7i6OueNvN6fWCsyvyUANuNMxJcPHsbsBKbbjTB%2BBCjsLv6tz%2Bj2Yoqp88%2BoDktxlZL48nT45%2FctJOI5N9T9pLFfIpNONUUmvJpgP5soOAaW45jJTkX%2FO1lE63jtScLiSlCOSL0yEgAn8lD2%2BxrgblrBqYwPdWug%2B9sjA7rHdeMLkY%2BwIMU07oJ3o0uS6qCsqzVDCUSCzQZD6UDT51Dg8nNb9lI8fV%2BFLPJmN7kd5F0maTGsL0c5ylRHzgdK3XDDNp%2F%2BT6%2FkTzjQJjaKBBuB5s%2BUphN%2FKmk6v2w9jBqMGR4TTsgYaQnlII%2ByYYqWVu3SSXxcjEJdOKPXZ3oshuSAoDp%2BjMQje1qLzcRVswO%2FNXTrA15l4GNbF4OZVL2Q%2FcwuxYvViSThyV5D4SUbxgjy9f63GO3SxOcPfwzF9ktWcxdrcTtO8KUh7eRXhvx%2B18MP%2FzLgC0qJRZQL3TdB6ucCZA%2FS9JD78J1I8EDCh5n2RBrPUf%2BYM4BX8a%2FHvPOPEuDd1Ce%2FzZYNS2PY0%2BfUfkhzOJUzID0cYyKcF5eB8zcSAAYDYmpQvNkyD9SHVzxR71Wjlvmga%2FOrzkAU3iJFr3QAbeb5KPVNtlWhZ3SMHTcLlpircdRzUgq1JIslBmdxaTx7xO1%2BPPoWw%3D%3D&nvMid=29030420587&catId=50001519\n",
      "Apple 아이폰 13 미니 128GB [자급제] 921,490원 https://cr.shopping.naver.com/adcr.nhn?x=bSIzM4wYrfD5O8AnrhUbIf%2F%2F%2Fw%3D%3Dsnbcjix8iH4%2FKNE4Eh6fStNeRER6N3X5wiRptIyGSyb1hJz9H0Ub4KLvuVTVtNMxMMBjh19Vsiq6fSCP0BuLNoYwQK046ly4GASrOjR2G%2FMrGlDHp%2BhUXXO%2BQSpRE2AG4paGq1JR7iAPTs2mXfh2pHMi30QtKP1mA7BYZPpxeJLexWvZfe2todmJfmpbNrXnq2drsUEzev9hA0cDt%2BuxFM7ix7jXt7MNVc9AIu4EfDZlNEwRr%2B3STfYHGn%2FB5b3e47Czozhy2ApsG5SPxheTD9wz3XIbQjIBjhW72zN7nVpQQhkkHXK4%2FmSRy5icYE%2F27BW36r4QZshREfg%2B3vq7RNgGoIN7B2rCZQwezJibznV86JIeyjRJJG8AQSjlBThBKRuaDR2LrEXFDwvTptY5wkcYqO5oldvJYwA5gmzBmIm8iNvEAyH7XT6ObGe95mRdUsw%2FEBFoDxdMAZ4HSpGP%2F1rj13FcqfSWDfp5diy8RVZgi5HSrzhhCOMWuXdZxvGXvk9L6rt0SOVsUsc5EylGdlczufJUUAObahJseVdEEbefvW2q1ZBpuV%2F%2FvtKUgTGHn4nsDwEYKXwYpA24uUoxbNuzMfDfQLyUcFV9T7U99cXjNjqh%2FZemCCOboDhnweAmG&nvMid=29030650586&catId=50001519\n",
      "Apple 아이폰 13 128GB [자급제] 1,024,650원 https://cr.shopping.naver.com/adcr.nhn?x=TSHpmZsI34Z%2FsTiETF3YJv%2F%2F%2Fw%3D%3DsJudusjyVMhsy1c%2Bu%2FASyYpDz1snn0JBRso%2FhkSrC2fdhJz9H0Ub4KLvuVTVtNMxMJPGtazASo8XON%2BiPBCxitIwQK046ly4GASrOjR2G%2FMrGlDHp%2BhUXXO%2BQSpRE2AG4paGq1JR7iAPTs2mXfh2pHMi30QtKP1mA7BYZPpxeJLexWvZfe2todmJfmpbNrXnqNGdmVqT0qJ11casXr%2FJUjrix7jXt7MNVc9AIu4EfDZlNEwRr%2B3STfYHGn%2FB5b3e47Czozhy2ApsG5SPxheTD9wz3XIbQjIBjhW72zN7nVpQQhkkHXK4%2FmSRy5icYE%2F27BW36r4QZshREfg%2B3vq7RNrkuSt4EQZc%2BL6jx52QmohM6JIeyjRJJG8AQSjlBThBKRuaDR2LrEXFDwvTptY5wkYlqjdwzO%2FwaMzYHXwUxQCkiNvEAyH7XT6ObGe95mRdUsw%2FEBFoDxdMAZ4HSpGP%2F1pKTb8buH5c0P7SGbDtxloeE4FQdvRmo7oxOSvwywmchv2RrNvQoxhdtPAq%2B9LODbao4bnv46ZjPJ4gr8WYC%2BjURpOFzCbaM6OU97uoPifjrhAh%2B3uBXvvywuNX5%2BJR4NV6cBKU1jugTLRJ5GldDmNIdHI8FZtQVGFZJxOyBDKc%2B&nvMid=29030374587&catId=50001519\n"
     ]
    }
   ],
   "source": [
    "from selenium import webdriver\n",
    "from selenium.webdriver.common.by import By\n",
    "from selenium.webdriver.common.keys import Keys\n",
    "from selenium.webdriver.chrome.options import Options\n",
    "import time\n",
    "import warnings\n",
    "\n",
    "chrome_options = Options()\n",
    "chrome_options.add_experimental_option(\"excludeSwitches\", [\"enable-logging\"]) # 셀레니움 로그 무시\n",
    "warnings.filterwarnings(\"ignore\", category=DeprecationWarning) # Deprecated warning 무시 \n",
    "\n",
    "browser = webdriver.Chrome(options = chrome_options)\n",
    "browser.get('https://www.naver.com')\n",
    "browser.implicitly_wait(2) #로딩이 끝날동안 2초 기다린다\n",
    "\n",
    "browser.find_element(By.CSS_SELECTOR, 'a.nav.shop').click() #쇼핑메뉴 클릭\n",
    "time.sleep(2)\n",
    "\n",
    "#검색창 클릭\n",
    "search = browser.find_element(By.CSS_SELECTOR, 'input._searchInput_search_input_QXUFf')\n",
    "search.click()\n",
    "\n",
    "#검색어 입력\n",
    "search.send_keys('아이폰 13')\n",
    "search.send_keys(Keys.ENTER)\n",
    "\n",
    "#무한 스크롤\n",
    "# before_h = browser.execute_script(\"return window.scrollY\")\n",
    "# while True:\n",
    "#     browser.find_element(By.CSS_SELECTOR, 'body').send_keys(Keys.END) #맨 아래로 스크롤 내림\n",
    "#     time.sleep(2) #스크롤 사이 페이지 로딩 시간\n",
    "#     after_h = browser.execute_script(\"return window.scrollY\")\n",
    "#     if after_h == before_h:\n",
    "#         break\n",
    "#     before_h = after_h\n",
    "\n",
    "#상품 정보 div\n",
    "items = browser.find_elements(By.CSS_SELECTOR, '.basicList_info_area__17Xyo')\n",
    "for item in items:\n",
    "    name = item.find_element(By.CSS_SELECTOR, '.basicList_title__3P9Q7').text\n",
    "    try:\n",
    "        price = item.find_element(By.CSS_SELECTOR, '.price_num__2WUXn').text\n",
    "    except:\n",
    "        price = \"판매중단\"\n",
    "    link = item.find_element(By.CSS_SELECTOR, '.basicList_title__3P9Q7 > a').get_attribute('href')\n",
    "    print(name, price, link)"
   ]
  },
  {
   "cell_type": "code",
   "execution_count": 3,
   "id": "fa45a527-e961-4951-a91b-6445d0a1af3f",
   "metadata": {},
   "outputs": [
    {
     "data": {
      "text/plain": [
       "[<selenium.webdriver.remote.webelement.WebElement (session=\"7e393c749fbe5682c1d1aec80bb7b74f\", element=\"fc8e1520-c724-4b26-8928-2795318e9f9e\")>,\n",
       " <selenium.webdriver.remote.webelement.WebElement (session=\"7e393c749fbe5682c1d1aec80bb7b74f\", element=\"855dae5e-4d20-4558-b11a-b4f4c42c7f21\")>,\n",
       " <selenium.webdriver.remote.webelement.WebElement (session=\"7e393c749fbe5682c1d1aec80bb7b74f\", element=\"96e2a0dc-2f99-44fb-bdfb-8e52296c774d\")>,\n",
       " <selenium.webdriver.remote.webelement.WebElement (session=\"7e393c749fbe5682c1d1aec80bb7b74f\", element=\"1fb8bf74-047d-4db4-9725-957cc09b36fa\")>,\n",
       " <selenium.webdriver.remote.webelement.WebElement (session=\"7e393c749fbe5682c1d1aec80bb7b74f\", element=\"b52909cf-8d1f-48c8-9721-fbe1a607a2a7\")>]"
      ]
     },
     "execution_count": 3,
     "metadata": {},
     "output_type": "execute_result"
    }
   ],
   "source": [
    "items"
   ]
  },
  {
   "cell_type": "code",
   "execution_count": 4,
   "id": "7c8c26f1-1613-46e3-abc1-dabd56e685f6",
   "metadata": {},
   "outputs": [
    {
     "data": {
      "text/plain": [
       "<selenium.webdriver.remote.webelement.WebElement (session=\"7e393c749fbe5682c1d1aec80bb7b74f\", element=\"b52909cf-8d1f-48c8-9721-fbe1a607a2a7\")>"
      ]
     },
     "execution_count": 4,
     "metadata": {},
     "output_type": "execute_result"
    }
   ],
   "source": [
    "item"
   ]
  },
  {
   "cell_type": "code",
   "execution_count": 5,
   "id": "f36c56e2-bf31-4868-a171-4f873339c34f",
   "metadata": {},
   "outputs": [
    {
     "data": {
      "text/plain": [
       "'Apple 아이폰 13 128GB [자급제]'"
      ]
     },
     "execution_count": 5,
     "metadata": {},
     "output_type": "execute_result"
    }
   ],
   "source": [
    "name"
   ]
  },
  {
   "cell_type": "code",
   "execution_count": null,
   "id": "ad478adf-eba3-411d-ae10-683697f775ed",
   "metadata": {},
   "outputs": [],
   "source": []
  }
 ],
 "metadata": {
  "kernelspec": {
   "display_name": "Python 3 (ipykernel)",
   "language": "python",
   "name": "python3"
  },
  "language_info": {
   "codemirror_mode": {
    "name": "ipython",
    "version": 3
   },
   "file_extension": ".py",
   "mimetype": "text/x-python",
   "name": "python",
   "nbconvert_exporter": "python",
   "pygments_lexer": "ipython3",
   "version": "3.9.12"
  }
 },
 "nbformat": 4,
 "nbformat_minor": 5
}
